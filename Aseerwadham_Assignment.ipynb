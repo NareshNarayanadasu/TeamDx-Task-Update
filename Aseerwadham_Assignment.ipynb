{
 "cells": [
  {
   "cell_type": "code",
   "execution_count": 9,
   "id": "5e198ebb-58d3-449d-b32f-19d372b3d540",
   "metadata": {},
   "outputs": [
    {
     "name": "stdin",
     "output_type": "stream",
     "text": [
      "Enter number of people:  100\n",
      "Enter number of seats per bus:  2\n"
     ]
    },
    {
     "name": "stdout",
     "output_type": "stream",
     "text": [
      "50.0\n"
     ]
    }
   ],
   "source": [
    "Number_of_People = input(\"Enter number of people: \")\n",
    "Number_of_Seats_Per_Bus = input(\"Enter number of seats per bus: \")\n",
    "P = int(Number_of_People)\n",
    "S = int(Number_of_Seats_Per_Bus)\n",
    "print(P/S)"
   ]
  },
  {
   "cell_type": "code",
   "execution_count": 13,
   "id": "feade82f-1c77-4371-a73b-64cd8cc87f0d",
   "metadata": {},
   "outputs": [
    {
     "name": "stdin",
     "output_type": "stream",
     "text": [
      "Take temperature from user:  100\n"
     ]
    },
    {
     "name": "stdout",
     "output_type": "stream",
     "text": [
      "212.0\n"
     ]
    }
   ],
   "source": [
    "User_Temperature = input(\"Take temperature from user: \")\n",
    "C = float(User_Temperature)\n",
    "F = (C * 9/5) + 32\n",
    "print(F)"
   ]
  },
  {
   "cell_type": "code",
   "execution_count": 15,
   "id": "3ec52961-395f-49e5-8fac-a200b6fa8fe0",
   "metadata": {},
   "outputs": [
    {
     "name": "stdin",
     "output_type": "stream",
     "text": [
      "Take temperature from user:  96\n"
     ]
    },
    {
     "name": "stdout",
     "output_type": "stream",
     "text": [
      "204.8\n"
     ]
    }
   ],
   "source": [
    "User_Temperature = input(\"Take temperature from user: \")\n",
    "C = float(User_Temperature)\n",
    "F = (C * 9/5) + 32\n",
    "print(F)"
   ]
  },
  {
   "cell_type": "code",
   "execution_count": 17,
   "id": "ea79b3b8-d46a-42c3-888b-86e4bd2dcd8b",
   "metadata": {},
   "outputs": [
    {
     "name": "stdin",
     "output_type": "stream",
     "text": [
      "Enter number of people:  200\n",
      "Enter number of seats per bus:  12\n"
     ]
    },
    {
     "name": "stdout",
     "output_type": "stream",
     "text": [
      "16.666666666666668\n"
     ]
    }
   ],
   "source": [
    "Number_of_People = input(\"Enter number of people: \")\n",
    "Number_of_Seats_Per_Bus = input(\"Enter number of seats per bus: \")\n",
    "P = int(Number_of_People)\n",
    "S = int(Number_of_Seats_Per_Bus)\n",
    "print(P/S)"
   ]
  },
  {
   "cell_type": "code",
   "execution_count": 19,
   "id": "201e5205-97b0-48c8-88d8-c5e88ff6c184",
   "metadata": {},
   "outputs": [
    {
     "name": "stdin",
     "output_type": "stream",
     "text": [
      "Enter number of people:  150\n",
      "Enter number of seats per bus:  13\n"
     ]
    },
    {
     "name": "stdout",
     "output_type": "stream",
     "text": [
      "11\n"
     ]
    }
   ],
   "source": [
    "Number_of_People = input(\"Enter number of people: \")\n",
    "Number_of_Seats_Per_Bus = input(\"Enter number of seats per bus: \")\n",
    "P = int(Number_of_People)\n",
    "S = int(Number_of_Seats_Per_Bus)\n",
    "print(P//S)"
   ]
  },
  {
   "cell_type": "code",
   "execution_count": 21,
   "id": "ed8a460d-0b00-42f7-a88c-f8b52e1e0dd1",
   "metadata": {},
   "outputs": [
    {
     "name": "stdin",
     "output_type": "stream",
     "text": [
      "Take temperature from user:  100\n"
     ]
    },
    {
     "name": "stdout",
     "output_type": "stream",
     "text": [
      "37.77777777777778\n"
     ]
    }
   ],
   "source": [
    "User_Temperature = input(\"Take temperature from user: \")\n",
    "F = float(User_Temperature)\n",
    "C = 5/9 * (F-32)\n",
    "print(C)"
   ]
  },
  {
   "cell_type": "code",
   "execution_count": 23,
   "id": "6e111b9c-8a92-42cb-b2a8-4f8b96c71b73",
   "metadata": {},
   "outputs": [
    {
     "name": "stdin",
     "output_type": "stream",
     "text": [
      "Take temperature from user:  150\n"
     ]
    },
    {
     "name": "stdout",
     "output_type": "stream",
     "text": [
      "65.55555555555556\n"
     ]
    }
   ],
   "source": [
    "User_Temperature = input(\"Take temperature from user: \")\n",
    "F = float(User_Temperature)\n",
    "C = 5/9 * (F-32)\n",
    "print(C)"
   ]
  },
  {
   "cell_type": "code",
   "execution_count": 25,
   "id": "19e20eca-c07f-449d-a212-57df847e0262",
   "metadata": {},
   "outputs": [
    {
     "name": "stdin",
     "output_type": "stream",
     "text": [
      "Enter number1:  10\n",
      "Enter number2:  10\n",
      "Enter number3:  10\n",
      "Enter number4:  10\n"
     ]
    },
    {
     "ename": "TypeError",
     "evalue": "unsupported operand type(s) for ** or pow(): 'str' and 'int'",
     "output_type": "error",
     "traceback": [
      "\u001b[1;31m---------------------------------------------------------------------------\u001b[0m",
      "\u001b[1;31mTypeError\u001b[0m                                 Traceback (most recent call last)",
      "Cell \u001b[1;32mIn[25], line 5\u001b[0m\n\u001b[0;32m      3\u001b[0m x3 \u001b[38;5;241m=\u001b[39m \u001b[38;5;28minput\u001b[39m(\u001b[38;5;124m\"\u001b[39m\u001b[38;5;124mEnter number3: \u001b[39m\u001b[38;5;124m\"\u001b[39m)\n\u001b[0;32m      4\u001b[0m x4 \u001b[38;5;241m=\u001b[39m \u001b[38;5;28minput\u001b[39m(\u001b[38;5;124m\"\u001b[39m\u001b[38;5;124mEnter number4: \u001b[39m\u001b[38;5;124m\"\u001b[39m)\n\u001b[1;32m----> 5\u001b[0m \u001b[38;5;28mprint\u001b[39m((x1\u001b[38;5;241m+\u001b[39mx2)\u001b[38;5;241m*\u001b[39m\u001b[38;5;241m*\u001b[39m\u001b[38;5;241m2\u001b[39m, (x3\u001b[38;5;241m+\u001b[39mx4)\u001b[38;5;241m*\u001b[39m\u001b[38;5;241m*\u001b[39m\u001b[38;5;241m3\u001b[39m)\n",
      "\u001b[1;31mTypeError\u001b[0m: unsupported operand type(s) for ** or pow(): 'str' and 'int'"
     ]
    }
   ],
   "source": [
    "x1 = input(\"Enter number1: \")\n",
    "x2 = input(\"Enter number2: \")\n",
    "x3 = input(\"Enter number3: \")\n",
    "x4 = input(\"Enter number4: \")\n",
    "print((x1+x2)**2, (x3+x4)**3)"
   ]
  },
  {
   "cell_type": "code",
   "execution_count": 27,
   "id": "9f85be69-b02f-4372-80f8-bb93d4aa4b60",
   "metadata": {},
   "outputs": [
    {
     "name": "stdin",
     "output_type": "stream",
     "text": [
      "Enter number1:  15\n",
      "Enter number2:  15\n",
      "Enter number3:  15\n",
      "Enter number4:  15\n"
     ]
    },
    {
     "name": "stdout",
     "output_type": "stream",
     "text": [
      "900 27000\n"
     ]
    }
   ],
   "source": [
    "x1 = int(input(\"Enter number1: \"))\n",
    "x2 = int(input(\"Enter number2: \"))\n",
    "x3 = int(input(\"Enter number3: \"))\n",
    "x4 = int(input(\"Enter number4: \"))\n",
    "print((x1+x2)**2, (x3+x4)**3)"
   ]
  },
  {
   "cell_type": "code",
   "execution_count": 29,
   "id": "1a3501d7-5e9b-426c-9373-5858bc4cc18b",
   "metadata": {},
   "outputs": [
    {
     "name": "stdin",
     "output_type": "stream",
     "text": [
      "Enter number1:  10\n",
      "Enter number2:  10\n",
      "Enter number3:  10\n",
      "Enter number4:  10\n"
     ]
    },
    {
     "name": "stdout",
     "output_type": "stream",
     "text": [
      "400 8000\n"
     ]
    }
   ],
   "source": [
    "x1 = int(input(\"Enter number1: \"))\n",
    "x2 = int(input(\"Enter number2: \"))\n",
    "x3 = int(input(\"Enter number3: \"))\n",
    "x4 = int(input(\"Enter number4: \"))\n",
    "print((x1+x2)**2, (x3+x4)**3)"
   ]
  },
  {
   "cell_type": "code",
   "execution_count": 31,
   "id": "5361cb11-32e4-4fd3-9c38-9bfe5cdf8086",
   "metadata": {},
   "outputs": [],
   "source": [
    "#S^2 = (1/n-1)(xi - X^_)**2\n"
   ]
  },
  {
   "cell_type": "code",
   "execution_count": 35,
   "id": "f5c7eda3-6f74-40b4-8237-5fea435613e3",
   "metadata": {},
   "outputs": [
    {
     "name": "stdin",
     "output_type": "stream",
     "text": [
      "Enter number1:  10\n",
      "Enter number2:  10\n",
      "Enter number3:  10\n",
      "Enter number4:  10\n",
      "no. of elements:  4\n"
     ]
    },
    {
     "name": "stdout",
     "output_type": "stream",
     "text": [
      "-1518.75\n"
     ]
    }
   ],
   "source": [
    "x1 = int(input(\"Enter number1: \"))\n",
    "x2 = int(input(\"Enter number2: \"))\n",
    "x3 = int(input(\"Enter number3: \"))\n",
    "x4 = int(input(\"Enter number4: \"))\n",
    "N = int(input(\"no. of elements: \"))\n",
    "mean=float(x1+x2+x3+x4/N)\n",
    "variance=((x1-mean)**2+(x2-mean)**2+(x3-mean)**2+(x4-mean)**2)*(1/N-1)\n",
    "print(variance)"
   ]
  },
  {
   "cell_type": "code",
   "execution_count": 37,
   "id": "0fdee699-8e2f-4172-b015-d51883916e00",
   "metadata": {},
   "outputs": [
    {
     "name": "stdin",
     "output_type": "stream",
     "text": [
      "Enter number1:  15\n",
      "Enter number2:  15\n",
      "Enter number3:  15\n",
      "Enter number4:  15\n",
      "no. of elements:  4\n"
     ]
    },
    {
     "name": "stdout",
     "output_type": "stream",
     "text": [
      "-3417.1875\n"
     ]
    }
   ],
   "source": [
    "x1 = int(input(\"Enter number1: \"))\n",
    "x2 = int(input(\"Enter number2: \"))\n",
    "x3 = int(input(\"Enter number3: \"))\n",
    "x4 = int(input(\"Enter number4: \"))\n",
    "N = int(input(\"no. of elements: \"))\n",
    "mean=float(x1+x2+x3+x4/N)\n",
    "variance=((x1-mean)**2+(x2-mean)**2+(x3-mean)**2+(x4-mean)**2)*(1/N-1)\n",
    "print(variance)"
   ]
  },
  {
   "cell_type": "code",
   "execution_count": 2,
   "id": "0302ee33-db35-4fce-8272-035cebcbcaa5",
   "metadata": {},
   "outputs": [
    {
     "name": "stdin",
     "output_type": "stream",
     "text": [
      "Enter number1:  1\n",
      "Enter number2:  2\n",
      "Enter number3:  3\n",
      "Enter number4:  4\n",
      "no. of elements:  4\n"
     ]
    },
    {
     "name": "stdout",
     "output_type": "stream",
     "text": [
      "28.666666666666668\n",
      "5.354126134736337\n"
     ]
    }
   ],
   "source": [
    "x1 = int(input(\"Enter number1: \"))\n",
    "x2 = int(input(\"Enter number2: \"))\n",
    "x3 = int(input(\"Enter number3: \"))\n",
    "x4 = int(input(\"Enter number4: \"))\n",
    "N = int(input(\"no. of elements: \"))\n",
    "mean=float(x1+x2+x3+x4/N)\n",
    "variance=((x1-mean)**2+(x2-mean)**2+(x3-mean)**2+(x4-mean)**2)/(N-1)\n",
    "print(variance)\n",
    "standard_deviation = variance ** 0.5\n",
    "print(standard_deviation)"
   ]
  },
  {
   "cell_type": "code",
   "execution_count": 49,
   "id": "838084b3-2960-4977-b491-8fffc2859a0d",
   "metadata": {},
   "outputs": [
    {
     "name": "stdin",
     "output_type": "stream",
     "text": [
      "Enter number1:  1\n",
      "Enter number2:  2\n",
      "Enter number3:  3\n",
      "Enter number4:  4\n",
      "no. of elements:  4\n"
     ]
    },
    {
     "name": "stdout",
     "output_type": "stream",
     "text": [
      "28.666666666666668\n",
      "5.354126134736337\n"
     ]
    }
   ],
   "source": [
    "import math\n",
    "x1 = int(input(\"Enter number1: \"))\n",
    "x2 = int(input(\"Enter number2: \"))\n",
    "x3 = int(input(\"Enter number3: \"))\n",
    "x4 = int(input(\"Enter number4: \"))\n",
    "N = int(input(\"no. of elements: \"))\n",
    "mean=float(x1+x2+x3+x4/N)\n",
    "variance=((x1-mean)**2+(x2-mean)**2+(x3-mean)**2+(x4-mean)**2)/(N-1)\n",
    "print(variance)\n",
    "print(math.sqrt(variance))"
   ]
  },
  {
   "cell_type": "code",
   "execution_count": 8,
   "id": "91a58a98-fa13-4d02-91ab-818de860eb1f",
   "metadata": {},
   "outputs": [
    {
     "name": "stdin",
     "output_type": "stream",
     "text": [
      "Enter number1:  2\n",
      "Enter number2:  2\n",
      "Enter number3:  2\n",
      "Enter number4:  2\n",
      "no. of elements:  4\n"
     ]
    },
    {
     "name": "stdout",
     "output_type": "stream",
     "text": [
      "27.0\n",
      "5.196152422706632\n"
     ]
    }
   ],
   "source": [
    "import math\n",
    "x1 = int(input(\"Enter number1: \"))\n",
    "x2 = int(input(\"Enter number2: \"))\n",
    "x3 = int(input(\"Enter number3: \"))\n",
    "x4 = int(input(\"Enter number4: \"))\n",
    "N = int(input(\"no. of elements: \"))\n",
    "mean=float(x1+x2+x3+x4/N)\n",
    "variance=((x1-mean)**2+(x2-mean)**2+(x3-mean)**2+(x4-mean)**2)/(N-1)\n",
    "print(variance)\n",
    "print(math.sqrt(variance)) #standard_deviation = sqrt(variance)"
   ]
  },
  {
   "cell_type": "code",
   "execution_count": 10,
   "id": "cbdc35f0-5dc9-45f6-854d-e28fd263bfc3",
   "metadata": {},
   "outputs": [],
   "source": [
    "\n",
    "\n",
    "##Regression  y=mx+b"
   ]
  },
  {
   "cell_type": "code",
   "execution_count": 12,
   "id": "d6f705fd-e48a-406e-877c-5b007d81bab6",
   "metadata": {},
   "outputs": [
    {
     "name": "stdin",
     "output_type": "stream",
     "text": [
      "Enter number1:  1\n",
      "Enter number2:  2\n",
      "Enter number3:  3\n",
      "Enter number4:  4\n"
     ]
    },
    {
     "name": "stdout",
     "output_type": "stream",
     "text": [
      "12.345\n"
     ]
    }
   ],
   "source": [
    "x1 = int(input(\"Enter number1: \"))\n",
    "x2 = int(input(\"Enter number2: \"))\n",
    "x3 = int(input(\"Enter number3: \"))\n",
    "x4 = int(input(\"Enter number4: \"))\n",
    "m=1.23\n",
    "b=0.045\n",
    "y=m*(x1+x2+x3+x4)+b\n",
    "print(y)"
   ]
  },
  {
   "cell_type": "code",
   "execution_count": 14,
   "id": "a10d8cdd-612b-4ca3-9b03-f2bc04719ca2",
   "metadata": {},
   "outputs": [
    {
     "name": "stdin",
     "output_type": "stream",
     "text": [
      "Enter number1:  1\n",
      "Enter number2:  2\n",
      "Enter number3:  3\n",
      "Enter number4:  4\n",
      "no. of elements:  4\n"
     ]
    },
    {
     "name": "stdout",
     "output_type": "stream",
     "text": [
      "7.0\n"
     ]
    }
   ],
   "source": [
    "##Average\n",
    "x1 = int(input(\"Enter number1: \"))\n",
    "x2 = int(input(\"Enter number2: \"))\n",
    "x3 = int(input(\"Enter number3: \"))\n",
    "x4 = int(input(\"Enter number4: \"))\n",
    "N = int(input(\"no. of elements: \"))\n",
    "mean=float(x1+x2+x3+x4/N)\n",
    "print(mean)"
   ]
  },
  {
   "cell_type": "code",
   "execution_count": 16,
   "id": "459752e6-affe-4aaf-988c-c0806821d5f1",
   "metadata": {},
   "outputs": [],
   "source": [
    "#Find the sum of four numbers"
   ]
  },
  {
   "cell_type": "code",
   "execution_count": 20,
   "id": "3712a281-7f87-43aa-b278-c13f6a9892e5",
   "metadata": {},
   "outputs": [
    {
     "name": "stdin",
     "output_type": "stream",
     "text": [
      "Enter number1:  1\n",
      "Enter number2:  5\n",
      "Enter number3:  9\n",
      "Enter number4:  5\n"
     ]
    },
    {
     "name": "stdout",
     "output_type": "stream",
     "text": [
      "20\n"
     ]
    }
   ],
   "source": [
    "x1 = int(input(\"Enter number1: \"))\n",
    "x2 = int(input(\"Enter number2: \"))\n",
    "x3 = int(input(\"Enter number3: \"))\n",
    "x4 = int(input(\"Enter number4: \"))\n",
    "X=(x1+x2+x3+x4)\n",
    "print(X)"
   ]
  },
  {
   "cell_type": "code",
   "execution_count": 22,
   "id": "5bcce653-967e-4b25-94e9-50a200eca43a",
   "metadata": {},
   "outputs": [],
   "source": [
    "###Conversion of distance km's to multiple units"
   ]
  },
  {
   "cell_type": "code",
   "execution_count": 24,
   "id": "a3b19083-c52f-4164-a925-c2dd1789d349",
   "metadata": {},
   "outputs": [
    {
     "name": "stdin",
     "output_type": "stream",
     "text": [
      "Enter Distance in km's:  10\n"
     ]
    }
   ],
   "source": [
    "A = float(input(\"Take Distance in km's: \"))"
   ]
  },
  {
   "cell_type": "code",
   "execution_count": 30,
   "id": "120c609d-e67d-4803-a53a-134eadb34fcc",
   "metadata": {},
   "outputs": [
    {
     "name": "stdin",
     "output_type": "stream",
     "text": [
      "Enter Distance in km's:  10\n"
     ]
    },
    {
     "name": "stdout",
     "output_type": "stream",
     "text": [
      "10000.0\n"
     ]
    }
   ],
   "source": [
    "#in meters\n",
    "A = float(input(\"Take Distance in km's: \"))\n",
    "meters = A * 1000\n",
    "print(meters)"
   ]
  },
  {
   "cell_type": "code",
   "execution_count": 32,
   "id": "0fb28d69-411e-427e-ad98-5527073d9260",
   "metadata": {},
   "outputs": [
    {
     "name": "stdin",
     "output_type": "stream",
     "text": [
      "Take Distance in km's:  10\n"
     ]
    },
    {
     "name": "stdout",
     "output_type": "stream",
     "text": [
      "1000000.0\n"
     ]
    }
   ],
   "source": [
    "#in cm's\n",
    "A = float(input(\"Take Distance in km's: \"))\n",
    "centimeters = A * 1000 * 100\n",
    "print(centimeters)"
   ]
  },
  {
   "cell_type": "code",
   "execution_count": 34,
   "id": "bbf4e14f-5a4b-4275-aa2e-7a3e9daf70cf",
   "metadata": {},
   "outputs": [
    {
     "name": "stdin",
     "output_type": "stream",
     "text": [
      "Take Distance in km's:  10\n"
     ]
    },
    {
     "name": "stdout",
     "output_type": "stream",
     "text": [
      "10000000.0\n"
     ]
    }
   ],
   "source": [
    "#in mm's\n",
    "A = float(input(\"Take Distance in km's: \"))\n",
    "millimeters = A * 1000 * 100 * 10\n",
    "print(millimeters)"
   ]
  },
  {
   "cell_type": "code",
   "execution_count": 44,
   "id": "00459234-fd09-40ef-a0f8-7486554c7d3d",
   "metadata": {},
   "outputs": [
    {
     "name": "stdin",
     "output_type": "stream",
     "text": [
      "Take Distance in km's:  10\n"
     ]
    },
    {
     "name": "stdout",
     "output_type": "stream",
     "text": [
      "2471280.747\n"
     ]
    }
   ],
   "source": [
    "#1 Cent is equal to: 0.01 acre, 48.4 square yard, 435.6 sqft, 62726.440144922 square Inch, 0.4 gunta\n",
    "#24712.80747 cents = 1 sq km\n",
    "#in cents:\n",
    "A = float(input(\"Take Distance in km's: \"))\n",
    "cents = ((A**2)*24712.80747)\n",
    "print(cents)"
   ]
  },
  {
   "cell_type": "code",
   "execution_count": 40,
   "id": "5881855d-8adb-42d5-ab92-fb0fceb5d422",
   "metadata": {},
   "outputs": [
    {
     "name": "stdin",
     "output_type": "stream",
     "text": [
      "Take Distance in km's:  10\n"
     ]
    },
    {
     "name": "stdout",
     "output_type": "stream",
     "text": [
      "2471050.0\n"
     ]
    }
   ],
   "source": [
    "#Formula for converting km² to cents:\n",
    "#Cents=Area in km²×100×247.105\n",
    "A = float(input(\"Take Distance in km's: \"))\n",
    "cents = (A**2 * 100 * 247.105)\n",
    "print(cents)"
   ]
  },
  {
   "cell_type": "code",
   "execution_count": 48,
   "id": "fff27a92-4458-465b-9053-1000db80c9b8",
   "metadata": {},
   "outputs": [
    {
     "name": "stdin",
     "output_type": "stream",
     "text": [
      "Take Distance in km's:  10\n"
     ]
    },
    {
     "name": "stdout",
     "output_type": "stream",
     "text": [
      "2471050.0\n",
      "32808.373626255845\n"
     ]
    }
   ],
   "source": [
    "#Square feet=Cents×435.6\n",
    "\n",
    "A = float(input(\"Take Distance in km's: \"))\n",
    "cents = (A**2 * 100 * 247.105)\n",
    "print(cents)\n",
    "feet = ((cents * 435.6) ** 0.5)\n",
    "print(feet)"
   ]
  },
  {
   "cell_type": "code",
   "execution_count": 50,
   "id": "603a6e0a-59b3-49e4-8e25-31a317fcb12b",
   "metadata": {},
   "outputs": [
    {
     "name": "stdin",
     "output_type": "stream",
     "text": [
      "Take Distance in km's:  10\n"
     ]
    },
    {
     "name": "stdout",
     "output_type": "stream",
     "text": [
      "2471050.0\n",
      "32808.373626255845\n",
      "10936.124542085281\n"
     ]
    }
   ],
   "source": [
    "#yard = feet/3\n",
    "A = float(input(\"Take Distance in km's: \"))\n",
    "cents = (A**2 * 100 * 247.105)\n",
    "print(cents)\n",
    "feet = ((cents * 435.6) ** 0.5)\n",
    "print(feet)\n",
    "yard = (feet / 3)\n",
    "print(yard)"
   ]
  },
  {
   "cell_type": "code",
   "execution_count": 52,
   "id": "17922d3c-0bdc-4b6b-afb5-637cf9b8b33e",
   "metadata": {},
   "outputs": [
    {
     "name": "stdin",
     "output_type": "stream",
     "text": [
      "Take Distance in km's:  10\n"
     ]
    },
    {
     "name": "stdout",
     "output_type": "stream",
     "text": [
      "10000.0\n",
      "1000000.0\n",
      "10000000.0\n",
      "2471050.0\n",
      "32808.373626255845\n",
      "10936.124542085281\n"
     ]
    }
   ],
   "source": [
    "A = float(input(\"Take Distance in km's: \"))\n",
    "meters = A * 1000\n",
    "print(meters)\n",
    "centimeters = A * 1000 * 100\n",
    "print(centimeters)\n",
    "millimeters = A * 1000 * 100 * 10\n",
    "print(millimeters)\n",
    "cents = (A**2 * 100 * 247.105)\n",
    "print(cents)\n",
    "feet = ((cents * 435.6) ** 0.5)\n",
    "print(feet)\n",
    "yard = (feet / 3)\n",
    "print(yard)"
   ]
  },
  {
   "cell_type": "code",
   "execution_count": 54,
   "id": "cf2b60b0-3a89-400f-b20d-6a6e36cf89db",
   "metadata": {},
   "outputs": [],
   "source": [
    "\n",
    "\n",
    "\n",
    "##6.Take the size of your hard disk in GB, Show that in MB, KB, TB, PB"
   ]
  },
  {
   "cell_type": "code",
   "execution_count": 56,
   "id": "6624a136-f03f-4d95-8c35-e67723697090",
   "metadata": {},
   "outputs": [
    {
     "name": "stdin",
     "output_type": "stream",
     "text": [
      "Take size of hard disk in GB:  1\n"
     ]
    },
    {
     "name": "stdout",
     "output_type": "stream",
     "text": [
      "1024\n"
     ]
    }
   ],
   "source": [
    "# 1GB = 1024 MB\n",
    "Bytes = int(input(\"Take size of hard disk in GB: \"))\n",
    "mb = Bytes * 1024\n",
    "print(mb)"
   ]
  },
  {
   "cell_type": "code",
   "execution_count": 58,
   "id": "7e8cde49-a6bc-42f1-9587-c61c22c95d05",
   "metadata": {},
   "outputs": [
    {
     "name": "stdin",
     "output_type": "stream",
     "text": [
      "Take size of hard disk in GB:  10\n"
     ]
    },
    {
     "name": "stdout",
     "output_type": "stream",
     "text": [
      "10240\n"
     ]
    }
   ],
   "source": [
    "# 1GB = 1024 MB\n",
    "Bytes = int(input(\"Take size of hard disk in GB: \"))\n",
    "mb = Bytes * 1024\n",
    "print(mb)"
   ]
  },
  {
   "cell_type": "code",
   "execution_count": 60,
   "id": "5d70553c-affc-442f-914b-fe93549c0438",
   "metadata": {},
   "outputs": [
    {
     "name": "stdin",
     "output_type": "stream",
     "text": [
      "Take size of hard disk in GB:  10\n"
     ]
    },
    {
     "name": "stdout",
     "output_type": "stream",
     "text": [
      "10240\n",
      "10485760\n"
     ]
    }
   ],
   "source": [
    "# 1GB = 1,048,576 KB\n",
    "Bytes = int(input(\"Take size of hard disk in GB: \"))\n",
    "mb = Bytes * 1024\n",
    "print(mb)\n",
    "kb = Bytes * 1048576\n",
    "print(kb)"
   ]
  },
  {
   "cell_type": "code",
   "execution_count": 62,
   "id": "ce679286-10d1-4d61-b961-ed4120cb65f6",
   "metadata": {},
   "outputs": [
    {
     "name": "stdin",
     "output_type": "stream",
     "text": [
      "Take size of hard disk in GB:  10\n"
     ]
    },
    {
     "name": "stdout",
     "output_type": "stream",
     "text": [
      "10240\n",
      "10737418240\n"
     ]
    }
   ],
   "source": [
    "Bytes = int(input(\"Take size of hard disk in GB: \"))\n",
    "mb = Bytes * 1024\n",
    "print(mb)\n",
    "kb = mb * 1024 * 1024\n",
    "print(kb)"
   ]
  },
  {
   "cell_type": "code",
   "execution_count": 64,
   "id": "ae580b35-9d82-4def-a949-01f3c44688e8",
   "metadata": {},
   "outputs": [
    {
     "name": "stdin",
     "output_type": "stream",
     "text": [
      "Take size of hard disk in GB:  10\n"
     ]
    },
    {
     "name": "stdout",
     "output_type": "stream",
     "text": [
      "10240\n",
      "10737418240\n",
      "0.01\n"
     ]
    }
   ],
   "source": [
    "#1tb=1024gb\n",
    "#1gb=tb/1024\n",
    "Bytes = int(input(\"Take size of hard disk in GB: \"))\n",
    "mb = Bytes * 1024\n",
    "print(mb)\n",
    "kb = mb * 1024 * 1024\n",
    "print(kb)\n",
    "tb = Bytes * 0.001\n",
    "print(tb)"
   ]
  },
  {
   "cell_type": "code",
   "execution_count": 68,
   "id": "caddded2-0a65-4fec-8a51-c4490b6d1b45",
   "metadata": {},
   "outputs": [
    {
     "data": {
      "text/plain": [
       "0.009765625"
      ]
     },
     "execution_count": 68,
     "metadata": {},
     "output_type": "execute_result"
    }
   ],
   "source": [
    "t= 10/1024\n",
    "t"
   ]
  },
  {
   "cell_type": "code",
   "execution_count": 70,
   "id": "25990119-0d45-4661-b048-921005eac62d",
   "metadata": {},
   "outputs": [
    {
     "name": "stdin",
     "output_type": "stream",
     "text": [
      "Take size of hard disk in GB:  10\n"
     ]
    },
    {
     "name": "stdout",
     "output_type": "stream",
     "text": [
      "10240\n",
      "10737418240\n",
      "0.01\n",
      "9.999999999999999e-06\n"
     ]
    }
   ],
   "source": [
    "#1pb=1024tb\n",
    "#1pb=1024*1024gb\n",
    "Bytes = int(input(\"Take size of hard disk in GB: \"))\n",
    "mb = Bytes * 1024\n",
    "print(mb)\n",
    "kb = mb * 1024 * 1024\n",
    "print(kb)\n",
    "tb = Bytes * 0.001\n",
    "print(tb)\n",
    "pb = Bytes * 0.000001\n",
    "print(pb)"
   ]
  },
  {
   "cell_type": "code",
   "execution_count": 72,
   "id": "b1d5745e-9935-41b7-88dc-18457db23b86",
   "metadata": {},
   "outputs": [
    {
     "data": {
      "text/plain": [
       "9.5367431640625e-06"
      ]
     },
     "execution_count": 72,
     "metadata": {},
     "output_type": "execute_result"
    }
   ],
   "source": [
    "t=10/1048576\n",
    "t"
   ]
  },
  {
   "cell_type": "code",
   "execution_count": 80,
   "id": "c3ba2ace-73b2-480b-96b1-fc66a94e8ead",
   "metadata": {},
   "outputs": [
    {
     "name": "stdin",
     "output_type": "stream",
     "text": [
      "Take name:  Asee\n",
      "Take age:  26\n",
      "Take height of the person:  5.4\n"
     ]
    },
    {
     "name": "stdout",
     "output_type": "stream",
     "text": [
      "The details of the person: Name:Asee, Age:26, Height:5.4 of the person\n"
     ]
    }
   ],
   "source": [
    "\n",
    "\n",
    "#7. Take name, age, height from the user and print like below \n",
    "#The details of the person: Name:name of the person, Age:age of the person, Height:height of the person\n",
    "#Note: make sure that no space between : and a value and should be space after “COMA”\n",
    "\n",
    "Name = input(\"Take name: \")\n",
    "Age = input(\"Take age: \")\n",
    "Height = input(\"Take height of the person: \")\n",
    "person = \"The details of the person: Name:\"+Name+\", Age:\"+Age+\", Height:\"+Height+\" of the person\"\n",
    "print(person)"
   ]
  },
  {
   "cell_type": "code",
   "execution_count": 94,
   "id": "bbae231e-ba58-4c34-98fc-651a60062754",
   "metadata": {},
   "outputs": [
    {
     "name": "stdin",
     "output_type": "stream",
     "text": [
      "Take weight:  60\n",
      "Take height:  5.5\n"
     ]
    },
    {
     "ename": "TypeError",
     "evalue": "unsupported operand type(s) for /: 'str' and 'float'",
     "output_type": "error",
     "traceback": [
      "\u001b[1;31m---------------------------------------------------------------------------\u001b[0m",
      "\u001b[1;31mTypeError\u001b[0m                                 Traceback (most recent call last)",
      "Cell \u001b[1;32mIn[94], line 4\u001b[0m\n\u001b[0;32m      2\u001b[0m W \u001b[38;5;241m=\u001b[39m \u001b[38;5;28minput\u001b[39m(\u001b[38;5;124m\"\u001b[39m\u001b[38;5;124mTake weight: \u001b[39m\u001b[38;5;124m\"\u001b[39m)\n\u001b[0;32m      3\u001b[0m H \u001b[38;5;241m=\u001b[39m \u001b[38;5;28mfloat\u001b[39m(\u001b[38;5;28minput\u001b[39m(\u001b[38;5;124m\"\u001b[39m\u001b[38;5;124mTake height: \u001b[39m\u001b[38;5;124m\"\u001b[39m))\n\u001b[1;32m----> 4\u001b[0m BMI \u001b[38;5;241m=\u001b[39m (W \u001b[38;5;241m/\u001b[39m H \u001b[38;5;241m*\u001b[39m H)\n\u001b[0;32m      5\u001b[0m \u001b[38;5;28mprint\u001b[39m(BMI)\n",
      "\u001b[1;31mTypeError\u001b[0m: unsupported operand type(s) for /: 'str' and 'float'"
     ]
    }
   ],
   "source": [
    "\n",
    "\n",
    "\n",
    "###BMI= weight(kg)/height(m*m)\n",
    "W = input(\"Take weight: \")\n",
    "H = float(input(\"Take height: \"))\n",
    "BMI = (W / H ** 2)\n",
    "print(BMI)\n"
   ]
  },
  {
   "cell_type": "code",
   "execution_count": 96,
   "id": "f07d37ac-4ce7-4e3c-8e3b-e5c8fd0152fa",
   "metadata": {},
   "outputs": [
    {
     "name": "stdin",
     "output_type": "stream",
     "text": [
      "Take weight:  55\n",
      "Take height:  5\n"
     ]
    },
    {
     "name": "stdout",
     "output_type": "stream",
     "text": [
      "2.2\n"
     ]
    }
   ],
   "source": [
    "\n",
    "\n",
    "\n",
    "###BMI= weight(kg)/height(m*m)\n",
    "W = float(input(\"Take weight: \"))\n",
    "H = float(input(\"Take height: \"))\n",
    "BMI = (W / H ** 2)\n",
    "print(BMI)\n"
   ]
  },
  {
   "cell_type": "code",
   "execution_count": 98,
   "id": "590eae87-ccb6-424d-b0ed-7187e1b459c2",
   "metadata": {},
   "outputs": [
    {
     "name": "stdout",
     "output_type": "stream",
     "text": [
      "Name: Jayaram, Age: 1.6, Height: 3.54, Weight: 10.344\n"
     ]
    }
   ],
   "source": [
    "#By using above inputs print the output, Name:Jayaram, Age:1.6, Height:3.54, Weight:10.344\n",
    "#Note: Use format specifiers(%s, %d, %f)\n",
    "name = \"Jayaram\"\n",
    "age = 1.6\n",
    "height = 3.5356234\n",
    "weight = 10.343856783\n",
    "\n",
    "print(\"Name: %s, Age: %.1f, Height: %.2f, Weight: %.3f\" % (name, age, height, weight))"
   ]
  },
  {
   "cell_type": "code",
   "execution_count": 100,
   "id": "258d5901-b05f-4cc5-a1e0-05813390661b",
   "metadata": {},
   "outputs": [
    {
     "name": "stdin",
     "output_type": "stream",
     "text": [
      "Enter three uppercase letters:  APPLE BOY CAT\n"
     ]
    },
    {
     "name": "stdout",
     "output_type": "stream",
     "text": [
      "Lowercase: apple boy cat\n"
     ]
    }
   ],
   "source": [
    "\n",
    "#Convert three uppercase letters from the user to lowercase\n",
    "\n",
    "letters = input(\"Enter three uppercase letters: \")\n",
    "lowercase_letters = letters.lower()\n",
    "\n",
    "print(\"Lowercase: %s\" % lowercase_letters)\n"
   ]
  },
  {
   "cell_type": "code",
   "execution_count": 106,
   "id": "3e1f8910-f562-4372-b3c3-281603a20b4d",
   "metadata": {},
   "outputs": [
    {
     "name": "stdin",
     "output_type": "stream",
     "text": [
      "Enter the base:  2\n",
      "Enter the exponent:  3\n"
     ]
    },
    {
     "name": "stdout",
     "output_type": "stream",
     "text": [
      "Result: 2³\n"
     ]
    }
   ],
   "source": [
    "#Take base and exponent and print in mathematical form\n",
    "#example: base=2, exponent=3: 23\n",
    "#Use: 2\\u00b3\n",
    "\n",
    "base = int(input(\"Enter the base: \"))\n",
    "exponent = int(input(\"Enter the exponent: \"))\n",
    "print(\"Result: %d\\u00b3\" % base if exponent == 3 else f\"{base}^{exponent}\")"
   ]
  },
  {
   "cell_type": "code",
   "execution_count": 108,
   "id": "3ca662d5-9635-44b5-8d0d-9ec6578189ac",
   "metadata": {},
   "outputs": [
    {
     "name": "stdin",
     "output_type": "stream",
     "text": [
      "Enter number1:  12.3\n",
      "Enter number2:  25.6\n",
      "Enter number3:  15.4\n",
      "Enter number4:  47.8\n"
     ]
    },
    {
     "name": "stdout",
     "output_type": "stream",
     "text": [
      "101.1\n"
     ]
    }
   ],
   "source": [
    "#Take groceries cost prices and calculate total, average, max, and min\n",
    "\n",
    "x1 = float(input(\"Enter number1: \"))\n",
    "x2 = float(input(\"Enter number2: \"))\n",
    "x3 = float(input(\"Enter number3: \"))\n",
    "x4 = float(input(\"Enter number4: \"))\n",
    "total=(x1+x2+x3+x4)\n",
    "print(total)\n"
   ]
  },
  {
   "cell_type": "code",
   "execution_count": 112,
   "id": "e8cdd555-229a-41df-9236-8fdffa2a9e7c",
   "metadata": {},
   "outputs": [
    {
     "name": "stdin",
     "output_type": "stream",
     "text": [
      "Enter number1:  12\n",
      "Enter number2:  23\n",
      "Enter number3:  34\n",
      "Enter number4:  45\n",
      "no. of elements:  4\n"
     ]
    },
    {
     "ename": "TypeError",
     "evalue": "'float' object is not iterable",
     "output_type": "error",
     "traceback": [
      "\u001b[1;31m---------------------------------------------------------------------------\u001b[0m",
      "\u001b[1;31mTypeError\u001b[0m                                 Traceback (most recent call last)",
      "Cell \u001b[1;32mIn[112], line 8\u001b[0m\n\u001b[0;32m      6\u001b[0m total\u001b[38;5;241m=\u001b[39m(x1\u001b[38;5;241m+\u001b[39mx2\u001b[38;5;241m+\u001b[39mx3\u001b[38;5;241m+\u001b[39mx4)\n\u001b[0;32m      7\u001b[0m Average \u001b[38;5;241m=\u001b[39m total\u001b[38;5;241m/\u001b[39mN\n\u001b[1;32m----> 8\u001b[0m Maximum \u001b[38;5;241m=\u001b[39m \u001b[38;5;28mfloat\u001b[39m(\u001b[38;5;28mmax\u001b[39m(total))\n\u001b[0;32m      9\u001b[0m Minimum \u001b[38;5;241m=\u001b[39m \u001b[38;5;28mfloat\u001b[39m(\u001b[38;5;28mmin\u001b[39m(total))\n\u001b[0;32m     10\u001b[0m \u001b[38;5;28mprint\u001b[39m(total)\n",
      "\u001b[1;31mTypeError\u001b[0m: 'float' object is not iterable"
     ]
    }
   ],
   "source": [
    "x1 = float(input(\"Enter number1: \"))\n",
    "x2 = float(input(\"Enter number2: \"))\n",
    "x3 = float(input(\"Enter number3: \"))\n",
    "x4 = float(input(\"Enter number4: \"))\n",
    "N = int(input(\"no. of elements: \"))\n",
    "total=(x1+x2+x3+x4)\n",
    "Average = total/N\n",
    "Maximum = max(total)\n",
    "Minimum = min(total)\n",
    "print(total)\n",
    "print(Average)\n",
    "print(Maximum)\n",
    "print(Minimum)"
   ]
  },
  {
   "cell_type": "code",
   "execution_count": 114,
   "id": "9c873d71-5e06-4ba2-a26f-d29a5c3ea73b",
   "metadata": {},
   "outputs": [
    {
     "name": "stdin",
     "output_type": "stream",
     "text": [
      "Enter number1:  12\n",
      "Enter number2:  23\n",
      "Enter number3:  34\n",
      "Enter number4:  45\n",
      "no. of elements:  4\n"
     ]
    },
    {
     "ename": "AttributeError",
     "evalue": "'float' object has no attribute 'split'",
     "output_type": "error",
     "traceback": [
      "\u001b[1;31m---------------------------------------------------------------------------\u001b[0m",
      "\u001b[1;31mAttributeError\u001b[0m                            Traceback (most recent call last)",
      "Cell \u001b[1;32mIn[114], line 8\u001b[0m\n\u001b[0;32m      6\u001b[0m total\u001b[38;5;241m=\u001b[39m(x1\u001b[38;5;241m+\u001b[39mx2\u001b[38;5;241m+\u001b[39mx3\u001b[38;5;241m+\u001b[39mx4)\n\u001b[0;32m      7\u001b[0m Average \u001b[38;5;241m=\u001b[39m total\u001b[38;5;241m/\u001b[39mN\n\u001b[1;32m----> 8\u001b[0m Maximum \u001b[38;5;241m=\u001b[39m \u001b[38;5;28mmax\u001b[39m(total\u001b[38;5;241m.\u001b[39msplit())\n\u001b[0;32m      9\u001b[0m Minimum \u001b[38;5;241m=\u001b[39m \u001b[38;5;28mmin\u001b[39m(total\u001b[38;5;241m.\u001b[39msplit())\n\u001b[0;32m     10\u001b[0m \u001b[38;5;28mprint\u001b[39m(total)\n",
      "\u001b[1;31mAttributeError\u001b[0m: 'float' object has no attribute 'split'"
     ]
    }
   ],
   "source": [
    "x1 = float(input(\"Enter number1: \"))\n",
    "x2 = float(input(\"Enter number2: \"))\n",
    "x3 = float(input(\"Enter number3: \"))\n",
    "x4 = float(input(\"Enter number4: \"))\n",
    "N = int(input(\"no. of elements: \"))\n",
    "total=(x1+x2+x3+x4)\n",
    "Average = total/N\n",
    "Maximum = max(total.split())\n",
    "Minimum = min(total.split())\n",
    "print(total)\n",
    "print(Average)\n",
    "print(Maximum)\n",
    "print(Minimum)"
   ]
  },
  {
   "cell_type": "code",
   "execution_count": 120,
   "id": "02c74164-ab7f-4bdb-aa1e-2e366586c248",
   "metadata": {},
   "outputs": [
    {
     "name": "stdin",
     "output_type": "stream",
     "text": [
      "Enter number1:  10\n",
      "Enter number2:  20\n",
      "Enter number3:  30\n",
      "Enter number4:  40\n",
      "no. of elements:  4\n"
     ]
    },
    {
     "name": "stdout",
     "output_type": "stream",
     "text": [
      "100.0\n",
      "25.0\n"
     ]
    }
   ],
   "source": [
    "x1 = float(input(\"Enter number1: \"))\n",
    "x2 = float(input(\"Enter number2: \"))\n",
    "x3 = float(input(\"Enter number3: \"))\n",
    "x4 = float(input(\"Enter number4: \"))\n",
    "N = int(input(\"no. of elements: \"))\n",
    "total=(x1+x2+x3+x4)\n",
    "Average = total/N\n",
    "#Maximum = int(max(total.split()))\n",
    "#Minimum = int(min(total.split()))\n",
    "print(total)\n",
    "print(Average)\n",
    "#print(Maximum)\n",
    "#print(Minimum)"
   ]
  },
  {
   "cell_type": "code",
   "execution_count": null,
   "id": "d6857a25-51a6-45ec-b752-d0bde0452402",
   "metadata": {},
   "outputs": [],
   "source": []
  }
 ],
 "metadata": {
  "kernelspec": {
   "display_name": "Python 3 (ipykernel)",
   "language": "python",
   "name": "python3"
  },
  "language_info": {
   "codemirror_mode": {
    "name": "ipython",
    "version": 3
   },
   "file_extension": ".py",
   "mimetype": "text/x-python",
   "name": "python",
   "nbconvert_exporter": "python",
   "pygments_lexer": "ipython3",
   "version": "3.12.4"
  }
 },
 "nbformat": 4,
 "nbformat_minor": 5
}
