{
 "cells": [
  {
   "cell_type": "markdown",
   "id": "e59daae0-a90a-44e7-b818-c00d71421491",
   "metadata": {},
   "source": [
    "# Assignments on variables expressions and statements"
   ]
  },
  {
   "cell_type": "markdown",
   "id": "3a2aa8c1-3210-4733-a72d-1477e1c8cc9a",
   "metadata": {},
   "source": [
    "### 1. Take the input from the user for(Total number of people,Number of seats for bus. Based on two inputs. Decide how many number of buses required"
   ]
  },
  {
   "cell_type": "code",
   "execution_count": 5,
   "id": "8b519562-d3eb-4c7e-b931-02571df52aa1",
   "metadata": {},
   "outputs": [
    {
     "name": "stdin",
     "output_type": "stream",
     "text": [
      "Enter total number of people: 93\n",
      "Enter number of seats for bus: 30\n"
     ]
    },
    {
     "name": "stdout",
     "output_type": "stream",
     "text": [
      "Number of buses required is 4\n"
     ]
    }
   ],
   "source": [
    "# Inputs for Number of people and seats\n",
    "people = int(input(\"Enter total number of people:\"))\n",
    "seats = int(input(\"Enter number of seats for bus:\"))\n",
    "buses = (people+seats-1)//seats\n",
    "print(f\"Number of buses required is {buses}\")"
   ]
  },
  {
   "cell_type": "markdown",
   "id": "c4484e0b-388a-4051-b934-812a133b184b",
   "metadata": {},
   "source": [
    "### 2. take temperature from the user and convert Fahrenheit-> Celsius."
   ]
  },
  {
   "cell_type": "code",
   "execution_count": 29,
   "id": "9477bd66-edc6-4878-9ce5-383c1eabcd10",
   "metadata": {},
   "outputs": [
    {
     "name": "stdin",
     "output_type": "stream",
     "text": [
      "enter the temperature in Fahrenheit:  97.8\n"
     ]
    },
    {
     "name": "stdout",
     "output_type": "stream",
     "text": [
      "Temperature in celsius is 36.55555555555556\n"
     ]
    }
   ],
   "source": [
    "# Input to enter temperature in Fahrenheit\n",
    "Fahrenheit = float(input(\"enter the temperature in Fahrenheit: \"))\n",
    "Celsius=(Fahrenheit-32)*5/9\n",
    "print(f\"Temperature in celsius is {Celsius}\")"
   ]
  },
  {
   "cell_type": "markdown",
   "id": "3efc8796-30dc-4ad2-ba60-5e1a8aa98124",
   "metadata": {},
   "source": [
    "### 3.take temperature from the user and convert Celsius → Fahrenheit."
   ]
  },
  {
   "cell_type": "code",
   "execution_count": 31,
   "id": "ad812b22-d0cd-45b4-9e47-3a2af9607267",
   "metadata": {},
   "outputs": [
    {
     "name": "stdin",
     "output_type": "stream",
     "text": [
      "Enter the temperature in Celsius:  60.2\n"
     ]
    },
    {
     "name": "stdout",
     "output_type": "stream",
     "text": [
      " Temperature in Fahrenheit is 140.36\n"
     ]
    }
   ],
   "source": [
    "# Input to enter temperature in Celsius\n",
    "Celsius = float(input(\"Enter the temperature in Celsius: \"))\n",
    "Fahrenheit = (Celsius*9/5)+32\n",
    "print(f\" Temperature in Fahrenheit is {Fahrenheit}\")"
   ]
  },
  {
   "cell_type": "markdown",
   "id": "c1cfff83-b8fe-4981-bf1b-0ad109b1abf3",
   "metadata": {},
   "source": [
    "### 4. take four number from the user (variables name it as x1,x2,x3,x4)\n",
    "```\n",
    "Do the below operations\n",
    " (x1+x2)**2, (x3+x4)**3\n",
    "variance\n",
    "standard deviation: sqrt(variance):  User math module. Math.sqrt(variance)\n",
    "Regression\n",
    "\ty=mx+b\n",
    "    m=1.23\n",
    "    b=0.045\n",
    "    find out y\n",
    "    y=m*(x1+x2+x3+x4)+b\n",
    "Find the average of four numbers\n",
    "Find the sum of four numbers\n",
    "```"
   ]
  },
  {
   "cell_type": "code",
   "execution_count": 9,
   "id": "06a770cf-4c91-4810-9c5b-0f43d756eec1",
   "metadata": {},
   "outputs": [
    {
     "name": "stdin",
     "output_type": "stream",
     "text": [
      "Enter value of x1:  10\n",
      "Enter value of x2:  20\n",
      "Enter value of x3:  30\n",
      "Enter value of x4:  40\n"
     ]
    },
    {
     "name": "stdout",
     "output_type": "stream",
     "text": [
      "value of (x1+x2)**2 is 900\n",
      "value of (x3+x4)**3 is 343000\n",
      "Average of 4 numbers = 25.0\n",
      "Sum of 4 numbers = 100\n",
      "Variance = 166.66666666666666\n",
      "Standard Deviation = 12.909944487358056\n"
     ]
    }
   ],
   "source": [
    "import math\n",
    "\n",
    "# Input values\n",
    "x1 = int(input(\"Enter value of x1: \"))\n",
    "x2 = int(input(\"Enter value of x2: \"))\n",
    "x3 = int(input(\"Enter value of x3: \"))\n",
    "x4 = int(input(\"Enter value of x4: \"))\n",
    "\n",
    "# Store values in a list\n",
    "values = [x1, x2, x3, x4]\n",
    "\n",
    "# Calculate the sum and mean\n",
    "total_sum = sum(values)\n",
    "mean = total_sum / len(values)\n",
    "\n",
    "# Other calculations\n",
    "m = 1.23\n",
    "b = 0.045\n",
    "y = m * total_sum + b\n",
    "\n",
    "# Calculate variance and standard deviation\n",
    "sq_sum_diff = sum((x - mean) ** 2 for x in values)\n",
    "variance = sq_sum_diff / (len(values) - 1)  # Use len(values) - 1 for sample variance\n",
    "standard_deviation = math.sqrt(variance)\n",
    "\n",
    "# Specific calculations\n",
    "result1 = (x1 + x2) ** 2\n",
    "result2 = (x3 + x4) ** 3\n",
    "\n",
    "# Output the results\n",
    "print(f\"value of (x1+x2)**2 is {result1}\")\n",
    "print(f\"value of (x3+x4)**3 is {result2}\")\n",
    "print(f\"Average of 4 numbers = {mean}\")\n",
    "print(f\"Sum of 4 numbers = {total_sum}\")\n",
    "print(f\"Variance = {variance}\")\n",
    "print(f\"Standard Deviation = {standard_deviation}\")\n"
   ]
  },
  {
   "cell_type": "code",
   "execution_count": 21,
   "id": "fb87fa21-e3e4-455e-8828-b4e746c5342b",
   "metadata": {},
   "outputs": [
    {
     "name": "stdin",
     "output_type": "stream",
     "text": [
      "Enter value of x1:  10\n",
      "Enter value of x2:  20\n",
      "Enter value of x3:  30\n",
      "Enter value of x4:  40\n"
     ]
    },
    {
     "name": "stdout",
     "output_type": "stream",
     "text": [
      "100\n",
      "25.0\n",
      "value of (x1+x2)**2 is 900\n",
      "value of (x3+x4)**3 is 343000\n",
      "average of 4 numbers = 25.0\n",
      "sum of 4 numbers = 100\n",
      "variance=166.66666666666666\n",
      "standard deviation = 12.909944487358056\n"
     ]
    }
   ],
   "source": [
    "import math\n",
    "x1 = int(input(\"Enter value of x1: \"))\n",
    "x2 = int(input(\"Enter value of x2: \"))\n",
    "x3 = int(input(\"Enter value of x3: \"))\n",
    "x4 = int(input(\"Enter value of x4: \"))\n",
    "values = [x1,x2,x3,x4]\n",
    "total_sum = sum(values)\n",
    "print(total_sum)\n",
    "mean = total_sum / len(values)\n",
    "print(mean)\n",
    "m = 1.23\n",
    "b = 0.045\n",
    "y = m*total_sum+b\n",
    "# calculate squared differences\n",
    "sum_sqd_numbers = 0\n",
    "sqd_numbers = []\n",
    "for x in values:\n",
    "    sqd = (x - mean) ** 2\n",
    "    sum_sqd_numbers += sq\n",
    "    sqd_numbers.append(sq)\n",
    "variance = sum_sqd_numbers/(len(values)-1)\n",
    "standard_deviation = math.sqrt(variance)\n",
    "result1 = (x1+x2)**2\n",
    "result2 = (x3+x4)**3\n",
    "print(f\"value of (x1+x2)**2 is {result1}\\nvalue of (x3+x4)**3 is {result2}\\naverage of 4 numbers = {mean}\\nsum of 4 numbers = {total_sum}\\nvariance={variance}\\nstandard deviation = {standard_deviation}\")"
   ]
  },
  {
   "cell_type": "markdown",
   "id": "2d930998-e25a-4430-bace-e7a321790198",
   "metadata": {},
   "source": [
    "### 5.Take the distance in km. Show that in cm, meters, in milli meters, cents, feets, yards"
   ]
  },
  {
   "cell_type": "code",
   "execution_count": 39,
   "id": "020740fb-31b6-4faf-a866-6bf5267f87f9",
   "metadata": {},
   "outputs": [
    {
     "name": "stdin",
     "output_type": "stream",
     "text": [
      "distance in km:  9\n"
     ]
    },
    {
     "name": "stdout",
     "output_type": "stream",
     "text": [
      "9.0km =900000.0cm\n",
      "9.0km =9000.0m\n",
      "9.0km =9000000.0mm\n",
      "9.0km =222394.5cents\n",
      "9.0km =29527.56ft\n",
      "9.0km =9842.49yards\n"
     ]
    }
   ],
   "source": [
    "km = float(input(\"distance in km: \"))\n",
    "cm = km*100000\n",
    "m = km*1000\n",
    "mm = km*1000000\n",
    "cents = km*24710.5\n",
    "ft = km*3280.84\n",
    "yards = km*1093.61\n",
    "print(f\"{km}km ={cm}cm\")\n",
    "print(f\"{km}km ={m}m\")\n",
    "print(f\"{km}km ={mm}mm\")\n",
    "print(f\"{km}km ={cents}cents\")\n",
    "print(f\"{km}km ={ft}ft\")\n",
    "print(f\"{km}km ={yards}yards\")"
   ]
  },
  {
   "cell_type": "markdown",
   "id": "216a2216-cfca-4a94-880a-c30d58840871",
   "metadata": {},
   "source": [
    "### 6. Take the size of your hard disk in GB. Show that in MB, KB, TB, PB"
   ]
  },
  {
   "cell_type": "code",
   "execution_count": 53,
   "id": "3dde304f-315e-45ce-bd6f-e3824dfb98c3",
   "metadata": {},
   "outputs": [
    {
     "name": "stdin",
     "output_type": "stream",
     "text": [
      "Enter the size of your hard disk in GB:  9\n"
     ]
    },
    {
     "name": "stdout",
     "output_type": "stream",
     "text": [
      "9.0GB = 9216.0MB\n",
      "9.0GB = 9437184.0KB\n",
      "9.0GB = 0.0087890625TB\n",
      "9.0GB = 8.58306884765625e-06PB\n"
     ]
    }
   ],
   "source": [
    "GB = float(input(\"Enter the size of your hard disk in GB: \"))\n",
    "MB = GB*1024\n",
    "KB = GB*1048576\n",
    "TB = GB/1024\n",
    "PB = GB/(1024**2)\n",
    "print(f\"{GB}GB = {MB}MB\")\n",
    "print(f\"{GB}GB = {KB}KB\")\n",
    "print(f\"{GB}GB = {TB}TB\")\n",
    "print(f\"{GB}GB = {PB}PB\")"
   ]
  },
  {
   "cell_type": "markdown",
   "id": "b179770a-f8df-4b30-9241-408d3d545821",
   "metadata": {},
   "source": [
    "###    7.  Take name, age, height from the user and print like below\n",
    "* The details of the person: Name:name of the person, Age:age of the person, Height:height of the person\n"
   ]
  },
  {
   "cell_type": "code",
   "execution_count": 61,
   "id": "9f862eb4-76cc-4fad-bde8-044e4caddd4e",
   "metadata": {},
   "outputs": [
    {
     "name": "stdin",
     "output_type": "stream",
     "text": [
      "Enter the name of the person:  tej\n",
      "Enter the age of the person: 27\n",
      "Enter the height of the person: 5'11\"\n"
     ]
    },
    {
     "name": "stdout",
     "output_type": "stream",
     "text": [
      "The details of the person: Name:tej of the person, Age:27 of the person, Height:5'11\" of the person\n"
     ]
    }
   ],
   "source": [
    "name = input(\"Enter the name of the person: \")\n",
    "age = input(\"Enter the age of the person:\")\n",
    "height= input(\"Enter the height of the person:\")\n",
    "print(f\"The details of the person: Name:{name} of the person, Age:{age} of the person, Height:{height} of the person\")"
   ]
  },
  {
   "cell_type": "markdown",
   "id": "2e764afd-64aa-40cb-81e1-aae59b7b12ee",
   "metadata": {},
   "source": [
    "### 8. BMI calculation: take required parameters for BMI calculation from the user and calculate BMI of the person."
   ]
  },
  {
   "cell_type": "code",
   "execution_count": 68,
   "id": "5311c92b-8ea8-493a-97eb-c783df529c6a",
   "metadata": {},
   "outputs": [
    {
     "name": "stdin",
     "output_type": "stream",
     "text": [
      "Enter height in cm:  155\n",
      "Enter weight in kg:  80\n"
     ]
    },
    {
     "name": "stdout",
     "output_type": "stream",
     "text": [
      "BMI is 33.29864724245577\n"
     ]
    }
   ],
   "source": [
    "height_cm = float(input(\"Enter height in cm: \"))\n",
    "weight = float(input(\"Enter weight in kg: \"))\n",
    "height_m = height_cm/100\n",
    "BMI = weight/(height_m**2)\n",
    "print(f\"BMI is {BMI}\")"
   ]
  },
  {
   "cell_type": "markdown",
   "id": "6e06cf90-2f05-49e6-b514-cc2999291f90",
   "metadata": {},
   "source": [
    "### 9. \n",
    "```\n",
    "name=\"Jayaram\"\n",
    "age=1.6\n",
    "height=3.5356234\n",
    "weight=10.343856783\n",
    "By using above inputs print the output\n",
    "Name:Jayaram, Age:1.6, Height:3.54, Weight:10.344\n",
    "Note: Use format specifiers(%s, %d, %f)\n",
    "```"
   ]
  },
  {
   "cell_type": "code",
   "execution_count": 90,
   "id": "0346f5c7-4798-4dc1-a383-8ec1b74fe0eb",
   "metadata": {},
   "outputs": [
    {
     "name": "stdout",
     "output_type": "stream",
     "text": [
      "Name: Jayaram, Age: 1.6, Height: 3.5, Weight: 10.344\n"
     ]
    }
   ],
   "source": [
    "name = \"Jayaram\"\n",
    "age = 1.6\n",
    "height = 3.5356234\n",
    "weight = 10.343856783\n",
    "print(\"Name: %s, Age: %.1f, Height: %.1f, Weight: %.3f\"%(name,age,height,weight) )"
   ]
  },
  {
   "cell_type": "markdown",
   "id": "6f5e169a-40ef-4947-929b-5107a1b8523a",
   "metadata": {},
   "source": [
    "### 10. Take three upper case letters from the user convert in to small case."
   ]
  },
  {
   "cell_type": "code",
   "execution_count": 103,
   "id": "048c7602-e804-4b99-bd16-9f582b79bff3",
   "metadata": {},
   "outputs": [
    {
     "name": "stdin",
     "output_type": "stream",
     "text": [
      "Enter first uppercase letter:  E\n",
      "Enter second uppercase letter:  R\n",
      "Enter third uppercase letter:  T\n"
     ]
    },
    {
     "name": "stdout",
     "output_type": "stream",
     "text": [
      "The lowercase letters are e,r,t\n"
     ]
    }
   ],
   "source": [
    "letter1 = input(\"Enter first uppercase letter: \")\n",
    "letter2 = input(\"Enter second uppercase letter: \")\n",
    "letter3 = input(\"Enter third uppercase letter: \")\n",
    "letter1_lower = chr(ord(letter1)+32)\n",
    "letter2_lower = chr(ord(letter2)+32)\n",
    "letter3_lower = chr(ord(letter3)+32)\n",
    "print(f\"The lowercase letters are {letter1_lower},{letter2_lower},{letter3_lower}\")"
   ]
  },
  {
   "cell_type": "markdown",
   "id": "cd1f70e2-fe25-4122-9598-b75020e37a9b",
   "metadata": {},
   "source": [
    "### 11. Take base and exponent value from the user and print like in mathematics:\n",
    "  * example: base=2, exponent=3: 2<sup>3</sup>\r\n",
    "\n",
    "  * Use: 2\\u00b3\n"
   ]
  },
  {
   "cell_type": "code",
   "execution_count": 121,
   "id": "b51a80bf-fc8d-4c39-a0f3-19d455ad0a97",
   "metadata": {},
   "outputs": [
    {
     "name": "stdin",
     "output_type": "stream",
     "text": [
      "Enter base value:  2\n",
      "Enter exponent value:  5\n"
     ]
    },
    {
     "name": "stdout",
     "output_type": "stream",
     "text": [
      "Base = 2, Exponent = 5: 2^5\n",
      "Base = 2, Exponent = 5: 2³\n"
     ]
    }
   ],
   "source": [
    "base = int(input(\"Enter base value: \"))\n",
    "exponent = int(input(\"Enter exponent value: \"))\n",
    "print(f\"Base = {base}, Exponent = {exponent}: {base}^{exponent}\")\n",
    "print(f\"Base = {base}, Exponent = {exponent}: {base}\\u00b3\")"
   ]
  },
  {
   "cell_type": "markdown",
   "id": "c909d968-ccf2-466c-a721-f57450e6b930",
   "metadata": {},
   "source": [
    "### 12. Take some groceries cost prices and print total cost and average cost, what is the max cost, what is the minimum cost"
   ]
  },
  {
   "cell_type": "code",
   "execution_count": null,
   "id": "b9ded8bd-1ab5-429c-a551-ed2c30b5c75c",
   "metadata": {},
   "outputs": [],
   "source": [
    "cost1 = float(input(\"Cost of item 1: \"))\n",
    "cost2 = float(input(\"Cost of item 2: \"))\n",
    "cost3 = float(input(\"Cost of item 3: \"))\n",
    "costs = [cost1,cost2,cost3]\n",
    "total_cost = sum(costs)\n",
    "avg_cost = total_cost/len(costs)\n",
    "max_cost = max(costs)\n",
    "min_cost = min(costs)\n",
    "print(f\"Total Cost: {total_cost:.2f}/-\\nAverage cost: {avg_cost:.2f}/-\\nMaximun Cost: {max_cost:.2f}/-\\nMinimum Cost: {min_cost:.2f}/-\")"
   ]
  },
  {
   "cell_type": "markdown",
   "id": "13115856-1644-4f62-a743-0d5eee0faa90",
   "metadata": {},
   "source": [
    "## COnditional Statements\n",
    "### 13. Take the input from the user for(Total number of people, total number of buses, Number of seats for bus, adjust factor). Based on four inputs.Decide whether there is sufficient buses or not and give solution for how many extra buses required.\n"
   ]
  },
  {
   "cell_type": "code",
   "execution_count": 54,
   "id": "fc992bfb-2c71-4f2d-867a-4103361c683d",
   "metadata": {},
   "outputs": [
    {
     "name": "stdin",
     "output_type": "stream",
     "text": [
      "Enter total number of people: 100\n",
      "Enter total number of buses: 6\n",
      "Enter number of seats for bus: 20\n",
      "Enter adjust factor: 3\n"
     ]
    },
    {
     "name": "stdout",
     "output_type": "stream",
     "text": [
      "total number of buses required is 5 and extra buses needed are 0\n"
     ]
    }
   ],
   "source": [
    "people = int(input(\"Enter total number of people:\"))\n",
    "buses = int((input(\"Enter total number of buses:\")))\n",
    "seats = int(input(\"Enter number of seats for bus:\"))\n",
    "adjust_factor = int(input(\"Enter adjust factor:\"))\n",
    "if people%seats>adjust_factor:\n",
    "    buses_required = (people+seats+adjust_factor-1)//seats\n",
    "else:\n",
    "    buses_required = (people+seats-1)//seats\n",
    "if buses_required>buses:\n",
    "    extra_buses = buses_required - buses\n",
    "else:\n",
    "    extra_buses = 0\n",
    "    \n",
    "print(f\"total number of buses required is {buses_required} and extra buses needed are {extra_buses}\")\n"
   ]
  },
  {
   "cell_type": "markdown",
   "id": "d3139476-6482-45ea-a1be-557db6685ba3",
   "metadata": {},
   "source": [
    "### 14.Take number from the user decide whether it is even or odd."
   ]
  },
  {
   "cell_type": "code",
   "execution_count": 35,
   "id": "5b882364-cb69-4708-8c13-cc1f7ead44fc",
   "metadata": {},
   "outputs": [
    {
     "name": "stdin",
     "output_type": "stream",
     "text": [
      "Enter a number: 15\n"
     ]
    },
    {
     "name": "stdout",
     "output_type": "stream",
     "text": [
      "Given number is odd\n"
     ]
    }
   ],
   "source": [
    "number = int(input(\"Enter a number:\"))\n",
    "if number%2==0:\n",
    "    print(\"Given number is even\")\n",
    "else:\n",
    "    print(\"Given number is odd\")"
   ]
  },
  {
   "cell_type": "markdown",
   "id": "0998146d-349b-43e5-9add-9806675be4c3",
   "metadata": {},
   "source": [
    "### 15.Take number from the user decide whether it is positive number or negative number"
   ]
  },
  {
   "cell_type": "code",
   "execution_count": 42,
   "id": "220887fa-8e38-4303-868d-d76078107cee",
   "metadata": {},
   "outputs": [
    {
     "name": "stdin",
     "output_type": "stream",
     "text": [
      "Enter a number: 0\n"
     ]
    },
    {
     "name": "stdout",
     "output_type": "stream",
     "text": [
      "Given number is zero\n"
     ]
    }
   ],
   "source": [
    "number = float(input(\"Enter a number:\"))\n",
    "if number>0:\n",
    "    print(\"Given number is positive number\")\n",
    "elif number==0:\n",
    "    print(\"Given number is zero\")\n",
    "else:\n",
    "    print(\"Given number is negative number\")"
   ]
  },
  {
   "cell_type": "markdown",
   "id": "5507e2c9-e7fd-4340-9ac1-0ab387ee3133",
   "metadata": {},
   "source": [
    "### 16.Take a string from the user print the length. if the user not given anything then show an error message"
   ]
  },
  {
   "cell_type": "code",
   "execution_count": 50,
   "id": "5c4f0572-a8fd-4d70-951f-fc5c8c6fcd49",
   "metadata": {},
   "outputs": [
    {
     "name": "stdin",
     "output_type": "stream",
     "text": [
      "Enter the data: dfghjkl fghjkl\n"
     ]
    },
    {
     "name": "stdout",
     "output_type": "stream",
     "text": [
      "dfghjkl fghjkl\n"
     ]
    }
   ],
   "source": [
    "data = input(\"Enter the data:\")\n",
    "if len(data)==0:\n",
    "    print(\"Enter valid data\")\n",
    "print(data)"
   ]
  },
  {
   "cell_type": "code",
   "execution_count": null,
   "id": "29b6b8de-29b9-4c14-b9b0-8490b2539e75",
   "metadata": {},
   "outputs": [],
   "source": []
  }
 ],
 "metadata": {
  "kernelspec": {
   "display_name": "Python 3 (ipykernel)",
   "language": "python",
   "name": "python3"
  },
  "language_info": {
   "codemirror_mode": {
    "name": "ipython",
    "version": 3
   },
   "file_extension": ".py",
   "mimetype": "text/x-python",
   "name": "python",
   "nbconvert_exporter": "python",
   "pygments_lexer": "ipython3",
   "version": "3.12.4"
  }
 },
 "nbformat": 4,
 "nbformat_minor": 5
}
