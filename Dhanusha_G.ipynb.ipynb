{
 "cells": [
  {
   "cell_type": "markdown",
   "id": "54185f23-e00d-48c1-8fd2-bc87ad1a5a5b",
   "metadata": {},
   "source": [
    "# Assignments on variables expressions and statements"
   ]
  },
  {
   "cell_type": "markdown",
   "id": "0e5964ec-6bd9-41de-bdb3-1686535af751",
   "metadata": {},
   "source": [
    "### 1. Take the input from the user for(Total number of people,Number of seats for bus). Based on two inputs. \n",
    "### Decide how many number of buses required"
   ]
  },
  {
   "cell_type": "code",
   "execution_count": 3,
   "id": "e6edf889-b4d3-4d50-9174-0a95ceeeda03",
   "metadata": {},
   "outputs": [
    {
     "name": "stdin",
     "output_type": "stream",
     "text": [
      "number of people: 2342\n",
      "number of seats: 42\n"
     ]
    },
    {
     "name": "stdout",
     "output_type": "stream",
     "text": [
      "Number of buses: 56\n"
     ]
    }
   ],
   "source": [
    "people = int(input(\"number of people:\"))\n",
    "seats = int(input(\"number of seats:\"))\n",
    "buses = (people+seats-1)//seats\n",
    "print(f\"Number of buses: {buses}\")"
   ]
  },
  {
   "cell_type": "markdown",
   "id": "6845dc8d-b230-4925-b876-9907c62036a1",
   "metadata": {},
   "source": [
    "### 2. Take temperature from the user and convert \n",
    "### Fahrenheit -> Celsius."
   ]
  },
  {
   "cell_type": "code",
   "execution_count": 5,
   "id": "29f540fd-6f59-4ec8-a95d-e6ef27641e96",
   "metadata": {},
   "outputs": [
    {
     "name": "stdin",
     "output_type": "stream",
     "text": [
      "Enter Fahrenheit Temp:  24452\n"
     ]
    },
    {
     "name": "stdout",
     "output_type": "stream",
     "text": [
      "Enter the Celsius temp is 13566\n"
     ]
    }
   ],
   "source": [
    "Fahrenheit = float(input(\"Enter Fahrenheit Temp: \"))\n",
    "Celsius = (Fahrenheit - 32) * 5/9\n",
    "print(f\"Enter the Celsius temp is {int(Celsius)}\")\n"
   ]
  },
  {
   "cell_type": "markdown",
   "id": "5f3a9d7e-5787-4b5b-b41c-a56291866135",
   "metadata": {},
   "source": [
    "### 3. Take temperature from the user and convert\n",
    "### Celsius → Fahrenheit."
   ]
  },
  {
   "cell_type": "code",
   "execution_count": 7,
   "id": "cad259aa-f2e3-4974-94c9-0df157e9f91b",
   "metadata": {},
   "outputs": [
    {
     "name": "stdin",
     "output_type": "stream",
     "text": [
      "Enter Celsius Temp:  24532\n"
     ]
    },
    {
     "name": "stdout",
     "output_type": "stream",
     "text": [
      "Enter the Fahrenheit temp is 44189\n"
     ]
    }
   ],
   "source": [
    "Celsius = float(input(\"Enter Celsius Temp: \"))\n",
    "Fahrenheit = (Celsius * 9/5) + 32\n",
    "print(f\"Enter the Fahrenheit temp is {int(Fahrenheit)}\")"
   ]
  },
  {
   "cell_type": "markdown",
   "id": "6836de41-6af8-4272-ada0-d5c66e1d7132",
   "metadata": {},
   "source": [
    "### 4. take four number from the user (variables name it as x1,x2,x3,x4)\n",
    "```\n",
    " Do the below operations\n",
    " (x1+x2)**2, (x3+x4)**3\n",
    "    variance\n",
    "    standard deviation: sqrt(variance):  User math module. Math.sqrt(variance)\n",
    "    Regression\n",
    "\ty=mx+b\n",
    "    m=1.23\n",
    "    b=0.045\n",
    "    find out y\n",
    "    y=m*(x1+x2+x3+x4)+b\n",
    "Find the average of four numbers\n",
    "Find the sum of four numbers\n",
    "```"
   ]
  },
  {
   "cell_type": "code",
   "execution_count": 47,
   "id": "75fccd31-04b2-4248-9019-f5fdfe6e2472",
   "metadata": {},
   "outputs": [
    {
     "name": "stdin",
     "output_type": "stream",
     "text": [
      " 1\n",
      " 3\n",
      " 4\n",
      " 5\n"
     ]
    },
    {
     "name": "stdout",
     "output_type": "stream",
     "text": [
      "16\n",
      "729\n",
      "2.1875\n",
      "1.479019945774904\n",
      "16.035\n",
      "3.25\n",
      "13\n"
     ]
    }
   ],
   "source": [
    "#import math\n",
    "x1 = int(input())\n",
    "x2 = int(input())\n",
    "x3 = int(input())\n",
    "x4 = int(input())\n",
    "res1 = (x1+x2)**2\n",
    "res2 = (x3+x4)**3\n",
    "mean = (x1+x2+x3+x4)/4\n",
    "varience = ((x1-mean)**2 + (x2-mean)**2 + (x3-mean)**2 + (x4-mean)**2)/4\n",
    "std_dev = math.sqrt(varience)\n",
    "y = 1.23*(x1+x2+x3+x4)+0.045\n",
    "avg = mean\n",
    "sum_of_four = x1+x2+x3+x4\n",
    "print(res1)\n",
    "print(res2)\n",
    "print(varience)\n",
    "print(std_dev)\n",
    "print(y)\n",
    "print(avg)\n",
    "print(sum_of_four)"
   ]
  },
  {
   "cell_type": "markdown",
   "id": "1557b59f-edb5-4926-920c-fe8eb7b43028",
   "metadata": {},
   "source": [
    "### 5. Take the distance in km\n",
    "### Show that in cm, meters, in milli meters, cents, feets, yards"
   ]
  },
  {
   "cell_type": "code",
   "execution_count": 9,
   "id": "eaf4421f-d80e-49c5-bc43-43f2404b6127",
   "metadata": {},
   "outputs": [
    {
     "name": "stdin",
     "output_type": "stream",
     "text": [
      "Enter no. of Kilometers:  242\n"
     ]
    },
    {
     "name": "stdout",
     "output_type": "stream",
     "text": [
      " Kilometers:  24200000.00 cm\n",
      " Kilometers:  242000.00 m\n",
      " Kilometers:  242000000.00 mm\n",
      " Kilometers:  32.126 cents\n",
      " Kilometers:  793963.28 feets\n",
      " Kilometers:  264653.62 yards\n"
     ]
    }
   ],
   "source": [
    "Kilometers = float(input(\"Enter no. of Kilometers: \"))\n",
    "centimeters = Kilometers * 100000 \n",
    "meters = Kilometers * 1000 \n",
    "millimeters = Kilometers * 1000000\n",
    "cents = Kilometers * 0.13275 \n",
    "feets = Kilometers * 3280.84\n",
    "yards = Kilometers * 1093.61\n",
    "print(f\" Kilometers: {centimeters: .2f} cm\")  \n",
    "print(f\" Kilometers: {meters: .2f} m\")  \n",
    "print(f\" Kilometers: {millimeters: .2f} mm\")  \n",
    "print(f\" Kilometers: {cents: .3f} cents\")  \n",
    "print(f\" Kilometers: {feets: .2f} feets\")  \n",
    "print(f\" Kilometers: {yards: .2f} yards\")"
   ]
  },
  {
   "cell_type": "markdown",
   "id": "2dab76b8-d47b-4c02-b0f3-f109252f74c2",
   "metadata": {},
   "source": [
    "### 6.Take the size of your hard disk in GB\n",
    "### Show that in MB, KB, TB, PB"
   ]
  },
  {
   "cell_type": "code",
   "execution_count": 11,
   "id": "83c2a847-b7bf-40c8-8f4a-0703c8aa35d9",
   "metadata": {},
   "outputs": [
    {
     "name": "stdin",
     "output_type": "stream",
     "text": [
      "Enter size of hard disk in GB:  23\n"
     ]
    },
    {
     "name": "stdout",
     "output_type": "stream",
     "text": [
      " GB is 23552mb\n",
      " GB is 24117248kb\n",
      " GB is 0.02tb\n",
      " GB is 0.00pb\n"
     ]
    }
   ],
   "source": [
    "GB = int(input(\"Enter size of hard disk in GB: \"))\n",
    "MB = GB * 1024\n",
    "KB = GB * 1048576\n",
    "TB = GB / 1024\n",
    "PB = GB / (1024*1024)\n",
    "print(f\" GB is {MB}mb\")\n",
    "print(f\" GB is {KB}kb\")\n",
    "print(f\" GB is {TB:.2f}tb\")\n",
    "print(f\" GB is {PB:.2f}pb\")"
   ]
  },
  {
   "cell_type": "markdown",
   "id": "cd61ec4f-94a8-4692-b0da-4eff5384e918",
   "metadata": {},
   "source": [
    "### 7. Take name, age, height from the user and print like below. \n",
    "### The details of the person: Name:name of the person, Age:age of the person, Height:height of the person. \n",
    "### Note: make sure that no space between : and a value and should be space after “COMA”"
   ]
  },
  {
   "cell_type": "code",
   "execution_count": 13,
   "id": "a87c44ca-ec43-40cc-aaf4-a95e6fabb1af",
   "metadata": {},
   "outputs": [
    {
     "name": "stdin",
     "output_type": "stream",
     "text": [
      " Enter name of person:  23\n",
      " Enter age of person:  432\n",
      " Enter height of person:  432\n"
     ]
    },
    {
     "name": "stdout",
     "output_type": "stream",
     "text": [
      " The details of the person: Name:23, Age:432, Height:432\n"
     ]
    }
   ],
   "source": [
    "Name = input(\" Enter name of person: \")\n",
    "Age = input(\" Enter age of person: \")\n",
    "Height = input(\" Enter height of person: \")\n",
    "print(f\" The details of the person: Name:{Name}, Age:{Age}, Height:{Height}\")"
   ]
  },
  {
   "cell_type": "markdown",
   "id": "b0df8e03-1076-40bc-99f0-5c016bf4d0b1",
   "metadata": {},
   "source": [
    "### 8. BMI calculation: take required parameters for BMI calculation from the user and calculate BMI of the person."
   ]
  },
  {
   "cell_type": "code",
   "execution_count": 15,
   "id": "dd0f70ef-898a-4dff-89ad-03f8b49f7628",
   "metadata": {},
   "outputs": [
    {
     "name": "stdin",
     "output_type": "stream",
     "text": [
      "Enter the weight:  23\n",
      "Enter the height:  43\n"
     ]
    },
    {
     "name": "stdout",
     "output_type": "stream",
     "text": [
      "your BMI is :0.01\n"
     ]
    }
   ],
   "source": [
    "Weight = float(input(\"Enter the weight: \"))\n",
    "Height = float(input(\"Enter the height: \"))\n",
    "BMI = Weight / (Height ** 2)\n",
    "print(f\"your BMI is :{BMI:.2f}\")"
   ]
  },
  {
   "cell_type": "markdown",
   "id": "9ca92c37-c0e3-45b2-ac98-8d6d8cb735cf",
   "metadata": {},
   "source": [
    "### 9. Write a program\n",
    "### name=\"Jayaram\", age=1.6, height=3.5356234, weight=10.343856783\n",
    "### By using above inputs print the output\n",
    "###   Name:Jayaram, Age:1.6, Height:3.54, Weight:10.344\n",
    "### Note: Use format specifiers(%s, %d, %f)"
   ]
  },
  {
   "cell_type": "code",
   "execution_count": 17,
   "id": "cdab9de9-3007-459a-91fa-99d28f0f3baa",
   "metadata": {},
   "outputs": [
    {
     "name": "stdout",
     "output_type": "stream",
     "text": [
      "Enter details of person: \n",
      "Name:Jayaram, Age:1.6, Height:3.54, Weight:10.344\n"
     ]
    }
   ],
   "source": [
    "Name = \"Jayaram\"\n",
    "Age =  1.6\n",
    "Height = 3.5356234\n",
    "Weight = 10.343856783\n",
    "print(f\"Enter details of person: \\nName:%s, Age:%s, Height:%.2f, Weight:%.3f\"%(Name, Age, Height, Weight))"
   ]
  },
  {
   "cell_type": "markdown",
   "id": "0200100b-995d-42e1-a552-e497bb73ca8e",
   "metadata": {},
   "source": [
    "### 10. Take three upper case letters from the user convert in to small case."
   ]
  },
  {
   "cell_type": "code",
   "execution_count": 19,
   "id": "15273118-a259-44ec-a89a-4bb3299a3301",
   "metadata": {},
   "outputs": [
    {
     "name": "stdin",
     "output_type": "stream",
     "text": [
      "Enter first upper case letter:  A\n",
      "Enter first upper case letter:  Q\n",
      "Enter first upper case letter:  W\n"
     ]
    },
    {
     "name": "stdout",
     "output_type": "stream",
     "text": [
      "aqw\n"
     ]
    }
   ],
   "source": [
    "letter1 = input(\"Enter first upper case letter: \")\n",
    "letter2 = input(\"Enter first upper case letter: \")\n",
    "letter3 = input(\"Enter first upper case letter: \")\n",
    "First = chr(ord(f'{letter1}')+32)\n",
    "Second =chr(ord(f'{letter2}')+32)\n",
    "Third = chr(ord(f'{letter3}')+32)\n",
    "print(f\"{First}{Second}{Third}\")"
   ]
  },
  {
   "cell_type": "markdown",
   "id": "acfcff55-f9a3-4a32-ab9e-49a4698606a5",
   "metadata": {},
   "source": [
    "### 11. take base and exponent value from the user and print like in mathematics:\n",
    "### example: base=2, exponent=3: 23\n",
    "### Use: 2\\u00b3"
   ]
  },
  {
   "cell_type": "code",
   "execution_count": 28,
   "id": "7b35854d-aeda-411e-a275-56683350b385",
   "metadata": {},
   "outputs": [
    {
     "name": "stdin",
     "output_type": "stream",
     "text": [
      "Enter a base value:  2\n",
      " Enter a Exponent:  3\n"
     ]
    },
    {
     "name": "stdout",
     "output_type": "stream",
     "text": [
      "2³ is 8\n"
     ]
    }
   ],
   "source": [
    "Base = int(input(\"Enter a base value: \"))\n",
    "Exponent=int(input(\" Enter a Exponent: \"))\n",
    "Value = Base ** Exponent\n",
    "print(f\"{int(Base)}\\u00b3 is {int(Value)}\")\n",
    "#print(f\"{int(Base)}^{int(Exponent)} is {Value}\")"
   ]
  },
  {
   "cell_type": "markdown",
   "id": "d4ca311d-1793-45b6-9cca-4b4cc346348d",
   "metadata": {},
   "source": [
    "### 12. Take some groceries cost prices and print total cost and average cost, what is the max cost, what is the minimum cost."
   ]
  },
  {
   "cell_type": "code",
   "execution_count": 42,
   "id": "f36c582a-83e1-4cad-bdb5-96feb23ff0a7",
   "metadata": {},
   "outputs": [
    {
     "name": "stdout",
     "output_type": "stream",
     "text": [
      " Total cost for groceries: 325.90\n",
      " Average cost for groceries: 81.48\n",
      " Maximum cost for groceries: 200\n",
      " Minimum cost for groceries: 35\n"
     ]
    }
   ],
   "source": [
    "#import math\n",
    "groceries = [35,45.3,200,45.6]\n",
    "total = sum(groceries)\n",
    "avg_cost = total/len(groceries)\n",
    "max_cost = max(groceries)\n",
    "min_cost = min(groceries)\n",
    "print(f\" Total cost for groceries: {total:.2f}\")\n",
    "print(f\" Average cost for groceries: {avg_cost:.2f}\")\n",
    "print(f\" Maximum cost for groceries: {max_cost}\")\n",
    "print(f\" Minimum cost for groceries: {min_cost}\")"
   ]
  }
 ],
 "metadata": {
  "kernelspec": {
   "display_name": "Python 3 (ipykernel)",
   "language": "python",
   "name": "python3"
  },
  "language_info": {
   "codemirror_mode": {
    "name": "ipython",
    "version": 3
   },
   "file_extension": ".py",
   "mimetype": "text/x-python",
   "name": "python",
   "nbconvert_exporter": "python",
   "pygments_lexer": "ipython3",
   "version": "3.12.4"
  }
 },
 "nbformat": 4,
 "nbformat_minor": 5
}
