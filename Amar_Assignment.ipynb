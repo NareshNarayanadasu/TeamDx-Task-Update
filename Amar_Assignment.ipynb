{
 "cells": [
  {
   "cell_type": "code",
   "execution_count": 1,
   "id": "d18a9b84-4487-487a-bf3e-5f6b92694310",
   "metadata": {},
   "outputs": [
    {
     "name": "stdin",
     "output_type": "stream",
     "text": [
      "Enter the total number of people:  56\n",
      "Enter the number of seats per bus:  67\n"
     ]
    },
    {
     "name": "stdout",
     "output_type": "stream",
     "text": [
      "0.835820895522388\n"
     ]
    }
   ],
   "source": [
    "#1\n",
    "total_people = int(input(\"Enter the total number of people: \"))\n",
    "seats_per_bus = int(input(\"Enter the number of seats per bus: \"))\n",
    "buses_required = (total_people/seats_per_bus)\n",
    "print( buses_required)"
   ]
  },
  {
   "cell_type": "code",
   "execution_count": 2,
   "id": "3f1ae54d-a7a2-43f1-a6c8-b1357d223112",
   "metadata": {},
   "outputs": [
    {
     "name": "stdin",
     "output_type": "stream",
     "text": [
      "enter the temparature in fahrenheit 86\n"
     ]
    },
    {
     "name": "stdout",
     "output_type": "stream",
     "text": [
      "86.0°F is equal to 30.00°C\n"
     ]
    }
   ],
   "source": [
    "#2\n",
    "fahrenheit = float(input(\"enter the temparature in fahrenheit\"))\n",
    "celsius = 5/9 *(fahrenheit-32)\n",
    "print(f\"{fahrenheit}°F is equal to {celsius:.2f}°C\")"
   ]
  },
  {
   "cell_type": "code",
   "execution_count": 3,
   "id": "a76349d0-b1a9-421c-9afe-c886ab35a95d",
   "metadata": {},
   "outputs": [
    {
     "name": "stdin",
     "output_type": "stream",
     "text": [
      "Enter the temperature in Celsius:  45\n"
     ]
    },
    {
     "name": "stdout",
     "output_type": "stream",
     "text": [
      "45.0°C is equal to 113.00°F\n"
     ]
    }
   ],
   "source": [
    "#3\n",
    "celsius = float(input(\"Enter the temperature in Celsius: \"))\n",
    "fahrenheit = (celsius * 9/5) + 32\n",
    "print(f\"{celsius}°C is equal to {fahrenheit:.2f}°F\")"
   ]
  },
  {
   "cell_type": "code",
   "execution_count": 4,
   "id": "46b258a2-46b5-4926-bb89-5e1f471e76d6",
   "metadata": {},
   "outputs": [
    {
     "name": "stdin",
     "output_type": "stream",
     "text": [
      "enter the distance in km 1\n"
     ]
    },
    {
     "name": "stdout",
     "output_type": "stream",
     "text": [
      "1.0km is equal to 1000.0m\n",
      "1.0km is equal to 100000.0cm\n",
      "1.0km is equal to 1000000.0mm\n",
      "1.0km is equal to 3280.84ft\n",
      "1.0km is equal to 1093.61yd\n"
     ]
    }
   ],
   "source": [
    "#5\n",
    "km = float(input(\"enter the distance in km\"))\n",
    "meters = km * 1000\n",
    "centimeters = km * 100000\n",
    "millimeters = km * 1000000\n",
    "feet = km * 3280.84\n",
    "yards = km * 1093.61\n",
    "miles = km * 0.621371\n",
    "print(f\"{km}km is equal to {meters}m\")\n",
    "print(f\"{km}km is equal to {centimeters}cm\")\n",
    "print(f\"{km}km is equal to {millimeters}mm\")\n",
    "print(f\"{km}km is equal to {feet}ft\")\n",
    "print(f\"{km}km is equal to {yards}yd\")\n"
   ]
  },
  {
   "cell_type": "code",
   "execution_count": 5,
   "id": "3fbff2be-169d-44fe-8a4a-a6b22fe48b46",
   "metadata": {},
   "outputs": [
    {
     "name": "stdin",
     "output_type": "stream",
     "text": [
      "Enter the size of your hard disk in GB:  1\n"
     ]
    },
    {
     "name": "stdout",
     "output_type": "stream",
     "text": [
      "1.0 GB is equal to 1024.0 MB\n",
      "1.0 GB is equal to 1048576.0 KB\n",
      "1.0 GB is equal to 0.0009765625 TB\n",
      "1.0 GB is equal to 9.5367431640625e-07 PB\n"
     ]
    }
   ],
   "source": [
    "#6\n",
    "gb = float(input(\"Enter the size of your hard disk in GB: \"))\n",
    "\n",
    "mb = gb * 1024\n",
    "kb = mb * 1024\n",
    "tb = gb / 1024\n",
    "pb = tb / 1024\n",
    "\n",
    "print(f\"{gb} GB is equal to {mb} MB\")\n",
    "print(f\"{gb} GB is equal to {kb} KB\")\n",
    "print(f\"{gb} GB is equal to {tb} TB\")\n",
    "print(f\"{gb} GB is equal to {pb} PB\")\n"
   ]
  },
  {
   "cell_type": "code",
   "execution_count": 6,
   "id": "dab70b95-4375-438c-bfba-d84507d257f1",
   "metadata": {},
   "outputs": [
    {
     "name": "stdin",
     "output_type": "stream",
     "text": [
      "Enter your name:  amar\n",
      "Enter your age:  25\n",
      "Enter your height:  1.5\n"
     ]
    },
    {
     "name": "stdout",
     "output_type": "stream",
     "text": [
      "The details of the person: Name:amar, Age:25, Height:1.5\n"
     ]
    }
   ],
   "source": [
    "#7\n",
    "name = input(\"Enter your name: \")\n",
    "age = input(\"Enter your age: \")\n",
    "height = input(\"Enter your height: \")\n",
    "print(f\"The details of the person: Name:{name}, Age:{age}, Height:{height}\")"
   ]
  },
  {
   "cell_type": "code",
   "execution_count": null,
   "id": "0335b5e8-7d5d-4d9a-b0b2-377250f7594c",
   "metadata": {},
   "outputs": [],
   "source": [
    "#8\n",
    "weight = float(input(\"Enter your weight in kilograms: \"))\n",
    "height = float(input(\"Enter your height in meters: \"))\n",
    "\n",
    "bmi = weight / (height ** 2)\n",
    "\n",
    "print(f\"Your BMI is: {bmi:.2f}\")\n"
   ]
  },
  {
   "cell_type": "code",
   "execution_count": null,
   "id": "4f7a9d7c-349e-419f-9365-6658d0fcc4b3",
   "metadata": {},
   "outputs": [],
   "source": [
    " #9. name=\"Jayaram\"\n",
    "# age=1.6\n",
    "# height=3.5356234\n",
    "# weight=10.343856783\n",
    "# By using above inputs print the output\n",
    "# Name:Jayaram, Age:1.6, Height:3.54, Weight:10.344\n",
    "# Note: Use format specifiers(%s, %d, %f)\n",
    "\n",
    "name = \"Jayaram\"\n",
    "age = 1.6\n",
    "height = 3.5356234\n",
    "weight = 10.343856783\n",
    "\n",
    "print(\"Name:%s, Age:%s, Height:%.2f, Weight:%.3f\" % (name, age, height, weight))\n"
   ]
  },
  {
   "cell_type": "code",
   "execution_count": null,
   "id": "f404a0b2-cdbc-4fc6-b45c-4d702749cc89",
   "metadata": {},
   "outputs": [],
   "source": [
    "#  10. Take three upper case letters from the user convert in to small case.\n",
    "\n",
    "letters = input(\"Enter three uppercase letters: \")\n",
    "lower_letters = letters.lower()\n",
    "print(\"Lowercase letters:\", lower_letters)\n"
   ]
  },
  {
   "cell_type": "code",
   "execution_count": null,
   "id": "bbb8472f-04d3-4e36-b3cb-ebdb9350702e",
   "metadata": {},
   "outputs": [],
   "source": [
    "# 11. take base and exponent value from the user and print like in mathematics:\n",
    "# example: base=2, exponent=3: 23\n",
    "\n",
    "base = int(input(\"Enter the base value: \"))\n",
    "exponent = int(input(\"Enter the exponent value: \"))\n",
    "\n",
    "print(f\"{base}{exponent}\")\n"
   ]
  },
  {
   "cell_type": "code",
   "execution_count": null,
   "id": "3451ee48-cb0d-4ed1-87f5-8f93564831f1",
   "metadata": {},
   "outputs": [],
   "source": [
    "# 12. Take some groceries cost prices and print total cost and average cost, what is the max cost, what is the minimum cost.\n",
    "\n",
    "# Get the number of groceries\n",
    "num_groceries = int(input(\"Enter the number of groceries: \"))\n",
    "\n",
    "# Initialize lists to store costs\n",
    "costs = []\n",
    "\n",
    "# Get the cost of each grocery\n",
    "for i in range(num_groceries):\n",
    "  cost = float(input(f\"Enter the cost of grocery {i+1}: \"))\n",
    "  costs.append(cost)\n",
    "\n",
    "# Calculate the total cost\n",
    "total_cost = sum(costs)\n",
    "\n",
    "# Calculate the average cost\n",
    "average_cost = total_cost / num_groceries\n",
    "\n",
    "# Find the maximum cost\n",
    "max_cost = max(costs)\n",
    "\n",
    "# Find the minimum cost\n",
    "min_cost = min(costs)\n",
    "\n",
    "# Print the results\n",
    "print(f\"Total cost: {total_cost}\")\n",
    "print(f\"Average cost: {average_cost}\")\n",
    "print(f\"Maximum cost: {max_cost}\")\n",
    "print(f\"Minimum cost: {min_cost}\")\n"
   ]
  }
 ],
 "metadata": {
  "kernelspec": {
   "display_name": "Python 3 (ipykernel)",
   "language": "python",
   "name": "python3"
  },
  "language_info": {
   "codemirror_mode": {
    "name": "ipython",
    "version": 3
   },
   "file_extension": ".py",
   "mimetype": "text/x-python",
   "name": "python",
   "nbconvert_exporter": "python",
   "pygments_lexer": "ipython3",
   "version": "3.12.4"
  }
 },
 "nbformat": 4,
 "nbformat_minor": 5
}
