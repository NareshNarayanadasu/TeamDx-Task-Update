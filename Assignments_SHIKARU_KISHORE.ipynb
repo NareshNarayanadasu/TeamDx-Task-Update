{
 "cells": [
  {
   "cell_type": "code",
   "execution_count": 7,
   "id": "2c154296-f74c-46b0-b5aa-59f82fb4f769",
   "metadata": {},
   "outputs": [
    {
     "name": "stdin",
     "output_type": "stream",
     "text": [
      "Enter Total number of people: 12\n",
      "Enter Number of seats for bus: 4\n"
     ]
    },
    {
     "name": "stdout",
     "output_type": "stream",
     "text": [
      "3\n"
     ]
    }
   ],
   "source": [
    "import math\n",
    "k = int(input(\"Enter Total number of people:\"))\n",
    "s = int(input(\"Enter Number of seats for bus:\"))\n",
    "z  = math.ceil(k/s) \n",
    "print(z)"
   ]
  },
  {
   "cell_type": "code",
   "execution_count": 34,
   "id": "60ee94d3-6908-4fcd-a903-113156d6fc28",
   "metadata": {},
   "outputs": [
    {
     "name": "stdin",
     "output_type": "stream",
     "text": [
      "Enter a temperature : 12\n"
     ]
    },
    {
     "name": "stdout",
     "output_type": "stream",
     "text": [
      "-5.78C\n"
     ]
    }
   ],
   "source": [
    "foreign_heat = float(input(\"Enter a temperature :\"))\n",
    "Celsius = foreign_heat - 32 /1.8\n",
    "print(f'{Celsius:.2f}C' )\n"
   ]
  },
  {
   "cell_type": "code",
   "execution_count": 38,
   "id": "8f2fd8bd-dcff-425a-b9f5-7b12dabd4820",
   "metadata": {},
   "outputs": [
    {
     "name": "stdin",
     "output_type": "stream",
     "text": [
      "Enter a temperature : 12\n"
     ]
    },
    {
     "name": "stdout",
     "output_type": "stream",
     "text": [
      "12.00F\n"
     ]
    }
   ],
   "source": [
    "Celsius = float(input(\"Enter a temperature :\"))\n",
    "foreign_heat = (Celsius * 1.8) + 32\n",
    "print(f'{Celsius:.2f}F' )\n"
   ]
  },
  {
   "cell_type": "code",
   "execution_count": 22,
   "id": "ae8cbd25-4661-4937-a574-43b033ed21c4",
   "metadata": {},
   "outputs": [
    {
     "name": "stdin",
     "output_type": "stream",
     "text": [
      "Enter any number: 12\n",
      "Enter any number: 13\n",
      "Enter any number: 14\n",
      "Enter any number: 15\n"
     ]
    },
    {
     "name": "stdout",
     "output_type": "stream",
     "text": [
      "standard_devitation : 1.2909944487358056\n",
      "k value :  625\n",
      "s value :  24389\n",
      "varience :  1.6666666666666667\n",
      "standard_dev: 1.2909944487358056\n",
      "y value : 66.465\n",
      "average : 10.75\n",
      "sume : 54\n"
     ]
    }
   ],
   "source": [
    "import math\n",
    "import statistics\n",
    "x1 = int(input(\"Enter any number:\"))\n",
    "x2 = int(input(\"Enter any number:\"))\n",
    "x3 = int(input(\"Enter any number:\"))\n",
    "x4 = int(input(\"Enter any number:\"))\n",
    "k=(x1+x2)**2 \n",
    "s=(x3+x4)**3\n",
    "x = [x1, x2, x3, x4]\n",
    "varience  = statistics.variance(x) \n",
    "z = varience **0.5\n",
    "print (\"standard_devitation :\",z)\n",
    "standard_devitation = math.sqrt(varience) \n",
    "print (\"k value : \",k)\n",
    "print (\"s value : \",s)\n",
    "print( \"varience : \", varience)\n",
    "print ( \"standard_dev:\",standard_devitation)\n",
    "#y = mx+c\n",
    "m = 1.23\n",
    "b = 0.045\n",
    "x = x1+x2+x3+x4\n",
    "y = 1.23 * x + b\n",
    "print(\"y value :\",y)\n",
    "average  =(x1+x2+x3+4)/4\n",
    "print(\"average :\",average)\n",
    "sume = x1+x2+x3+x4\n",
    "print(\"sume :\",sume)\n"
   ]
  },
  {
   "cell_type": "code",
   "execution_count": null,
   "id": "b697778d-833c-41bb-b80b-eae3a1bf2932",
   "metadata": {},
   "outputs": [],
   "source": []
  },
  {
   "cell_type": "code",
   "execution_count": 86,
   "id": "0e5644fe-4355-404f-bd12-62a227f1d098",
   "metadata": {},
   "outputs": [
    {
     "name": "stdin",
     "output_type": "stream",
     "text": [
      "Enter distance in kilometers:  12\n"
     ]
    },
    {
     "name": "stdout",
     "output_type": "stream",
     "text": [
      "METERS: 12000.00 m\n",
      "CM: 1200000.00 cm\n",
      "MILLI_METERS: 12000000.00 mm\n",
      "FEETS: 39370.08 ft\n",
      "YARDS: 13123.32 yd\n"
     ]
    }
   ],
   "source": [
    "\n",
    "km = float(input(\"Enter distance in kilometers: \"))\n",
    "METERS = km * 1000\n",
    "CM = METERS * 100\n",
    "MILLI_METERS = METERS * 1000\n",
    "FEETS = METERS * 3.28084\n",
    "YARDS = METERS * 1.09361\n",
    "#Show that in cm, meters, in milli meters, cents, feets, yards\n",
    "print(f\"METERS: {METERS:.2f} m\")\n",
    "print(f\"CM: {CM:.2f} cm\")\n",
    "print(f\"MILLI_METERS: {MILLI_METERS:.2f} mm\")\n",
    "print(f\"FEETS: {FEETS:.2f} ft\")\n",
    "print(f\"YARDS: {YARDS:.2f} yd\")\n"
   ]
  },
  {
   "cell_type": "code",
   "execution_count": 18,
   "id": "b8ed25d4-9178-40ec-9139-034d354c572b",
   "metadata": {},
   "outputs": [
    {
     "name": "stdin",
     "output_type": "stream",
     "text": [
      "Enter size of hard disk :  12\n"
     ]
    },
    {
     "name": "stdout",
     "output_type": "stream",
     "text": [
      "MB :  12288.0\n",
      "KB :  12582912.0\n",
      "TB :  0.01171875\n",
      "PB :  1.1444091796875e-05\n"
     ]
    }
   ],
   "source": [
    "GB = float(input(\"Enter size of hard disk : \"))\n",
    "MB = GB * 1024        \n",
    "KB = MB * 1024        \n",
    "TB = GB / 1024        \n",
    "PB = TB / 1024   \n",
    "\n",
    "print(\"MB : \",MB)\n",
    "print(\"KB : \",KB)\n",
    "print(\"TB : \",TB)\n",
    "print(\"PB : \",PB)"
   ]
  },
  {
   "cell_type": "code",
   "execution_count": null,
   "id": "19860ebf-bdd8-4bb3-a73d-848a3206c426",
   "metadata": {},
   "outputs": [],
   "source": [
    "#7.  Take name, age, height from the user and print like below\n",
    "#The details of the person: Name:name of the person, Age:age of the person, Height:height of the person"
   ]
  },
  {
   "cell_type": "code",
   "execution_count": 36,
   "id": "9eadaa7c-3831-4b25-b2a8-16faad0b8514",
   "metadata": {},
   "outputs": [
    {
     "name": "stdin",
     "output_type": "stream",
     "text": [
      "Enter your name : kishore\n",
      "Enter your age : 23\n",
      "enter your height : 6.0\n"
     ]
    },
    {
     "name": "stdout",
     "output_type": "stream",
     "text": [
      "The details of the person: Name: kishore of the person ,Age: 23 of the person Height: 6.0 of the person\n"
     ]
    }
   ],
   "source": [
    "x = input(\"Enter your name :\")\n",
    "y = int(input(\"Enter your age :\"))\n",
    "z = float(input(\"enter your height :\"))\n",
    "#The details of the person: Name:name of the person, Age:age of the person, Height:height of the person\n",
    "print(f\"The details of the person: Name: {x } of the person ,Age: {y} of the person Height: { z } of the person\")\n"
   ]
  },
  {
   "cell_type": "code",
   "execution_count": 44,
   "id": "a428346c-8842-4fdc-a248-fe8e692efce1",
   "metadata": {},
   "outputs": [
    {
     "name": "stdin",
     "output_type": "stream",
     "text": [
      "Enter your weight : 90\n",
      "Enter your height : 6.0\n"
     ]
    },
    {
     "name": "stdout",
     "output_type": "stream",
     "text": [
      "BMI :2.500\n"
     ]
    }
   ],
   "source": [
    "WEIGHT = float(input(\"Enter your weight :\"))\n",
    "HEIGHT = float(input(\"Enter your height :\"))\n",
    "BMI = WEIGHT / (HEIGHT ** 2)\n",
    "print(f\"BMI :{BMI:.3f}\")"
   ]
  },
  {
   "cell_type": "code",
   "execution_count": 66,
   "id": "893df147-bf61-45d5-a607-85e2bb9c6fc7",
   "metadata": {},
   "outputs": [
    {
     "name": "stdout",
     "output_type": "stream",
     "text": [
      "NAME : Jayaram ,AGE : 1.60,HEIGHT : 3.536,WEIGHT: 10.344\n"
     ]
    }
   ],
   "source": [
    "name = \"Jayaram\"\n",
    "age = 1.6\n",
    "height = 3.5356234\n",
    "weight = 10.343856783\n",
    "print (\"NAME : %s ,AGE : %.2f,HEIGHT : %.3f,WEIGHT: %.3f\" %(name,age,height,weight))"
   ]
  },
  {
   "cell_type": "code",
   "execution_count": 72,
   "id": "85d7a698-3e16-44b6-a0e4-9113113b57f8",
   "metadata": {},
   "outputs": [
    {
     "name": "stdin",
     "output_type": "stream",
     "text": [
      "enter your name  KISHORE\n"
     ]
    },
    {
     "data": {
      "text/plain": [
       "'kishore'"
      ]
     },
     "execution_count": 72,
     "metadata": {},
     "output_type": "execute_result"
    }
   ],
   "source": [
    "#10. Take three upper case letters from the user convert in to small case.\n",
    "x = input(\"enter your name \")\n",
    "k = x.lower()\n",
    "k"
   ]
  },
  {
   "cell_type": "code",
   "execution_count": 78,
   "id": "4086f564-247c-45b4-94ae-00e59b551e54",
   "metadata": {},
   "outputs": [
    {
     "name": "stdin",
     "output_type": "stream",
     "text": [
      "enter your price  12\n",
      "enter your price  13\n",
      "enter your price  14\n",
      "enter your price  15\n"
     ]
    },
    {
     "name": "stdout",
     "output_type": "stream",
     "text": [
      "Total_cost : 54\n",
      "average_cost:  13.5\n",
      "max_cost:  15\n",
      "min_cost:  12\n"
     ]
    }
   ],
   "source": [
    "#12. Take some groceries cost prices and print total cost and average cost, what is the max cost, what is the minimum cost.\n",
    "# Take the number of grocery items from the user\n",
    "groceries_cost_prices1 = int(input(\"enter your price \"))\n",
    "groceries_cost_prices2 = int(input(\"enter your price \"))\n",
    "groceries_cost_prices3 = int(input(\"enter your price \"))\n",
    "groceries_cost_prices4 = int(input(\"enter your price \"))\n",
    "x = [groceries_cost_prices1,groceries_cost_prices2,groceries_cost_prices3,groceries_cost_prices4]\n",
    "r = sum(x)\n",
    "k = len(x)\n",
    "\n",
    "Total_cost = groceries_cost_prices1 + groceries_cost_prices2 + groceries_cost_prices3 + groceries_cost_prices4\n",
    "print(\"Total_cost :\",Total_cost)\n",
    "average_cost = r/k\n",
    "print(\"average_cost: \",average_cost)\n",
    "max_cost = max(x)\n",
    "print(\"max_cost: \",max_cost)\n",
    "min_cost =min(x)\n",
    "print(\"min_cost: \",min_cost)\n",
    "\n",
    "                             \n"
   ]
  },
  {
   "cell_type": "code",
   "execution_count": null,
   "id": "601d61d0-5739-417c-9fc5-f2580822f90c",
   "metadata": {},
   "outputs": [],
   "source": []
  }
 ],
 "metadata": {
  "kernelspec": {
   "display_name": "Python 3 (ipykernel)",
   "language": "python",
   "name": "python3"
  },
  "language_info": {
   "codemirror_mode": {
    "name": "ipython",
    "version": 3
   },
   "file_extension": ".py",
   "mimetype": "text/x-python",
   "name": "python",
   "nbconvert_exporter": "python",
   "pygments_lexer": "ipython3",
   "version": "3.12.4"
  }
 },
 "nbformat": 4,
 "nbformat_minor": 5
}
