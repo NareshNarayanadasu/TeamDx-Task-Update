{
 "cells": [
  {
   "cell_type": "markdown",
   "id": "a57a1151-b726-442d-b7a8-624c1811ddc3",
   "metadata": {},
   "source": [
    "#### 1. Take the input from the user for(Total number of people,Number of seats for bus. Based on two inputs Decide how many number of buses required\n"
   ]
  },
  {
   "cell_type": "code",
   "execution_count": null,
   "id": "b670d8c1-3a88-4390-80fe-8ef7d9e977ef",
   "metadata": {},
   "outputs": [],
   "source": [
    "import math\n",
    "people=int(input())\n",
    "seats=int(input())\n",
    "buses=math.ceil(people/seats)\n",
    "print(\"buses\",buses)"
   ]
  },
  {
   "cell_type": "code",
   "execution_count": 11,
   "id": "481a4ee6-cc0b-4bd2-9c53-3aa9a14b16f7",
   "metadata": {},
   "outputs": [
    {
     "name": "stdin",
     "output_type": "stream",
     "text": [
      "temp in fh:  102.9\n"
     ]
    },
    {
     "name": "stdout",
     "output_type": "stream",
     "text": [
      "102.9°F = 39.39°C\n"
     ]
    }
   ],
   "source": [
    "#2.take temperature from the user and convert foreign heat -> Celsius.\n",
    "fh = float(input(\"temp in fh: \"))\n",
    "celsuis = (fh-32)*5/9\n",
    "print(f\"{fh}°F = {celsuis:.2f}°C\")"
   ]
  },
  {
   "cell_type": "code",
   "execution_count": 15,
   "id": "1e8df468-13dd-4f4b-ad12-5487dea458db",
   "metadata": {},
   "outputs": [
    {
     "name": "stdin",
     "output_type": "stream",
     "text": [
      "temp in cls:  42.5\n"
     ]
    },
    {
     "name": "stdout",
     "output_type": "stream",
     "text": [
      "42.50°C = 108.5°F\n"
     ]
    }
   ],
   "source": [
    "#3.take temperature from the user and convert Celsius → foreign heat.\n",
    "celsuis = float(input(\"temp in cls: \"))\n",
    "fh = (celsuis* 9/5) + 32\n",
    "print(f\"{celsuis:.2f}°C = {fh}°F\")"
   ]
  },
  {
   "cell_type": "code",
   "execution_count": 25,
   "id": "e2b87203-94ab-4363-bcd9-dc050f9dd76d",
   "metadata": {},
   "outputs": [
    {
     "name": "stdin",
     "output_type": "stream",
     "text": [
      "x1:  5\n",
      "x2:  94\n",
      "x3:  68\n",
      "x4:  88\n"
     ]
    },
    {
     "name": "stdout",
     "output_type": "stream",
     "text": [
      "(x1 + x2)^2 = 9801.00\n",
      "(x3 + x4)^3 = 3796416.00\n",
      "Variance = 1243.19\n",
      "Standard Deviation = 35.26\n",
      "Regression (y = mx + b) = 313.69\n",
      "Average of the four numbers = 63.75\n",
      "Sum of the four numbers = 255.00\n"
     ]
    }
   ],
   "source": [
    "#4.take four number from the user (variables name it as x1,x2,x3,x4)\n",
    "\n",
    "#Do the below operations\n",
    "\n",
    "#(x1+x2)**2, (x3+x4)**3\n",
    "\n",
    "#variance\n",
    "\n",
    "#standard deviation: sqrt(variance): User math module. Math.sqrt(variance)\n",
    "\n",
    "#Regression\n",
    "\n",
    "#y=mx+b\n",
    "\n",
    "#m=1.23\n",
    "\n",
    "#b=0.045\n",
    "\n",
    "#find out y\n",
    "\n",
    "#y=m*(x1+x2+x3+x4)+b\n",
    "\n",
    "#Find the average of four numbers\n",
    "\n",
    "#Find the sum of four numbers\n",
    "x1 = float(input(\"x1: \"))\n",
    "x2 = float(input(\"x2: \"))\n",
    "x3 = float(input(\"x3: \"))\n",
    "x4 = float(input(\"x4: \"))\n",
    "\n",
    "result1 = (x1 + x2)**2\n",
    "result2 = (x3 + x4)**3\n",
    "\n",
    "num = [x1, x2, x3, x4]\n",
    "mean = sum(num) / len(num)\n",
    "variance = sum((xi - mean) ** 2 for xi in num) / len(num)\n",
    "\n",
    "# 3. Calculate standard deviation\n",
    "std_deviation = (variance)**0.5\n",
    "\n",
    "# 4. Calculate regression (y = mx + b, where m = 1.23 and b = 0.045)\n",
    "m = 1.23\n",
    "b = 0.045\n",
    "y = m * (x1 + x2 + x3 + x4) + b\n",
    "\n",
    "average = mean\n",
    "\n",
    "total_sum = sum(num)\n",
    "\n",
    "print(f\"(x1 + x2)^2 = {result1:.2f}\")\n",
    "print(f\"(x3 + x4)^3 = {result2:.2f}\")\n",
    "print(f\"Variance = {variance:.2f}\")\n",
    "print(f\"Standard Deviation = {std_deviation:.2f}\")\n",
    "print(f\"Regression (y = mx + b) = {y:.2f}\")\n",
    "print(f\"Average of the four numbers = {average:.2f}\")\n",
    "print(f\"Sum of the four numbers = {total_sum:.2f}\")\n"
   ]
  },
  {
   "cell_type": "code",
   "execution_count": 37,
   "id": "de3a9f09-ef39-4947-92c0-175188c6c027",
   "metadata": {},
   "outputs": [
    {
     "name": "stdin",
     "output_type": "stream",
     "text": [
      "Enter kilometers:  36.2\n"
     ]
    },
    {
     "name": "stdout",
     "output_type": "stream",
     "text": [
      "36.2 kms = 36200.0 mtrs \n",
      "36.2 kms = 3620000.0 cms \n",
      "36.2 kms = 36200000.0 mms \n",
      "36.2 kms = 118766.408feets \n",
      "36.2 kms =39588.682yards\n"
     ]
    }
   ],
   "source": [
    "#5.Take the distance in km\n",
    "\n",
    "#Show that in cm, meters, in milli meters, cents, feets, yards\n",
    "km = float(input(\"Enter kilometers: \"))\n",
    "\n",
    "mtrs = km * 1000\n",
    "cm = mtrs * 100\n",
    "mm = mtrs * 1000\n",
    "feet = mtrs * 3.28084\n",
    "yards = mtrs * 1.09361\n",
    "print(f\"{km} kms = {mtrs} mtrs \\n{km} kms = {cm} cms \\n{km} kms = {mm} mms \\n{km} kms = {feet}feets \\n{km} kms ={yards}yards\")"
   ]
  },
  {
   "cell_type": "code",
   "execution_count": 59,
   "id": "55759043-6539-47f0-9eb9-cb3344e60755",
   "metadata": {},
   "outputs": [
    {
     "name": "stdin",
     "output_type": "stream",
     "text": [
      "hard disk in GB:  512\n"
     ]
    },
    {
     "name": "stdout",
     "output_type": "stream",
     "text": [
      "your hard disk 524288.00 MBS\n",
      "your hard disk 536870912.00 KBS\n",
      "your hard disk 0.50 TB\n",
      "your hard disk 0.00 PB\n"
     ]
    }
   ],
   "source": [
    "#6.Take the size of your hard disk in GB\n",
    "\n",
    "#Show that in MB, KB, TB, PB\n",
    "gb = float(input(\"hard disk in GB: \"))\n",
    "\n",
    "mb = gb * 1024\n",
    "kb = mb * 1024\n",
    "tb = gb / 1024\n",
    "pb = tb / 1024\n",
    "print(f\"your hard disk {mb:.2f} MBS\")\n",
    "print(f\"your hard disk {kb:.2f} KBS\")\n",
    "print(f\"your hard disk {tb:.2f} TB\")\n",
    "print(f\"your hard disk {pb:.2f} PB\")"
   ]
  },
  {
   "cell_type": "code",
   "execution_count": 73,
   "id": "748d01ef-658f-40f4-adb1-d611e370f4d5",
   "metadata": {},
   "outputs": [
    {
     "name": "stdin",
     "output_type": "stream",
     "text": [
      " Badireddy\n",
      " 24\n",
      " 5.9\n"
     ]
    },
    {
     "name": "stdout",
     "output_type": "stream",
     "text": [
      "The details of the person:name:Badireddy,age:24,Height:5.9\n"
     ]
    }
   ],
   "source": [
    "#7. Take name, age, height from the user and print like below\n",
    "\n",
    "#The details of the person: Name:name of the person, Age:age of the person, Height:height of the person\n",
    "#Note: make sure that no space between : and a value and should be space after “COMA”\n",
    "name=input()\n",
    "age=int(input())\n",
    "height=float(input())\n",
    "print(f\"The details of the person:name:{name},age:{age},Height:{height}\")"
   ]
  },
  {
   "cell_type": "code",
   "execution_count": 85,
   "id": "9c168aea-d17e-4c8f-8856-088f00bcb031",
   "metadata": {},
   "outputs": [
    {
     "name": "stdin",
     "output_type": "stream",
     "text": [
      "your weight 64\n",
      "your height 5.9\n"
     ]
    },
    {
     "name": "stdout",
     "output_type": "stream",
     "text": [
      "your BMI is:1.84\n",
      "You have a normal weight.\n"
     ]
    }
   ],
   "source": [
    "#8. BMI calculation: take required parameters for BMI calculation from the user and calculate BMI of the person.\n",
    "weight=float(input(\"your weight\"))\n",
    "height=float(input(\"your height\"))\n",
    "bmi = weight/(height**2)\n",
    "print(f\"your BMI is:{bmi:.2f}\")\n",
    "if bmi < 1:\n",
    "    print(\"You are underweight.\")\n",
    "elif 1 <= bmi < 2:\n",
    "    print(\"You have a normal weight.\")\n",
    "elif 2 <= bmi < 5:\n",
    "    print(\"You are overweight.\")\n",
    "else:\n",
    "    print(\"You are obese.\")"
   ]
  },
  {
   "cell_type": "code",
   "execution_count": 113,
   "id": "6d9887ef-40e1-40e1-8359-e388c60d5bfe",
   "metadata": {},
   "outputs": [
    {
     "name": "stdout",
     "output_type": "stream",
     "text": [
      "name:Jayaram ,Age:1 ,Height:3.54 ,Weight:10.34\n"
     ]
    }
   ],
   "source": [
    "#9. name=\"Jayaram\"\n",
    "\n",
    "#age=1.6\n",
    "\n",
    "#height=3.5356234\n",
    "\n",
    "#weight=10.343856783\n",
    "\n",
    "#By using above inputs print the output\n",
    "\n",
    "#Name:Jayaram, Age:1.6, Height:3.54, Weight:10.344\n",
    "\n",
    "#Note: Use format specifiers(%s, %d, %f)\n",
    "name=\"Jayaram\"\n",
    "\n",
    "age=1.6\n",
    "\n",
    "height=3.5356234\n",
    "\n",
    "weight=10.343856783\n",
    "print(\"name:%s\"%name,\",Age:%d\"%age,\",Height:%.2f\"%height,\",Weight:%.2f\"%weight)"
   ]
  },
  {
   "cell_type": "code",
   "execution_count": 153,
   "id": "54105c02-ea2d-4c17-9f9d-26a10694477a",
   "metadata": {},
   "outputs": [
    {
     "name": "stdin",
     "output_type": "stream",
     "text": [
      " ABC\n"
     ]
    },
    {
     "name": "stdout",
     "output_type": "stream",
     "text": [
      "abc\n"
     ]
    }
   ],
   "source": [
    "#10. Take three upper case letters from the user convert in to small case.\n",
    "a = input()\n",
    "b = a.lower()\n",
    "print(b)"
   ]
  },
  {
   "cell_type": "code",
   "execution_count": 155,
   "id": "7fac5995-097d-479f-9c4a-a08ca9e1eb73",
   "metadata": {},
   "outputs": [
    {
     "name": "stdin",
     "output_type": "stream",
     "text": [
      " abnd\n"
     ]
    },
    {
     "name": "stdout",
     "output_type": "stream",
     "text": [
      "ABND\n"
     ]
    }
   ],
   "source": [
    "a = input()\n",
    "b = a.upper()\n",
    "print(b)"
   ]
  },
  {
   "cell_type": "code",
   "execution_count": 137,
   "id": "3a7b9a7b-4b34-42b0-92f8-d19ae9fb8d18",
   "metadata": {},
   "outputs": [
    {
     "name": "stdin",
     "output_type": "stream",
     "text": [
      " 2\n",
      " 3\n"
     ]
    },
    {
     "name": "stdout",
     "output_type": "stream",
     "text": [
      "2³\n"
     ]
    }
   ],
   "source": [
    "#11. take base and exponent value from the user and print like in mathematics:\n",
    "\n",
    "#example: base=2, exponent=3: 23\n",
    "\n",
    "#Use: 2\\u00b3\n",
    "base = int(input())\n",
    "exponent = int(input())\n",
    "print(f\"{base}\\u00b3\")   \n",
    "#base\\u2074   4 in power \n",
    "#base\\u2075   5 in power\n",
    "#{base}\\u00b9\\u2070{exponent_str[1]}\")  # For displaying \"2¹⁰\""
   ]
  },
  {
   "cell_type": "code",
   "execution_count": 143,
   "id": "e06b1c73-857e-48f3-af23-5fcb49b0653f",
   "metadata": {},
   "outputs": [
    {
     "name": "stdin",
     "output_type": "stream",
     "text": [
      " 987\n",
      " 4365\n",
      " 95\n"
     ]
    },
    {
     "name": "stdout",
     "output_type": "stream",
     "text": [
      "total_cost:  5447\n",
      "avg_cost: 1815.67\n"
     ]
    }
   ],
   "source": [
    "cost = int(input())\n",
    "cost1 = int(input())\n",
    "cost2 = int(input())\n",
    "total_cost = cost+cost1+cost2\n",
    "avg_cost = total_cost/3\n",
    "print(\"total_cost: \",total_cost)\n",
    "print(f\"avg_cost: {avg_cost:.2f}\")"
   ]
  },
  {
   "cell_type": "code",
   "execution_count": 149,
   "id": "496cf5cd-c08e-4658-b9cc-60eb4756a4a8",
   "metadata": {},
   "outputs": [
    {
     "name": "stdin",
     "output_type": "stream",
     "text": [
      "Enter the number of grocery items:  5\n",
      "Enter the cost of item 1:  652\n",
      "Enter the cost of item 2:  693\n",
      "Enter the cost of item 3:  1253\n",
      "Enter the cost of item 4:  694\n",
      "Enter the cost of item 5:  3652\n"
     ]
    },
    {
     "name": "stdout",
     "output_type": "stream",
     "text": [
      "Total cost: Rs.6944.00\n",
      "Average cost:Rs. 1388.80\n",
      "Maximum cost: Rs.3652.00\n",
      "Minimum cost: Rs.652.00\n"
     ]
    }
   ],
   "source": [
    "#12. Take some groceries cost prices and print total cost and average cost, what is the max cost, what is the minimum cost.\n",
    "num_items = int(input(\"Enter the number of grocery items: \"))\n",
    "\n",
    "costs = []\n",
    "\n",
    "for i in range(num_items):\n",
    "    cost = float(input(f\"Enter the cost of item {i+1}: \"))\n",
    "    costs.append(cost)\n",
    "\n",
    "total_cost = sum(costs)\n",
    "\n",
    "average_cost = total_cost / num_items\n",
    "\n",
    "max_cost = max(costs)\n",
    "\n",
    "min_cost = min(costs)\n",
    "\n",
    "print(f\"Total cost: Rs.{total_cost:.2f}\")\n",
    "print(f\"Average cost:Rs.{average_cost:.2f}\")\n",
    "print(f\"Maximum cost: Rs.{max_cost:.2f}\")\n",
    "print(f\"Minimum cost: Rs.{min_cost:.2f}\")"
   ]
  },
  {
   "cell_type": "code",
   "execution_count": 8,
   "id": "57a41701-752a-40f1-81f8-bf78411fc2ec",
   "metadata": {},
   "outputs": [
    {
     "name": "stdin",
     "output_type": "stream",
     "text": [
      "Enter the total number of people:  120\n",
      "Enter the total number of buses:  3\n",
      "Enter the number of seats per bus:  35\n",
      "Enter the adjust factor (e.g., 1.0 for no adjustment, 0.9 for 90% capacity):  1\n"
     ]
    },
    {
     "name": "stdout",
     "output_type": "stream",
     "text": [
      "Extra buses required: 1\n"
     ]
    }
   ],
   "source": [
    "#13. Take the input from the user for(Total number of people, total number of buses, Number of seats for bus, adjust factor). Based on four inputs\n",
    "\n",
    "#Decide whether there is sufficient buses or not and give solution for how many extra buses required.\n",
    "total_people = int(input(\"Enter the total number of people: \"))\n",
    "total_buses = int(input(\"Enter the total number of buses: \"))\n",
    "seats_per_bus = int(input(\"Enter the number of seats per bus: \"))\n",
    "adjust_factor = float(input(\"Enter the adjust factor (e.g., 1.0 for no adjustment, 0.9 for 90% capacity): \"))\n",
    "\n",
    "# Calculate total seating capacity\n",
    "total_capacity = total_buses * seats_per_bus * adjust_factor\n",
    "\n",
    "# Check if buses are sufficient\n",
    "if total_capacity >= total_people:\n",
    "    print(\"The number of buses is sufficient.\")\n",
    "else:\n",
    "    # Calculate extra buses required\n",
    "    required_capacity = total_people / adjust_factor\n",
    "    extra_buses = (required_capacity // seats_per_bus) - total_buses\n",
    "    extra_buses = int(extra_buses) + (1 if required_capacity % seats_per_bus > 0 else 0)\n",
    "    print(f\"Extra buses required: {extra_buses}\")\n"
   ]
  },
  {
   "cell_type": "code",
   "execution_count": 5,
   "id": "7027336c-28f6-4cbe-b042-1645fa407b4d",
   "metadata": {},
   "outputs": [
    {
     "name": "stdin",
     "output_type": "stream",
     "text": [
      "Enter a number:  159\n"
     ]
    },
    {
     "name": "stdout",
     "output_type": "stream",
     "text": [
      "159 is an odd number.\n"
     ]
    }
   ],
   "source": [
    "#14.Take number from the user decide whether it is even or odd.\n",
    "number = int(input(\"Enter a number: \"))\n",
    "\n",
    "if number % 2 == 0:\n",
    "    print(f\"{number} is an even number.\")\n",
    "else:\n",
    "    print(f\"{number} is an odd number.\")\n"
   ]
  },
  {
   "cell_type": "code",
   "execution_count": 9,
   "id": "1700f28f-e3da-43ad-9602-9ccc998e3ece",
   "metadata": {},
   "outputs": [
    {
     "name": "stdin",
     "output_type": "stream",
     "text": [
      "Enter a number:  00\n"
     ]
    },
    {
     "name": "stdout",
     "output_type": "stream",
     "text": [
      "The number is zero.\n"
     ]
    }
   ],
   "source": [
    "#15.take number from the user decide whether it is positive number or negative number\n",
    "number = float(input(\"Enter a number: \"))\n",
    "\n",
    "if number > 0:\n",
    "    print(f\"{number} is a positive number.\")\n",
    "elif number < 0:\n",
    "    print(f\"{number} is a negative number.\")\n",
    "else:\n",
    "    print(\"The number is zero.\")\n"
   ]
  },
  {
   "cell_type": "code",
   "execution_count": 13,
   "id": "e07cd664-bbea-43b4-b272-edfdcf77843f",
   "metadata": {},
   "outputs": [
    {
     "name": "stdin",
     "output_type": "stream",
     "text": [
      "Enter a string:  \n"
     ]
    },
    {
     "name": "stdout",
     "output_type": "stream",
     "text": [
      "Error: You did not enter anything. Please provide a valid string.\n"
     ]
    }
   ],
   "source": [
    "#16.take a string from the user print the length. if the user not given anything then show an error message\n",
    "# Get user input\n",
    "user_input = input(\"Enter a string: \")\n",
    "\n",
    "if user_input:\n",
    "    print(f\"The length of the string is: {len(user_input)}\")\n",
    "else:\n",
    "    print(\"Error: You did not enter anything. Please provide a valid string.\")\n"
   ]
  },
  {
   "cell_type": "markdown",
   "id": "b6116464-1ee4-4a7b-b1ea-cfc79424533f",
   "metadata": {},
   "source": [
    "### 17.code to perform mathematical operations. take two numbers from the user and show the below menu\n",
    "\n",
    "1. add,\n",
    "\n",
    "2. sub,\n",
    "\n",
    "3. mul,\n",
    "\n",
    "4.div,\n",
    "\n",
    "5.quit\n",
    "\n",
    "Enter an option:\n",
    "\n",
    "based on the option need to perform an operations"
   ]
  },
  {
   "cell_type": "code",
   "execution_count": 6,
   "id": "828a1382-00ed-4ec3-91a9-d8d06e82ca8e",
   "metadata": {},
   "outputs": [
    {
     "name": "stdin",
     "output_type": "stream",
     "text": [
      "enter an option 4\n"
     ]
    },
    {
     "name": "stdout",
     "output_type": "stream",
     "text": [
      "1.125\n",
      "thank you\n"
     ]
    }
   ],
   "source": [
    "a = 9\n",
    "b = 8\n",
    "opt = input(\"enter an option\")\n",
    "if opt ==\"1\":\n",
    "    print(a+b)\n",
    "if opt ==\"2\":\n",
    "    print(a-b)\n",
    "if opt ==\"3\":\n",
    "    print(a*b)\n",
    "if opt ==\"4\":\n",
    "    print(a/b)\n",
    "else:\n",
    "    print(\"enter valid option\")\n",
    "print(\"thank you\")"
   ]
  },
  {
   "cell_type": "markdown",
   "id": "5c0bf255-ab7c-42e6-afd1-8b28b01d1c4c",
   "metadata": {},
   "source": [
    "### 18. show the menu:\n",
    "\n",
    "1. kids\n",
    "\n",
    "2. Men's\n",
    "\n",
    "3. Women's\n",
    "\n",
    "Show the corresponding message based on the selection.\n",
    "\n",
    "Option:1: you are a kid\n",
    "\n",
    "2: you are a gentlemen\n",
    "\n",
    "3: you are a good women\n",
    "\n",
    "Mention error message if the option value >3."
   ]
  },
  {
   "cell_type": "code",
   "execution_count": 39,
   "id": "2ae888d6-8435-4d5d-9b12-4a199365cfa6",
   "metadata": {},
   "outputs": [
    {
     "name": "stdin",
     "output_type": "stream",
     "text": [
      "Enter an option :  1\n"
     ]
    },
    {
     "name": "stdout",
     "output_type": "stream",
     "text": [
      "You are a kid.\n"
     ]
    }
   ],
   "source": [
    "option = input(\"Enter an option : \")\n",
    "\n",
    "if option == \"1\":\n",
    "    print(\"You are a kid.\")\n",
    "elif option == \"2\":\n",
    "    print(\"You are a gentleman.\")\n",
    "elif option == \"3\":\n",
    "    print(\"You are a good woman.\")\n",
    "else:\n",
    "    print(\"Error: Invalid option. Please select a number between 1 and 3.\")\n"
   ]
  },
  {
   "cell_type": "markdown",
   "id": "029f13bb-a030-40f8-af59-00f43b4a1a26",
   "metadata": {},
   "source": [
    "### 19. write a program to chcek given substring is there in actual string or not?\n",
    "\n",
    "example: act=\"python is a pure object oriented programing language\"\n",
    "\n",
    "check whether “pure” is there in act or not.\n",
    "\n",
    "Note: Use in operator"
   ]
  },
  {
   "cell_type": "code",
   "execution_count": 25,
   "id": "6bf7c276-5103-4ec0-88ac-3880e81271cb",
   "metadata": {},
   "outputs": [
    {
     "name": "stdout",
     "output_type": "stream",
     "text": [
      "pure is present in act_string\n"
     ]
    }
   ],
   "source": [
    "act_string = \"python is a pure object oriented programing language\"\n",
    "\n",
    "substring = \"pure\"\n",
    "if substring in act_string :\n",
    "    print(f\"{substring} is present in act_string\")\n",
    "else:\n",
    "    print(f\"{substring} is not present in act_string\")"
   ]
  },
  {
   "cell_type": "markdown",
   "id": "895dabff-8878-4398-b403-14c4d8db2e1d",
   "metadata": {},
   "source": [
    "### 20. Take three numbers from the user and decide which is big"
   ]
  },
  {
   "cell_type": "code",
   "execution_count": 34,
   "id": "e7214f4a-c4de-48fa-a16c-58282f590585",
   "metadata": {},
   "outputs": [
    {
     "name": "stdin",
     "output_type": "stream",
     "text": [
      "Enter the first number:  5.9\n",
      "Enter the second number:  6.4\n",
      "Enter the third number:  2.9\n"
     ]
    },
    {
     "name": "stdout",
     "output_type": "stream",
     "text": [
      "The largest number is: 6.4\n"
     ]
    }
   ],
   "source": [
    "num1 = float(input(\"Enter the first number: \"))\n",
    "num2 = float(input(\"Enter the second number: \"))\n",
    "num3 = float(input(\"Enter the third number: \"))\n",
    "if num1 >= num2 and num1 >= num3:\n",
    "    largest = num1\n",
    "elif num2 >= num1 and num2 >= num3:\n",
    "    largest = num2\n",
    "else:\n",
    "    largest = num3\n",
    "print(f\"The largest number is: {largest}\")"
   ]
  },
  {
   "cell_type": "markdown",
   "id": "0ed18f97-859d-4be3-a8aa-e682e6798963",
   "metadata": {},
   "source": [
    "### 21. Take age and gender from the user and decide whether he is eligible for marriage in India or not.\n",
    "\n",
    "Age criteria: men age>24, women>21"
   ]
  },
  {
   "cell_type": "code",
   "execution_count": 73,
   "id": "18e41282-45b6-439a-b61b-c2f97709bef8",
   "metadata": {},
   "outputs": [
    {
     "name": "stdin",
     "output_type": "stream",
     "text": [
      "enter your age :  25\n",
      "enter your gender :  m\n"
     ]
    },
    {
     "name": "stdout",
     "output_type": "stream",
     "text": [
      "your not eligible for marriage in india\n"
     ]
    }
   ],
   "source": [
    "age = int(input(\"enter your age : \"))\n",
    "gender = input(\"enter your gender : \")\n",
    "if (gender == \"male\" and (age >= 24)) or (gender == \"female\" and (age >= 21)):\n",
    "    print(\"your eligiblr for marriage in india\")\n",
    "else:\n",
    "    print(\"your not eligible for marriage in india\")\n",
    "    "
   ]
  },
  {
   "cell_type": "markdown",
   "id": "784d0c8e-bfd5-4067-96c3-1cde4808b0d3",
   "metadata": {},
   "source": [
    "### 22. Take an age and gender from the user: and mention that what he/she can do in india.\n",
    "\n",
    "\"\"\"\n",
    "\n",
    "conditions\n",
    "\n",
    "1. Theatre: 5 for men 7 for women\n",
    "\n",
    "2. Voting system: 18 for men and women\n",
    "\n",
    "3. Marriage in india: 23 for men and for women >21\n",
    "\n",
    "4. For govt jobs: (min:18, max:32) for men and (min:18, max:34) for women\n",
    "\n",
    "5. For driving licence: (min:18, max:60) for men and women\n",
    "\n",
    "Eligibility:\n",
    "\n",
    "1. theatre\n",
    "\n",
    "2. Voting system\n",
    "\n",
    "3. Marriage in india\n",
    "\n",
    "4. For govt obs\n",
    "\n",
    "5. For driving licence:\n",
    "\n",
    "Enter an option:\n",
    "\n",
    "Gender:\n",
    "\n",
    "1. men\n",
    "\n",
    "2. women\n",
    "\n",
    "Enter an option:\n",
    "\n",
    "Enter an age of person:"
   ]
  },
  {
   "cell_type": "code",
   "execution_count": 91,
   "id": "42bb49ce-113a-4dd3-96d8-bcd925b3fa7e",
   "metadata": {},
   "outputs": [
    {
     "name": "stdout",
     "output_type": "stream",
     "text": [
      "option 1. theatre\n",
      "option 2. Voting system\n",
      "option 3. Marriage in india\n",
      "option 4. For govt obs\n",
      "option 5. For driving licence:\n"
     ]
    },
    {
     "name": "stdin",
     "output_type": "stream",
     "text": [
      "Enter an option :  9\n",
      "enter your age :  65\n",
      "enter your gender :  652\n"
     ]
    },
    {
     "name": "stdout",
     "output_type": "stream",
     "text": [
      "invalid details: please enter valid details\n"
     ]
    }
   ],
   "source": [
    "print(\"option 1. theatre\")\n",
    "print(\"option 2. Voting system\")\n",
    "print(\"option 3. Marriage in india\")\n",
    "print(\"option 4. For govt obs\")\n",
    "print(\"option 5. For driving licence:\")\n",
    "\n",
    "opt = int(input(\"Enter an option : \"))\n",
    "age = int(input(\"enter your age : \"))\n",
    "gender = input(\"enter your gender : \")\n",
    "\n",
    "if opt == 1:\n",
    "    if gender == \"male\" and age >= 5:\n",
    "        print(\"your eligible to allow theatre\")\n",
    "    elif gender == \"female\" and age >=7:\n",
    "        print(\"your eligible to allow theatre\")\n",
    "    else:\n",
    "        print(\"your not eligible to allow theatre\")\n",
    "elif opt == 2:\n",
    "    if (gender == \"male\" or gender == \"female\") and age >= 18:\n",
    "        print(\"your eligible for voting\")\n",
    "    else:\n",
    "        print(\"your not eligible for voting\")\n",
    "elif opt == 3:\n",
    "    if (gender == \"male\" and (age >= 23)) or (gender == \"female\" and (age >= 21)):\n",
    "        print(\"your eligiblr for marriage in india\")\n",
    "    else:\n",
    "        print(\"your not eligible for marriage in india\")\n",
    "elif opt == 4:\n",
    "    if ( 18 <= age <= 32) and gender == \"men\" :\n",
    "        print(\"your eligible for govt jobs\")\n",
    "    elif (18 <= age <= 34) and gender == \"female\":\n",
    "        print(\"your eligible for govt jobs\")\n",
    "    else:\n",
    "         print(\"your not eligible for govt jobs\")\n",
    "elif opt == 5:\n",
    "     if (18 <= age <= 60) and (gender == \"men\" or gender == \"female\"):\n",
    "         print(\"your eligible for driving licence\")\n",
    "     else:\n",
    "         print(\"your not eligible for driving licence\")\n",
    "else:\n",
    "    print(\"invalid details: please enter valid details\")\n",
    "    "
   ]
  },
  {
   "cell_type": "markdown",
   "id": "fe13fdd6-10cb-4041-90fa-a74a0954e330",
   "metadata": {},
   "source": [
    "### 23. operating systems:\n",
    "\n",
    "1.windows\n",
    "\n",
    "2.android\n",
    "\n",
    "3.mac\n",
    "\n",
    "Enter an option:\n",
    "\n",
    "If the user enters 1 then show \"Goto first floor and buy windows laptop or mobile\"\n",
    "\n",
    "If the user enters 2 then show \"Goto second floor and buy adroid mobiles\"\n",
    "\n",
    "If the user enters 3 then show \"Goto third floor and buy mac laptop or iphones\"\n",
    "\n",
    "If the user enters other than 1 or 2 or 3 then show \"There is only three floors, please select 1 or 2 or 3\""
   ]
  },
  {
   "cell_type": "code",
   "execution_count": 97,
   "id": "a720b578-1d72-4c23-96a0-e574b8e6d61a",
   "metadata": {},
   "outputs": [
    {
     "name": "stdout",
     "output_type": "stream",
     "text": [
      "opt 1.windows\n",
      "opt 2.android\n",
      "opt 3.mac\n"
     ]
    },
    {
     "name": "stdin",
     "output_type": "stream",
     "text": [
      "enter an option :  8\n"
     ]
    },
    {
     "name": "stdout",
     "output_type": "stream",
     "text": [
      "There is only three floors, please select 1 or 2 or 3\n"
     ]
    }
   ],
   "source": [
    "print(\"opt 1.windows\")\n",
    "\n",
    "print(\"opt 2.android\")\n",
    "\n",
    "print(\"opt 3.mac\")\n",
    "opt = int(input( \"enter an option : \"))\n",
    "if opt == 1:\n",
    "    print(\" Go to first floor and buy windows laptop or mobile\")\n",
    "elif opt == 2:\n",
    "    print(\"Go to second floor and buy adroid mobiles\")\n",
    "elif opt == 3:\n",
    "    print(\"Go to third floor and buy mac laptop or iphones\")\n",
    "else:\n",
    "    print(\"There is only three floors, please select 1 or 2 or 3\")"
   ]
  },
  {
   "cell_type": "markdown",
   "id": "a78373df-9f12-40e2-a81a-6f697bc7100b",
   "metadata": {},
   "source": [
    "### 24.Given an age, figure out whether someone's a baby, toddler, child, teenager, adult or old codger."
   ]
  },
  {
   "cell_type": "code",
   "execution_count": 130,
   "id": "9d5fa11a-a2bb-449a-b283-ae75605ac107",
   "metadata": {},
   "outputs": [
    {
     "name": "stdin",
     "output_type": "stream",
     "text": [
      "enter age :  61\n"
     ]
    },
    {
     "name": "stdout",
     "output_type": "stream",
     "text": [
      "your old codger\n"
     ]
    }
   ],
   "source": [
    "age = int(input(\"enter age : \" ))\n",
    "if age <= 2:\n",
    "    print(\"your a baby \")\n",
    "elif age < 7 : \n",
    "    print(\"your a toddler \")\n",
    "elif age < 13 :\n",
    "    print(\"your a child \")\n",
    "elif age < 19:\n",
    "    print(\"your a teenager\")\n",
    "elif age < 60:\n",
    "    print(\" your a adult \")\n",
    "else:\n",
    "    print(\"your old codger\")"
   ]
  },
  {
   "cell_type": "markdown",
   "id": "4d45fe5e-f458-41ad-966e-cbde1478d28b",
   "metadata": {},
   "source": [
    "### 25.Take two number a,b from the user and check whether a is divisible by b or not"
   ]
  },
  {
   "cell_type": "code",
   "execution_count": 143,
   "id": "4894ab49-2b4d-4f2a-ba33-092b427632f2",
   "metadata": {},
   "outputs": [
    {
     "name": "stdin",
     "output_type": "stream",
     "text": [
      "enter number 1:  806547\n",
      "enter number 2:  9\n"
     ]
    },
    {
     "name": "stdout",
     "output_type": "stream",
     "text": [
      "a is not divisible by b \n"
     ]
    }
   ],
   "source": [
    "a = int(input(\"enter number 1: \"))\n",
    "b = int(input(\"enter number 2: \"))\n",
    "if a % b == 0:\n",
    "    print(\"a is divisible by b \")\n",
    "else:\n",
    "    print(\"a is not divisible by b \")"
   ]
  },
  {
   "cell_type": "markdown",
   "id": "55666161-bd49-4984-b3be-c93867666c53",
   "metadata": {},
   "source": [
    "### 26. Take a letter from the user and print that letter belongs to which category I.e is it a small letter or capital letter or number or special symbol"
   ]
  },
  {
   "cell_type": "code",
   "execution_count": 152,
   "id": "c516ea70-be41-4177-94f8-207598008b46",
   "metadata": {},
   "outputs": [
    {
     "name": "stdin",
     "output_type": "stream",
     "text": [
      "Enter letter :  +\n"
     ]
    },
    {
     "name": "stdout",
     "output_type": "stream",
     "text": [
      "special symbol.\n"
     ]
    }
   ],
   "source": [
    "letter = input(\"Enter letter : \")\n",
    "ascii_val = ord(letter)\n",
    "if   97 <= ascii_val <= 122:\n",
    "    print(\"small letter.\")\n",
    "elif 65 <= ascii_val <= 90:\n",
    "    print(\" capital letter.\")\n",
    "elif 48 <= ascii_val <= 57:\n",
    "    print(\" number.\")\n",
    "elif (33 <= ascii_val <= 47) or (58 <= ascii_val <= 64) or \\\n",
    "     (91 <= ascii_val <= 96) or (123 <= ascii_val <= 126):\n",
    "        print(\"special symbol.\")\n",
    "else:\n",
    "    print(\" invalied\")"
   ]
  },
  {
   "cell_type": "code",
   "execution_count": null,
   "id": "b40e63c2-10f3-4edc-ae6c-b23386faf002",
   "metadata": {},
   "outputs": [],
   "source": []
  }
 ],
 "metadata": {
  "kernelspec": {
   "display_name": "Python 3 (ipykernel)",
   "language": "python",
   "name": "python3"
  },
  "language_info": {
   "codemirror_mode": {
    "name": "ipython",
    "version": 3
   },
   "file_extension": ".py",
   "mimetype": "text/x-python",
   "name": "python",
   "nbconvert_exporter": "python",
   "pygments_lexer": "ipython3",
   "version": "3.12.4"
  }
 },
 "nbformat": 4,
 "nbformat_minor": 5
}
