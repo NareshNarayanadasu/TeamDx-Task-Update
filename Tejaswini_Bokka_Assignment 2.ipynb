{
 "cells": [
  {
   "cell_type": "markdown",
   "id": "e59daae0-a90a-44e7-b818-c00d71421491",
   "metadata": {},
   "source": [
    "# Assignments on variables expressions and statements"
   ]
  },
  {
   "cell_type": "markdown",
   "id": "3a2aa8c1-3210-4733-a72d-1477e1c8cc9a",
   "metadata": {},
   "source": [
    "### 1. Take the input from the user for(Total number of people,Number of seats for bus. Based on two inputs. Decide how many number of buses required"
   ]
  },
  {
   "cell_type": "code",
   "execution_count": 5,
   "id": "8b519562-d3eb-4c7e-b931-02571df52aa1",
   "metadata": {},
   "outputs": [
    {
     "name": "stdin",
     "output_type": "stream",
     "text": [
      "Enter total number of people: 93\n",
      "Enter number of seats for bus: 30\n"
     ]
    },
    {
     "name": "stdout",
     "output_type": "stream",
     "text": [
      "Number of buses required is 4\n"
     ]
    }
   ],
   "source": [
    "# Inputs for Number of people and seats\n",
    "people = int(input(\"Enter total number of people:\"))\n",
    "seats = int(input(\"Enter number of seats for bus:\"))\n",
    "buses = (people+seats-1)//seats\n",
    "print(f\"Number of buses required is {buses}\")"
   ]
  },
  {
   "cell_type": "markdown",
   "id": "c4484e0b-388a-4051-b934-812a133b184b",
   "metadata": {},
   "source": [
    "### 2. take temperature from the user and convert Fahrenheit-> Celsius."
   ]
  },
  {
   "cell_type": "code",
   "execution_count": 29,
   "id": "9477bd66-edc6-4878-9ce5-383c1eabcd10",
   "metadata": {},
   "outputs": [
    {
     "name": "stdin",
     "output_type": "stream",
     "text": [
      "enter the temperature in Fahrenheit:  97.8\n"
     ]
    },
    {
     "name": "stdout",
     "output_type": "stream",
     "text": [
      "Temperature in celsius is 36.55555555555556\n"
     ]
    }
   ],
   "source": [
    "# Input to enter temperature in Fahrenheit\n",
    "Fahrenheit = float(input(\"enter the temperature in Fahrenheit: \"))\n",
    "Celsius=(Fahrenheit-32)*5/9\n",
    "print(f\"Temperature in celsius is {Celsius}\")"
   ]
  },
  {
   "cell_type": "markdown",
   "id": "3efc8796-30dc-4ad2-ba60-5e1a8aa98124",
   "metadata": {},
   "source": [
    "### 3.take temperature from the user and convert Celsius → Fahrenheit."
   ]
  },
  {
   "cell_type": "code",
   "execution_count": 31,
   "id": "ad812b22-d0cd-45b4-9e47-3a2af9607267",
   "metadata": {},
   "outputs": [
    {
     "name": "stdin",
     "output_type": "stream",
     "text": [
      "Enter the temperature in Celsius:  60.2\n"
     ]
    },
    {
     "name": "stdout",
     "output_type": "stream",
     "text": [
      " Temperature in Fahrenheit is 140.36\n"
     ]
    }
   ],
   "source": [
    "# Input to enter temperature in Celsius\n",
    "Celsius = float(input(\"Enter the temperature in Celsius: \"))\n",
    "Fahrenheit = (Celsius*9/5)+32\n",
    "print(f\" Temperature in Fahrenheit is {Fahrenheit}\")"
   ]
  },
  {
   "cell_type": "markdown",
   "id": "c1cfff83-b8fe-4981-bf1b-0ad109b1abf3",
   "metadata": {},
   "source": [
    "### 4. take four number from the user (variables name it as x1,x2,x3,x4)\n",
    "```\n",
    "Do the below operations\n",
    " (x1+x2)**2, (x3+x4)**3\n",
    "variance\n",
    "standard deviation: sqrt(variance):  User math module. Math.sqrt(variance)\n",
    "Regression\n",
    "\ty=mx+b\n",
    "    m=1.23\n",
    "    b=0.045\n",
    "    find out y\n",
    "    y=m*(x1+x2+x3+x4)+b\n",
    "Find the average of four numbers\n",
    "Find the sum of four numbers\n",
    "```"
   ]
  },
  {
   "cell_type": "code",
   "execution_count": 9,
   "id": "06a770cf-4c91-4810-9c5b-0f43d756eec1",
   "metadata": {},
   "outputs": [
    {
     "name": "stdin",
     "output_type": "stream",
     "text": [
      "Enter value of x1:  10\n",
      "Enter value of x2:  20\n",
      "Enter value of x3:  30\n",
      "Enter value of x4:  40\n"
     ]
    },
    {
     "name": "stdout",
     "output_type": "stream",
     "text": [
      "value of (x1+x2)**2 is 900\n",
      "value of (x3+x4)**3 is 343000\n",
      "Average of 4 numbers = 25.0\n",
      "Sum of 4 numbers = 100\n",
      "Variance = 166.66666666666666\n",
      "Standard Deviation = 12.909944487358056\n"
     ]
    }
   ],
   "source": [
    "import math\n",
    "\n",
    "# Input values\n",
    "x1 = int(input(\"Enter value of x1: \"))\n",
    "x2 = int(input(\"Enter value of x2: \"))\n",
    "x3 = int(input(\"Enter value of x3: \"))\n",
    "x4 = int(input(\"Enter value of x4: \"))\n",
    "\n",
    "# Store values in a list\n",
    "values = [x1, x2, x3, x4]\n",
    "\n",
    "# Calculate the sum and mean\n",
    "total_sum = sum(values)\n",
    "mean = total_sum / len(values)\n",
    "\n",
    "# Other calculations\n",
    "m = 1.23\n",
    "b = 0.045\n",
    "y = m * total_sum + b\n",
    "\n",
    "# Calculate variance and standard deviation\n",
    "sq_sum_diff = sum((x - mean) ** 2 for x in values)\n",
    "variance = sq_sum_diff / (len(values) - 1)  # Use len(values) - 1 for sample variance\n",
    "standard_deviation = math.sqrt(variance)\n",
    "\n",
    "# Specific calculations\n",
    "result1 = (x1 + x2) ** 2\n",
    "result2 = (x3 + x4) ** 3\n",
    "\n",
    "# Output the results\n",
    "print(f\"value of (x1+x2)**2 is {result1}\")\n",
    "print(f\"value of (x3+x4)**3 is {result2}\")\n",
    "print(f\"Average of 4 numbers = {mean}\")\n",
    "print(f\"Sum of 4 numbers = {total_sum}\")\n",
    "print(f\"Variance = {variance}\")\n",
    "print(f\"Standard Deviation = {standard_deviation}\")\n"
   ]
  },
  {
   "cell_type": "code",
   "execution_count": 21,
   "id": "fb87fa21-e3e4-455e-8828-b4e746c5342b",
   "metadata": {},
   "outputs": [
    {
     "name": "stdin",
     "output_type": "stream",
     "text": [
      "Enter value of x1:  10\n",
      "Enter value of x2:  20\n",
      "Enter value of x3:  30\n",
      "Enter value of x4:  40\n"
     ]
    },
    {
     "name": "stdout",
     "output_type": "stream",
     "text": [
      "100\n",
      "25.0\n",
      "value of (x1+x2)**2 is 900\n",
      "value of (x3+x4)**3 is 343000\n",
      "average of 4 numbers = 25.0\n",
      "sum of 4 numbers = 100\n",
      "variance=166.66666666666666\n",
      "standard deviation = 12.909944487358056\n"
     ]
    }
   ],
   "source": [
    "import math\n",
    "x1 = int(input(\"Enter value of x1: \"))\n",
    "x2 = int(input(\"Enter value of x2: \"))\n",
    "x3 = int(input(\"Enter value of x3: \"))\n",
    "x4 = int(input(\"Enter value of x4: \"))\n",
    "values = [x1,x2,x3,x4]\n",
    "total_sum = sum(values)\n",
    "print(total_sum)\n",
    "mean = total_sum / len(values)\n",
    "print(mean)\n",
    "m = 1.23\n",
    "b = 0.045\n",
    "y = m*total_sum+b\n",
    "# calculate squared differences\n",
    "sum_sqd_numbers = 0\n",
    "sqd_numbers = []\n",
    "for x in values:\n",
    "    sqd = (x - mean) ** 2\n",
    "    sum_sqd_numbers += sq\n",
    "    sqd_numbers.append(sq)\n",
    "variance = sum_sqd_numbers/(len(values)-1)\n",
    "standard_deviation = math.sqrt(variance)\n",
    "result1 = (x1+x2)**2\n",
    "result2 = (x3+x4)**3\n",
    "print(f\"value of (x1+x2)**2 is {result1}\\nvalue of (x3+x4)**3 is {result2}\\naverage of 4 numbers = {mean}\\nsum of 4 numbers = {total_sum}\\nvariance={variance}\\nstandard deviation = {standard_deviation}\")"
   ]
  },
  {
   "cell_type": "markdown",
   "id": "2d930998-e25a-4430-bace-e7a321790198",
   "metadata": {},
   "source": [
    "### 5.Take the distance in km. Show that in cm, meters, in milli meters, cents, feets, yards"
   ]
  },
  {
   "cell_type": "code",
   "execution_count": 39,
   "id": "020740fb-31b6-4faf-a866-6bf5267f87f9",
   "metadata": {},
   "outputs": [
    {
     "name": "stdin",
     "output_type": "stream",
     "text": [
      "distance in km:  9\n"
     ]
    },
    {
     "name": "stdout",
     "output_type": "stream",
     "text": [
      "9.0km =900000.0cm\n",
      "9.0km =9000.0m\n",
      "9.0km =9000000.0mm\n",
      "9.0km =222394.5cents\n",
      "9.0km =29527.56ft\n",
      "9.0km =9842.49yards\n"
     ]
    }
   ],
   "source": [
    "km = float(input(\"distance in km: \"))\n",
    "cm = km*100000\n",
    "m = km*1000\n",
    "mm = km*1000000\n",
    "cents = km*24710.5\n",
    "ft = km*3280.84\n",
    "yards = km*1093.61\n",
    "print(f\"{km}km ={cm}cm\")\n",
    "print(f\"{km}km ={m}m\")\n",
    "print(f\"{km}km ={mm}mm\")\n",
    "print(f\"{km}km ={cents}cents\")\n",
    "print(f\"{km}km ={ft}ft\")\n",
    "print(f\"{km}km ={yards}yards\")"
   ]
  },
  {
   "cell_type": "markdown",
   "id": "216a2216-cfca-4a94-880a-c30d58840871",
   "metadata": {},
   "source": [
    "### 6. Take the size of your hard disk in GB. Show that in MB, KB, TB, PB"
   ]
  },
  {
   "cell_type": "code",
   "execution_count": 53,
   "id": "3dde304f-315e-45ce-bd6f-e3824dfb98c3",
   "metadata": {},
   "outputs": [
    {
     "name": "stdin",
     "output_type": "stream",
     "text": [
      "Enter the size of your hard disk in GB:  9\n"
     ]
    },
    {
     "name": "stdout",
     "output_type": "stream",
     "text": [
      "9.0GB = 9216.0MB\n",
      "9.0GB = 9437184.0KB\n",
      "9.0GB = 0.0087890625TB\n",
      "9.0GB = 8.58306884765625e-06PB\n"
     ]
    }
   ],
   "source": [
    "GB = float(input(\"Enter the size of your hard disk in GB: \"))\n",
    "MB = GB*1024\n",
    "KB = GB*1048576\n",
    "TB = GB/1024\n",
    "PB = GB/(1024**2)\n",
    "print(f\"{GB}GB = {MB}MB\")\n",
    "print(f\"{GB}GB = {KB}KB\")\n",
    "print(f\"{GB}GB = {TB}TB\")\n",
    "print(f\"{GB}GB = {PB}PB\")"
   ]
  },
  {
   "cell_type": "markdown",
   "id": "b179770a-f8df-4b30-9241-408d3d545821",
   "metadata": {},
   "source": [
    "###    7.  Take name, age, height from the user and print like below\n",
    "* The details of the person: Name:name of the person, Age:age of the person, Height:height of the person\n"
   ]
  },
  {
   "cell_type": "code",
   "execution_count": 61,
   "id": "9f862eb4-76cc-4fad-bde8-044e4caddd4e",
   "metadata": {},
   "outputs": [
    {
     "name": "stdin",
     "output_type": "stream",
     "text": [
      "Enter the name of the person:  tej\n",
      "Enter the age of the person: 27\n",
      "Enter the height of the person: 5'11\"\n"
     ]
    },
    {
     "name": "stdout",
     "output_type": "stream",
     "text": [
      "The details of the person: Name:tej of the person, Age:27 of the person, Height:5'11\" of the person\n"
     ]
    }
   ],
   "source": [
    "name = input(\"Enter the name of the person: \")\n",
    "age = input(\"Enter the age of the person:\")\n",
    "height= input(\"Enter the height of the person:\")\n",
    "print(f\"The details of the person: Name:{name} of the person, Age:{age} of the person, Height:{height} of the person\")"
   ]
  },
  {
   "cell_type": "markdown",
   "id": "2e764afd-64aa-40cb-81e1-aae59b7b12ee",
   "metadata": {},
   "source": [
    "### 8. BMI calculation: take required parameters for BMI calculation from the user and calculate BMI of the person."
   ]
  },
  {
   "cell_type": "code",
   "execution_count": 68,
   "id": "5311c92b-8ea8-493a-97eb-c783df529c6a",
   "metadata": {},
   "outputs": [
    {
     "name": "stdin",
     "output_type": "stream",
     "text": [
      "Enter height in cm:  155\n",
      "Enter weight in kg:  80\n"
     ]
    },
    {
     "name": "stdout",
     "output_type": "stream",
     "text": [
      "BMI is 33.29864724245577\n"
     ]
    }
   ],
   "source": [
    "height_cm = float(input(\"Enter height in cm: \"))\n",
    "weight = float(input(\"Enter weight in kg: \"))\n",
    "height_m = height_cm/100\n",
    "BMI = weight/(height_m**2)\n",
    "print(f\"BMI is {BMI}\")"
   ]
  },
  {
   "cell_type": "markdown",
   "id": "6e06cf90-2f05-49e6-b514-cc2999291f90",
   "metadata": {},
   "source": [
    "### 9. \n",
    "```\n",
    "name=\"Jayaram\"\n",
    "age=1.6\n",
    "height=3.5356234\n",
    "weight=10.343856783\n",
    "By using above inputs print the output\n",
    "Name:Jayaram, Age:1.6, Height:3.54, Weight:10.344\n",
    "Note: Use format specifiers(%s, %d, %f)\n",
    "```"
   ]
  },
  {
   "cell_type": "code",
   "execution_count": 90,
   "id": "0346f5c7-4798-4dc1-a383-8ec1b74fe0eb",
   "metadata": {},
   "outputs": [
    {
     "name": "stdout",
     "output_type": "stream",
     "text": [
      "Name: Jayaram, Age: 1.6, Height: 3.5, Weight: 10.344\n"
     ]
    }
   ],
   "source": [
    "name = \"Jayaram\"\n",
    "age = 1.6\n",
    "height = 3.5356234\n",
    "weight = 10.343856783\n",
    "print(\"Name: %s, Age: %.1f, Height: %.1f, Weight: %.3f\"%(name,age,height,weight) )"
   ]
  },
  {
   "cell_type": "markdown",
   "id": "6f5e169a-40ef-4947-929b-5107a1b8523a",
   "metadata": {},
   "source": [
    "### 10. Take three upper case letters from the user convert in to small case."
   ]
  },
  {
   "cell_type": "code",
   "execution_count": 103,
   "id": "048c7602-e804-4b99-bd16-9f582b79bff3",
   "metadata": {},
   "outputs": [
    {
     "name": "stdin",
     "output_type": "stream",
     "text": [
      "Enter first uppercase letter:  E\n",
      "Enter second uppercase letter:  R\n",
      "Enter third uppercase letter:  T\n"
     ]
    },
    {
     "name": "stdout",
     "output_type": "stream",
     "text": [
      "The lowercase letters are e,r,t\n"
     ]
    }
   ],
   "source": [
    "letter1 = input(\"Enter first uppercase letter: \")\n",
    "letter2 = input(\"Enter second uppercase letter: \")\n",
    "letter3 = input(\"Enter third uppercase letter: \")\n",
    "letter1_lower = chr(ord(letter1)+32)\n",
    "letter2_lower = chr(ord(letter2)+32)\n",
    "letter3_lower = chr(ord(letter3)+32)\n",
    "print(f\"The lowercase letters are {letter1_lower},{letter2_lower},{letter3_lower}\")"
   ]
  },
  {
   "cell_type": "markdown",
   "id": "cd1f70e2-fe25-4122-9598-b75020e37a9b",
   "metadata": {},
   "source": [
    "### 11. Take base and exponent value from the user and print like in mathematics:\n",
    "  * example: base=2, exponent=3: 2<sup>3</sup>\r\n",
    "\n",
    "  * Use: 2\\u00b3\n"
   ]
  },
  {
   "cell_type": "code",
   "execution_count": 121,
   "id": "b51a80bf-fc8d-4c39-a0f3-19d455ad0a97",
   "metadata": {},
   "outputs": [
    {
     "name": "stdin",
     "output_type": "stream",
     "text": [
      "Enter base value:  2\n",
      "Enter exponent value:  5\n"
     ]
    },
    {
     "name": "stdout",
     "output_type": "stream",
     "text": [
      "Base = 2, Exponent = 5: 2^5\n",
      "Base = 2, Exponent = 5: 2³\n"
     ]
    }
   ],
   "source": [
    "base = int(input(\"Enter base value: \"))\n",
    "exponent = int(input(\"Enter exponent value: \"))\n",
    "print(f\"Base = {base}, Exponent = {exponent}: {base}^{exponent}\")\n",
    "print(f\"Base = {base}, Exponent = {exponent}: {base}\\u00b3\")"
   ]
  },
  {
   "cell_type": "markdown",
   "id": "c909d968-ccf2-466c-a721-f57450e6b930",
   "metadata": {},
   "source": [
    "### 12. Take some groceries cost prices and print total cost and average cost, what is the max cost, what is the minimum cost"
   ]
  },
  {
   "cell_type": "code",
   "execution_count": null,
   "id": "b9ded8bd-1ab5-429c-a551-ed2c30b5c75c",
   "metadata": {},
   "outputs": [],
   "source": [
    "cost1 = float(input(\"Cost of item 1: \"))\n",
    "cost2 = float(input(\"Cost of item 2: \"))\n",
    "cost3 = float(input(\"Cost of item 3: \"))\n",
    "costs = [cost1,cost2,cost3]\n",
    "total_cost = sum(costs)\n",
    "avg_cost = total_cost/len(costs)\n",
    "max_cost = max(costs)\n",
    "min_cost = min(costs)\n",
    "print(f\"Total Cost: {total_cost:.2f}/-\\nAverage cost: {avg_cost:.2f}/-\\nMaximun Cost: {max_cost:.2f}/-\\nMinimum Cost: {min_cost:.2f}/-\")"
   ]
  },
  {
   "cell_type": "markdown",
   "id": "13115856-1644-4f62-a743-0d5eee0faa90",
   "metadata": {},
   "source": [
    "## COnditional Statements\n",
    "### 13. Take the input from the user for(Total number of people, total number of buses, Number of seats for bus, adjust factor). Based on four inputs.Decide whether there is sufficient buses or not and give solution for how many extra buses required.\n"
   ]
  },
  {
   "cell_type": "code",
   "execution_count": 54,
   "id": "fc992bfb-2c71-4f2d-867a-4103361c683d",
   "metadata": {},
   "outputs": [
    {
     "name": "stdin",
     "output_type": "stream",
     "text": [
      "Enter total number of people: 100\n",
      "Enter total number of buses: 6\n",
      "Enter number of seats for bus: 20\n",
      "Enter adjust factor: 3\n"
     ]
    },
    {
     "name": "stdout",
     "output_type": "stream",
     "text": [
      "total number of buses required is 5 and extra buses needed are 0\n"
     ]
    }
   ],
   "source": [
    "people = int(input(\"Enter total number of people:\"))\n",
    "buses = int((input(\"Enter total number of buses:\")))\n",
    "seats = int(input(\"Enter number of seats for bus:\"))\n",
    "adjust_factor = int(input(\"Enter adjust factor:\"))\n",
    "if people%seats>adjust_factor:\n",
    "    buses_required = (people+seats+adjust_factor-1)//seats\n",
    "else:\n",
    "    buses_required = (people+seats-1)//seats\n",
    "if buses_required>buses:\n",
    "    extra_buses = buses_required - buses\n",
    "else:\n",
    "    extra_buses = 0\n",
    "    \n",
    "print(f\"total number of buses required is {buses_required} and extra buses needed are {extra_buses}\")\n"
   ]
  },
  {
   "cell_type": "markdown",
   "id": "d3139476-6482-45ea-a1be-557db6685ba3",
   "metadata": {},
   "source": [
    "### 14.Take number from the user decide whether it is even or odd."
   ]
  },
  {
   "cell_type": "code",
   "execution_count": 35,
   "id": "5b882364-cb69-4708-8c13-cc1f7ead44fc",
   "metadata": {},
   "outputs": [
    {
     "name": "stdin",
     "output_type": "stream",
     "text": [
      "Enter a number: 15\n"
     ]
    },
    {
     "name": "stdout",
     "output_type": "stream",
     "text": [
      "Given number is odd\n"
     ]
    }
   ],
   "source": [
    "number = int(input(\"Enter a number:\"))\n",
    "if number%2==0:\n",
    "    print(\"Given number is even\")\n",
    "else:\n",
    "    print(\"Given number is odd\")"
   ]
  },
  {
   "cell_type": "markdown",
   "id": "0998146d-349b-43e5-9add-9806675be4c3",
   "metadata": {},
   "source": [
    "### 15.Take number from the user decide whether it is positive number or negative number"
   ]
  },
  {
   "cell_type": "code",
   "execution_count": 42,
   "id": "220887fa-8e38-4303-868d-d76078107cee",
   "metadata": {},
   "outputs": [
    {
     "name": "stdin",
     "output_type": "stream",
     "text": [
      "Enter a number: 0\n"
     ]
    },
    {
     "name": "stdout",
     "output_type": "stream",
     "text": [
      "Given number is zero\n"
     ]
    }
   ],
   "source": [
    "number = float(input(\"Enter a number:\"))\n",
    "if number>0:\n",
    "    print(\"Given number is positive number\")\n",
    "elif number==0:\n",
    "    print(\"Given number is zero\")\n",
    "else:\n",
    "    print(\"Given number is negative number\")"
   ]
  },
  {
   "cell_type": "markdown",
   "id": "5507e2c9-e7fd-4340-9ac1-0ab387ee3133",
   "metadata": {},
   "source": [
    "### 16.Take a string from the user print the length. if the user not given anything then show an error message"
   ]
  },
  {
   "cell_type": "code",
   "execution_count": 50,
   "id": "5c4f0572-a8fd-4d70-951f-fc5c8c6fcd49",
   "metadata": {},
   "outputs": [
    {
     "name": "stdin",
     "output_type": "stream",
     "text": [
      "Enter the data: dfghjkl fghjkl\n"
     ]
    },
    {
     "name": "stdout",
     "output_type": "stream",
     "text": [
      "dfghjkl fghjkl\n"
     ]
    }
   ],
   "source": [
    "data = input(\"Enter the data:\")\n",
    "if len(data)==0:\n",
    "    print(\"Enter valid data\")\n",
    "print(data)"
   ]
  },
  {
   "cell_type": "markdown",
   "id": "147ea58b-97a0-40a6-9fd4-44677ac4622b",
   "metadata": {},
   "source": [
    "### 17. code to perform mathematical operations. take two numbers from the user and show the below menu\n",
    "1. ADD\n",
    "2. SUB\n",
    "3. MUL\n",
    "4. DIV\n",
    "5. QUIT\n"
   ]
  },
  {
   "cell_type": "code",
   "execution_count": 15,
   "id": "3cdd3b3b-66a7-4037-9f38-2e2d984a6973",
   "metadata": {},
   "outputs": [
    {
     "name": "stdin",
     "output_type": "stream",
     "text": [
      "Enter the number1: \n",
      "Enter the number2: \n"
     ]
    },
    {
     "name": "stdout",
     "output_type": "stream",
     "text": [
      "1.add\n",
      "2.sub\n",
      "3.mul\n",
      "4.div\n",
      "5.quit\n"
     ]
    },
    {
     "name": "stdin",
     "output_type": "stream",
     "text": [
      "Enter an option: 6\n"
     ]
    },
    {
     "name": "stdout",
     "output_type": "stream",
     "text": [
      "Enter a valid option\n"
     ]
    }
   ],
   "source": [
    "num1 = input(\"Enter the number1:\")\n",
    "num2 = input(\"Enter the number2:\")\n",
    "print(\"1.add\\n2.sub\\n3.mul\\n4.div\\n5.quit\")\n",
    "option = input(\"Enter an option:\")\n",
    "if option == '1':\n",
    "    addition = float(num1)+float(num2)\n",
    "    print(f\"{num1}+{num2}={addition}\")\n",
    "elif option == '2':\n",
    "    subtraction = float(num1)-float(num2)\n",
    "    print(f\"{num1}-{num2}={subtraction}\")\n",
    "elif option == '3':\n",
    "    multiply = float(num1)*float(num2)\n",
    "    print(f\"{num1}x{num2}={multiply}\")\n",
    "elif option == '4':\n",
    "    division = float(num1)/float(num2)\n",
    "    print(f\"{num1}/{num2}={division}\")\n",
    "elif option == '5':\n",
    "    print(\"quit\")\n",
    "else:\n",
    "    print(\"Enter a valid option\")\n"
   ]
  },
  {
   "cell_type": "markdown",
   "id": "9fecca53-27fd-4bc2-a6a2-ea78e41532e2",
   "metadata": {},
   "source": [
    "### 18. show the menu:\n",
    "1. kids\n",
    "2. Men\n",
    "3. Women\n",
    "### Show the corresponding message based on the selection.\n",
    "* Option:1: you are a kid\n",
    "* OPtion:2: you are a gentlemen\n",
    "* Option:3: you are a good women\n",
    "\n",
    "### Mention error message if the option value >3.\n"
   ]
  },
  {
   "cell_type": "code",
   "execution_count": 22,
   "id": "d061d3a2-58b5-4be6-b15e-c932f1bb5e31",
   "metadata": {},
   "outputs": [
    {
     "name": "stdout",
     "output_type": "stream",
     "text": [
      "1.kid\n",
      "2.man\n",
      "3.woman\n"
     ]
    },
    {
     "name": "stdin",
     "output_type": "stream",
     "text": [
      "Enter a value: 1\n"
     ]
    },
    {
     "name": "stdout",
     "output_type": "stream",
     "text": [
      "you are a kid\n"
     ]
    }
   ],
   "source": [
    "print(\"1.kid\\n2.man\\n3.woman\")\n",
    "option = input(\"Enter a value:\")\n",
    "if option =='1':\n",
    "    print(\"you are a kid\")\n",
    "elif option == '2':\n",
    "    print(\"you are a gentlemen\")\n",
    "elif option == '3':\n",
    "    print(\"you are a good woman\")\n",
    "else:\n",
    "    print(\"Enter a valid option\")\n"
   ]
  },
  {
   "cell_type": "markdown",
   "id": "f5328527-0fdd-400e-b003-36b0a72e2f48",
   "metadata": {},
   "source": [
    "### 19. write a program to check given substring is there in actual string or not?\n",
    "* example: act=\"python is a pure object oriented programing language\"\n",
    "* check whether “pure” is there in act or not.\n",
    "* **Note:** Use in operator\n"
   ]
  },
  {
   "cell_type": "code",
   "execution_count": 28,
   "id": "6cc6fc46-04a2-4818-aaf8-1d1789a51e56",
   "metadata": {},
   "outputs": [
    {
     "name": "stdin",
     "output_type": "stream",
     "text": [
      "Enter a sentence: python is a pure object oriented programing language\n",
      "Enter the word to search in sentence: language\n"
     ]
    },
    {
     "name": "stdout",
     "output_type": "stream",
     "text": [
      "yes\n"
     ]
    }
   ],
   "source": [
    "act = input(\"Enter a sentence:\")\n",
    "word = input(\"Enter the word to search in sentence:\")\n",
    "if word in act:#print yes if the word is present in sentence\n",
    "    print(\"yes\")\n",
    "else:\n",
    "    print(\"no\")"
   ]
  },
  {
   "cell_type": "markdown",
   "id": "5c04878a-7f95-46d1-beb0-31f4edb2fc38",
   "metadata": {},
   "source": [
    "### 20. Take three numbers from the user and decide which is big"
   ]
  },
  {
   "cell_type": "code",
   "execution_count": 35,
   "id": "313002d3-a767-4828-8bdf-e67a30a5c24d",
   "metadata": {},
   "outputs": [
    {
     "name": "stdin",
     "output_type": "stream",
     "text": [
      "Enter the first number: 5\n",
      "Enter the second number: 5\n",
      "Enter the third number: 5\n"
     ]
    },
    {
     "name": "stdout",
     "output_type": "stream",
     "text": [
      "5 is bigger\n"
     ]
    }
   ],
   "source": [
    "num1 = input(\"Enter the first number:\")\n",
    "num2 = input(\"Enter the second number:\")\n",
    "num3 = input(\"Enter the third number:\")\n",
    "if float(num1)>float(num2) and float(num1)>float(num3):\n",
    "    print(f\"{num1} is bigger\")\n",
    "elif float(num2)>float(num1) and float(num2)>float(num3):\n",
    "    print(f\"{num2} is bigger\")\n",
    "else:\n",
    "    print(f\"{num3} is bigger\")"
   ]
  },
  {
   "cell_type": "markdown",
   "id": "bedf9193-15e3-4670-b3fa-8318d55af2c6",
   "metadata": {},
   "source": [
    "###  21. Take age and gender from the user and decide whether he/she is eligible for marriage in India or not.\n",
    "* Age criteria: men age>24, women>21\n"
   ]
  },
  {
   "cell_type": "code",
   "execution_count": 43,
   "id": "27809bb1-f43c-4654-ac21-c08b9cbf12eb",
   "metadata": {},
   "outputs": [
    {
     "name": "stdin",
     "output_type": "stream",
     "text": [
      "Enter the age: \n",
      "Enter the gender(male/female): \n"
     ]
    },
    {
     "name": "stdout",
     "output_type": "stream",
     "text": [
      "Invalid gender. Please enter male or female\n"
     ]
    }
   ],
   "source": [
    "age = input(\"Enter the age:\")\n",
    "gender = input(\"Enter the gender(male/female):\")\n",
    "# Check eligibility for marriage based on gender and age\n",
    "if gender == 'male':\n",
    "    if int(age)>24:\n",
    "      print(\"you are eligible for marriage in India\")\n",
    "    else:\n",
    "      print(\"You are not eligible for marriage in India\")\n",
    "elif gender == 'female':\n",
    "    if int(age)>21:\n",
    "        print(\"you are eligible for marriage in India\")\n",
    "    else:\n",
    "        print(\"You are not eligible for marriage in India\")\n",
    "        \n",
    "else:\n",
    "    print(\"Invalid gender. Please enter male or female\")"
   ]
  },
  {
   "cell_type": "markdown",
   "id": "03e0e8e7-1b51-4d0a-a641-dad0d0e19ed0",
   "metadata": {},
   "source": [
    "### 22. Take an age  and gender from the user: and mention that what he/she can \tdo in india.\n",
    "* **conditions:**\n",
    "    1. Theatre: 5 for men 7 for women\n",
    "    2. Voting system: 18 for men and women\n",
    "    3. Marriage in india: 23 for men and for women >21\n",
    "    4. For govt jobs: (min:18, max:32)  for men and (min:18, max:34) for women\n",
    "    5. For driving licence: (min:18, max:60) for men and women\n",
    "* **Eligibility:**\n",
    "    1. theatre\n",
    "    2.  Voting system\n",
    "    3.  Marriage in india\n",
    "    4.  For govt obs\n",
    "    5. For driving licence:\n",
    "* Enter an option:\n",
    "    * Gender:\n",
    "        1. men\n",
    "        2. women\n",
    "* Enter an option:\n",
    "* Enter an age of person:\n",
    "\n"
   ]
  },
  {
   "cell_type": "code",
   "execution_count": 53,
   "id": "ebe62cf3-3b24-4af9-908d-866a738802fb",
   "metadata": {},
   "outputs": [
    {
     "name": "stdout",
     "output_type": "stream",
     "text": [
      "Eligibility:\n",
      "\t1.theatre\n",
      "\t2.Voting system\n",
      "\t3.Marriage in India\n",
      "\t4.For govt jobs\n",
      "\t5.For driving license\n"
     ]
    },
    {
     "name": "stdin",
     "output_type": "stream",
     "text": [
      "Enter the option(1-5): 1\n"
     ]
    },
    {
     "name": "stdout",
     "output_type": "stream",
     "text": [
      "Gender:\n",
      "\t1.men\n",
      "\t2.women\n"
     ]
    },
    {
     "name": "stdin",
     "output_type": "stream",
     "text": [
      "Enter the gender option(1-2): 1\n",
      "Enter the age of person: 6\n"
     ]
    },
    {
     "name": "stdout",
     "output_type": "stream",
     "text": [
      "Eligible for theater in India\n"
     ]
    }
   ],
   "source": [
    "# Display options to the user\n",
    "print(\"Eligibility:\\n\\t1. Theatre\\n\\t2. Voting system\\n\\t3. Marriage in India\\n\\t4. Government jobs\\n\\t5. Driving license\")\n",
    "\n",
    "# Get user input for options and details\n",
    "option = input(\"Enter the option (1-5): \")\n",
    "print(\"Gender:\\n\\t1. Men\\n\\t2. Women\")\n",
    "gender_option = input(\"Enter the gender option (1-2): \")\n",
    "age = int(input(\"Enter the age of the person: \"))\n",
    "\n",
    "# Check eligibility based on gender and option\n",
    "if gender_option == '1':  # Men\n",
    "    if option == '1' and age >= 5:\n",
    "        print(\"Eligible for theatre in India.\")\n",
    "    elif option == '2' and age >= 18:\n",
    "        print(\"Eligible for voting in India.\")\n",
    "    elif option == '3' and age >= 23:\n",
    "        print(\"Eligible for marriage in India.\")\n",
    "    elif option == '4' and 18 <= age <= 32:\n",
    "        print(\"Eligible for government jobs in India.\")\n",
    "    elif option == '5' and 18 <= age <= 60:\n",
    "        print(\"Eligible for a driving license in India.\")\n",
    "    else:\n",
    "        print(\"Not eligible or invalid option.\")\n",
    "\n",
    "elif gender_option == '2':  # Women\n",
    "    if option == '1' and age >= 7:\n",
    "        print(\"Eligible for theatre in India.\")\n",
    "    elif option == '2' and age >= 18:\n",
    "        print(\"Eligible for voting in India.\")\n",
    "    elif option == '3' and age > 21:\n",
    "        print(\"Eligible for marriage in India.\")\n",
    "    elif option == '4' and 18 <= age <= 34:\n",
    "        print(\"Eligible for government jobs in India.\")\n",
    "    elif option == '5' and 18 <= age <= 60:\n",
    "        print(\"Eligible for a driving license in India.\")\n",
    "    else:\n",
    "        print(\"Not eligible or invalid option.\")\n",
    "\n",
    "else: \n",
    "    print(\"Invalid gender option. Please enter 1 for Men or 2 for Women.\")"
   ]
  },
  {
   "cell_type": "markdown",
   "id": "790dd649-ee72-41b8-aa43-06dffca7f4c4",
   "metadata": {},
   "source": [
    "### 23. operating systems:\n",
    "\t1.windows\n",
    "\t2.android\n",
    "\t3.mac\n",
    "Enter an option:\n",
    "\n",
    "* If the user enters 1 then show \"Goto first floor and buy windows laptop or mobile\"\n",
    "* If the user enters 2 then show \"Goto second floor and buy adroid mobiles\"\n",
    "* If the user enters 3 then show \"Goto third floor and buy mac laptop or iphones\"\n",
    "* If the user enters other than 1 or 2 or 3 then show \"There is only three floors, please select 1 or 2 or 3\"\n"
   ]
  },
  {
   "cell_type": "code",
   "execution_count": 56,
   "id": "6fc33746-cdb9-426d-940b-9989d727fab2",
   "metadata": {},
   "outputs": [
    {
     "name": "stdout",
     "output_type": "stream",
     "text": [
      "Operating Systems:\n",
      "\t1.Windows\n",
      "\t2.Android\n",
      "\t3.MAC\n"
     ]
    },
    {
     "name": "stdin",
     "output_type": "stream",
     "text": [
      "Enter the option(1-3): 3\n"
     ]
    },
    {
     "name": "stdout",
     "output_type": "stream",
     "text": [
      "Go to third floor and buy mac laptop or iphones\n"
     ]
    }
   ],
   "source": [
    "print(\"Operating Systems:\\n\\t1.Windows\\n\\t2.Android\\n\\t3.MAC\")\n",
    "\n",
    "option = input(\"Enter the option(1-3):\")\n",
    "# Checks if option is 1\n",
    "if option == '1':\n",
    "    print(\"Go to first floor and buy windows laptop or mobile\")\n",
    "# Checks if option is 2 \n",
    "elif option == '2':\n",
    "    print(\"Go to second floor and buy android mobiles\")\n",
    "# Checks if option is 3\n",
    "elif option == '3':\n",
    "    print(\"Go to third floor and buy mac laptop or iphones\")\n",
    "else:\n",
    "    print(\"There is only three floors, please select 1 or 2 or 3\")"
   ]
  },
  {
   "cell_type": "markdown",
   "id": "679d8db6-a9c9-478b-8fbe-fbb7e94852bf",
   "metadata": {},
   "source": [
    "### 24.Given an age, figure out whether someone's a baby, toddler, child, teenager, adult or old codger."
   ]
  },
  {
   "cell_type": "code",
   "execution_count": 61,
   "id": "83fd5471-e183-4c09-b78a-a32e85085559",
   "metadata": {},
   "outputs": [
    {
     "name": "stdin",
     "output_type": "stream",
     "text": [
      "Enter the age:  1\n"
     ]
    },
    {
     "name": "stdout",
     "output_type": "stream",
     "text": [
      "Baby\n"
     ]
    }
   ],
   "source": [
    "age = int(input(\"Enter the age: \"))\n",
    "\n",
    "# Determine the category based on age\n",
    "if age < 2:\n",
    "    print(\"Baby\")\n",
    "elif 2 <= age < 4:\n",
    "    print(\"Toddler\")\n",
    "elif 4 <= age < 13:\n",
    "    print(\"Child\")\n",
    "elif 13 <= age < 20:\n",
    "    print(\"Teenager\")\n",
    "elif 20 <= age < 65:\n",
    "    print(\"Adult\")\n",
    "else:\n",
    "    print(\"Old Codger\")\n"
   ]
  },
  {
   "cell_type": "markdown",
   "id": "fe1bd325-c854-4e34-ac4d-11a56a780a91",
   "metadata": {},
   "source": [
    "### 25.Take two number a,b from the user and check whether a is divisible by b or not"
   ]
  },
  {
   "cell_type": "code",
   "execution_count": 64,
   "id": "23d87612-b58f-404d-a04d-a27859464f7b",
   "metadata": {},
   "outputs": [
    {
     "name": "stdin",
     "output_type": "stream",
     "text": [
      "Enter number a: 130\n",
      "Enter number b: 12\n"
     ]
    },
    {
     "name": "stdout",
     "output_type": "stream",
     "text": [
      "130.0 is not divisible by 12.0\n"
     ]
    }
   ],
   "source": [
    "a = input(\"Enter number a:\")\n",
    "b= input(\"Enter number b:\")\n",
    "a = float(a)\n",
    "b = float(b)\n",
    "if a%b == 0:\n",
    "    print(f\"{a} is divisible by {b}\")\n",
    "else:\n",
    "    print(f\"{a} is not divisible by {b}\")"
   ]
  },
  {
   "cell_type": "markdown",
   "id": "717f8259-0746-4e8d-be31-d3ff7aa50c0d",
   "metadata": {},
   "source": [
    "### 26. Take a letter from the user and print that letter belongs to which category I.e is it a small letter or capital letter or number or special symbol"
   ]
  },
  {
   "cell_type": "code",
   "execution_count": 99,
   "id": "9bb3fb2b-e184-42b5-b325-ac08fff86638",
   "metadata": {},
   "outputs": [
    {
     "name": "stdin",
     "output_type": "stream",
     "text": [
      "Enter a character:  w\n"
     ]
    },
    {
     "name": "stdout",
     "output_type": "stream",
     "text": [
      "The given character is a small letter\n"
     ]
    }
   ],
   "source": [
    "character = input(\"Enter a character: \")\n",
    "\n",
    "# Get the ASCII value of the character\n",
    "ascii_value = ord(character)\n",
    "\n",
    "# Check if the character is a special symbol\n",
    "if (32 <= ascii_value <= 47) or (58 <= ascii_value <= 64) or (91 <= ascii_value <= 96) or (123 <= ascii_value <= 126):\n",
    "    print(\"The given character is a special symbol\")\n",
    "# Check if the character is a number\n",
    "elif 48 <= ascii_value <= 57:\n",
    "    print(\"The given character is a number\")\n",
    "# Check if the character is a capital letter\n",
    "elif 65 <= ascii_value <= 90:\n",
    "    print(\"The given character is a capital letter\")\n",
    "# Check if the character is a small letter\n",
    "elif 97 <= ascii_value <= 122:\n",
    "    print(\"The given character is a small letter\")\n",
    "else:\n",
    "    print(\"Invalid input\")"
   ]
  },
  {
   "cell_type": "code",
   "execution_count": null,
   "id": "e3225d45-2821-4c67-a079-7a65e0c39a5a",
   "metadata": {},
   "outputs": [],
   "source": []
  }
 ],
 "metadata": {
  "kernelspec": {
   "display_name": "Python 3 (ipykernel)",
   "language": "python",
   "name": "python3"
  },
  "language_info": {
   "codemirror_mode": {
    "name": "ipython",
    "version": 3
   },
   "file_extension": ".py",
   "mimetype": "text/x-python",
   "name": "python",
   "nbconvert_exporter": "python",
   "pygments_lexer": "ipython3",
   "version": "3.12.4"
  }
 },
 "nbformat": 4,
 "nbformat_minor": 5
}
