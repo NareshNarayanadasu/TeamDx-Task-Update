{
 "cells": [
  {
   "cell_type": "code",
   "execution_count": 3,
   "id": "6462bfe8-c92b-4611-a6be-dbeff702e297",
   "metadata": {},
   "outputs": [
    {
     "name": "stdin",
     "output_type": "stream",
     "text": [
      "Enter number of people :  120\n",
      "Enter number of seats in a Bus :  25\n"
     ]
    },
    {
     "name": "stdout",
     "output_type": "stream",
     "text": [
      "The total number of people are 120 members, and Number of seats in a bus are 25\n",
      "5 number of busses required for 120 people\n"
     ]
    }
   ],
   "source": [
    "# Task - 01\n",
    "\n",
    "Number_of_people = int(input(\"Enter number of people : \"))\n",
    "No_of_seats = int(input(\"Enter number of seats in a Bus : \"))\n",
    "print(f\"The total number of people are {Number_of_people} members, and Number of seats in a bus are {No_of_seats}\")\n",
    "\n",
    "import math\n",
    "No_of_busses_required = math.ceil(Number_of_people/No_of_seats)\n",
    "print(f\"{No_of_busses_required} number of busses required for {Number_of_people} people\")"
   ]
  },
  {
   "cell_type": "code",
   "execution_count": 21,
   "id": "838be27e-7a6c-4c83-976b-e5f94ebbb8b4",
   "metadata": {},
   "outputs": [
    {
     "name": "stdin",
     "output_type": "stream",
     "text": [
      "Enter temperature in F* :  34\n"
     ]
    },
    {
     "name": "stdout",
     "output_type": "stream",
     "text": [
      "The value of the temperatur in Fareheats is 34 F  and Celcius is 1.11 'c .\n"
     ]
    }
   ],
   "source": [
    "# Temperature from farenhits to celcius\n",
    "# Task - 02\n",
    "\n",
    "Temp_f = int(input(\"Enter temperature in F* : \"))\n",
    "\n",
    "Temp_celcius = 5/9 * (Temp_f - 32)\n",
    "print(f\"The value of the temperatur in Fareheats is {Temp_f} F  and Celcius is {Temp_celcius:.2F} 'c .\")"
   ]
  },
  {
   "cell_type": "code",
   "execution_count": 23,
   "id": "f6ba8bdc-5d71-4766-952b-9b4ce12e1218",
   "metadata": {},
   "outputs": [
    {
     "name": "stdin",
     "output_type": "stream",
     "text": [
      "Enter temperature in celcius :  34\n"
     ]
    },
    {
     "name": "stdout",
     "output_type": "stream",
     "text": [
      "The temperature in celcius is 34'c  and Temperature in farehits is 93.2 F\n"
     ]
    }
   ],
   "source": [
    "# Task - 03\n",
    "\n",
    "Temp_celcius = int(input(\"Enter temperature in celcius : \"))\n",
    "temp_in_f = (9/5 * Temp_celcius) + 32\n",
    "\n",
    "print(f\"The temperature in celcius is {Temp_celcius}'c  and Temperature in farehits is {temp_in_f} F\")\n"
   ]
  },
  {
   "cell_type": "code",
   "execution_count": 76,
   "id": "2b7b90bf-bf05-4526-83c6-3c73ced3e3be",
   "metadata": {},
   "outputs": [
    {
     "name": "stdin",
     "output_type": "stream",
     "text": [
      "Enter value of x1 :  12\n",
      "Enter value of x2 :  14\n",
      "Enter value of x3 :  16\n",
      "Enter value of x4 :  18\n"
     ]
    },
    {
     "name": "stdout",
     "output_type": "stream",
     "text": [
      "The value of variance is 6.67 \n",
      "The standard deviation 2.58\n",
      "The math module deviation 2.58\n",
      "The value of y is 73.845\n",
      "The sum of all x values is 60 and average of x values are 15.0\n"
     ]
    }
   ],
   "source": [
    "# Task - 04\n",
    "import statistics \n",
    "import math\n",
    "\n",
    "x1 = int(input(\"Enter value of x1 : \"))\n",
    "x2 = int(input(\"Enter value of x2 : \"))\n",
    "x3 = int(input(\"Enter value of x3 : \"))\n",
    "x4 = int(input(\"Enter value of x4 : \"))\n",
    "\n",
    "\n",
    "#print(f\"The value of (x1 + x2)**2 is {(x1 + x2)**2}\")\n",
    "\n",
    "#print(f\"The value of (x3 + x4)**3 is {(x3 + x4)**3}\")\n",
    "\n",
    "x =[x1, x2, x3, x4]\n",
    "\n",
    "variance= statistics.variance(x)\n",
    "\n",
    "print(f\"The value of variance is {variance:.2f} \")\n",
    "\n",
    "y = variance ** 0.5\n",
    "print(f\"The standard deviation {y:.2f}\")\n",
    "\n",
    "z = math.sqrt(variance)\n",
    "print(f\"The math module deviation {z:.2f}\")\n",
    "\n",
    "# y = mx + b\n",
    "m = 1.23\n",
    "b = 0.045\n",
    "\n",
    "sum = x1 + x2 + x3 + x4\n",
    "y = m*sum + b\n",
    "print(f\"The value of y is {y}\")\n",
    "\n",
    "print(f\"The sum of all x values is {sum} and average of x values are {sum/4}\")\n",
    "\n",
    "\n"
   ]
  },
  {
   "cell_type": "code",
   "execution_count": 78,
   "id": "2b46487c-2552-4e81-b148-ed9881665892",
   "metadata": {},
   "outputs": [
    {
     "name": "stdin",
     "output_type": "stream",
     "text": [
      "Enter the distance value in km :  12\n"
     ]
    },
    {
     "name": "stdout",
     "output_type": "stream",
     "text": [
      "The distance in Km is 12 km, 12000m, 1200000cm, 12000000mm, 39370.08ft and 13123.32yrds.\n"
     ]
    }
   ],
   "source": [
    "# Task - 05\n",
    "\n",
    "distance_km = int(input(\"Enter the distance value in km : \"))\n",
    "meters = distance_km * 1000\n",
    "centimeters = distance_km * 100000\n",
    "millimeters = distance_km * 1000000\n",
    "feet = distance_km * 3280.84\n",
    "yards = distance_km * 1093.61\n",
    "\n",
    "print(f\"The distance in Km is {distance_km} km, {meters}m, {centimeters}cm, {millimeters}mm, {feet}ft and {yards}yrds.\")\n"
   ]
  },
  {
   "cell_type": "code",
   "execution_count": 84,
   "id": "599d82ca-9d89-478c-8b70-caf37d39e521",
   "metadata": {},
   "outputs": [
    {
     "name": "stdin",
     "output_type": "stream",
     "text": [
      "Enter the value in GB :  14\n"
     ]
    },
    {
     "name": "stdout",
     "output_type": "stream",
     "text": [
      "The value in GB 14 GB \n",
      "value in in mega bytes 14336 MB\n",
      "The value in kilo bytes 14680064 KB\n",
      "The value in Tera Bytes 0.013671875 TB\n",
      "The value in peta bytes 1.33514404296875e-05 PB\n"
     ]
    }
   ],
   "source": [
    "# Task - 06\n",
    "\n",
    "storage_gb  =  int(input(\"Enter the value in GB : \"))\n",
    "\n",
    "storage_mb = storage_gb * 1024\n",
    "storage_kb = storage_gb * 1024 * 1024\n",
    "storage_tb = storage_gb / 1024\n",
    "storage_pb = storage_gb / (1024 ** 2)\n",
    "    \n",
    "\n",
    "print(f\"The value in GB {storage_gb} GB \")\n",
    "print(f\"value in in mega bytes {storage_mb} MB\")\n",
    "print(f\"The value in kilo bytes {storage_kb} KB\")\n",
    "print(f\"The value in Tera Bytes {storage_tb} TB\")\n",
    "print(f\"The value in peta bytes {storage_pb} PB\")"
   ]
  },
  {
   "cell_type": "code",
   "execution_count": 86,
   "id": "9a1d21e5-8dd5-4cb1-aa2e-441e08109053",
   "metadata": {},
   "outputs": [
    {
     "name": "stdin",
     "output_type": "stream",
     "text": [
      "Enter name of the person :  Vinai Badineni\n",
      "Enter age :  23\n",
      "Enter Height :  6.1\n"
     ]
    },
    {
     "name": "stdout",
     "output_type": "stream",
     "text": [
      "The details of the person : Name : Vinai Badineni, Age : 23, Height : 6.1\n"
     ]
    }
   ],
   "source": [
    "# Task - 07\n",
    "\n",
    "name = input(\"Enter name of the person : \")\n",
    "age = int(input(\"Enter age : \"))\n",
    "Height = float(input(\"Enter Height : \"))\n",
    "\n",
    "print(f\"The details of the person : Name : {name}, Age : {age}, and  Height : {Height}\")\n"
   ]
  },
  {
   "cell_type": "code",
   "execution_count": 94,
   "id": "f2f046cf-c5df-4851-87fa-dec671c57c34",
   "metadata": {},
   "outputs": [
    {
     "name": "stdin",
     "output_type": "stream",
     "text": [
      "Enter weight :  59\n",
      "Enter height :  5.2\n"
     ]
    },
    {
     "name": "stdout",
     "output_type": "stream",
     "text": [
      "The weight is 59 and Height is 5.2, then the BMI is 2.182\n"
     ]
    }
   ],
   "source": [
    "# Task - 08\n",
    "\n",
    "weight = int(input(\"Enter weight : \"))\n",
    "\n",
    "height = float(input(\"Enter height : \"))\n",
    "\n",
    "\n",
    "# Body Mass Index\n",
    "\n",
    "BMI = weight/(height ** 2)\n",
    "\n",
    "print(f\"The weight is {weight} and Height is {height}, then the BMI is {BMI:.3f}\")\n"
   ]
  },
  {
   "cell_type": "code",
   "execution_count": 106,
   "id": "51638aa3-9461-49b3-a3b3-57bf2428a48f",
   "metadata": {},
   "outputs": [
    {
     "name": "stdout",
     "output_type": "stream",
     "text": [
      "Name:Jayaram, Age:1.600000, Height:3.535623, Weight:10.343857\n"
     ]
    }
   ],
   "source": [
    "# Task - 09\n",
    "\n",
    "name=\"Jayaram\"\n",
    "age=1.6\n",
    "height=3.5356234\n",
    "weight=10.343856783\n",
    "\n",
    "print(\"Name:%s, Age:%f, Height:%2f, Weight:%3f\"%(name, age, height, weight))\n",
    "\n",
    "\n"
   ]
  },
  {
   "cell_type": "code",
   "execution_count": 130,
   "id": "8aac841d-54bd-401a-90ed-822fdef5ff1a",
   "metadata": {},
   "outputs": [
    {
     "name": "stdin",
     "output_type": "stream",
     "text": [
      "Enter the input in :  OIDLKLK\n"
     ]
    },
    {
     "name": "stdout",
     "output_type": "stream",
     "text": [
      "oidlklk\n",
      "oikldsxlk1sa\n"
     ]
    }
   ],
   "source": [
    "\n",
    "# Task - 10\n",
    "\n",
    "# s = input(\"Enter the letter in uppercase : \")\n",
    "# print(ord(s))\n",
    "# # chr(ord(s)+32)  # a\n",
    "\n",
    "str = input(\"Enter the input in : \")\n",
    "\n",
    "print(str.lower())\n",
    "\n",
    "str2 = \"OIKLDSXLK1SA\"\n",
    "print(str2.lower())\n"
   ]
  },
  {
   "cell_type": "code",
   "execution_count": 153,
   "id": "b55b77c1-b5aa-45aa-970f-e504c4043538",
   "metadata": {},
   "outputs": [
    {
     "name": "stdin",
     "output_type": "stream",
     "text": [
      "Enter base value :  3\n",
      "Enter Exponent value :  5\n"
     ]
    },
    {
     "name": "stdout",
     "output_type": "stream",
     "text": [
      "The out put : 243\n",
      "3^5\n"
     ]
    }
   ],
   "source": [
    "# Task - 11\n",
    "\n",
    "base = int(input(\"Enter base value : \"))\n",
    "exponent = int(input(\"Enter Exponent value : \"))\n",
    "\n",
    "print(f\"The out put : {base ** exponent}\" )\n",
    "print(f\"{base}^{exponent}\")\n",
    "\n"
   ]
  },
  {
   "cell_type": "code",
   "execution_count": 198,
   "id": "b7bf429b-e38e-4c6f-a853-f5556e2882e4",
   "metadata": {},
   "outputs": [
    {
     "name": "stdin",
     "output_type": "stream",
     "text": [
      "Enter price 1 :  130\n",
      "Enter price 2 :  100\n",
      "Enter price 3 :  120\n",
      "Enter price 4 :  200\n",
      "Enter price 5 :  160\n"
     ]
    },
    {
     "name": "stdout",
     "output_type": "stream",
     "text": [
      "142.0\n",
      "The min cost is : 100 , maximum cost is : 200, avg cost is : 142.0\n"
     ]
    }
   ],
   "source": [
    "# Task - 12\n",
    "\n",
    "# Groceries \n",
    "\n",
    "\n",
    "price1 = int(input(\"Enter price 1 : \"))\n",
    "price2 = int(input(\"Enter price 2 : \"))\n",
    "price3 = int(input(\"Enter price 3 : \"))\n",
    "price4 = int(input(\"Enter price 4 : \"))\n",
    "price5 = int(input(\"Enter price 5 : \"))\n",
    "\n",
    "list_prices = [price1, price2, price3, price4, price5]\n",
    "\n",
    "min_cost = min(list_prices)\n",
    "max_cost = max(list_prices)\n",
    "# avg_cost = sum(cost_prices)/len(cost_prices)\n",
    "# k = float(avg_cost)\n",
    "\n",
    "k = (price1 + price2 + price3 + price4 + price5)\n",
    "a = len(list_prices)\n",
    "avg = k/a\n",
    "print(avg)\n",
    "\n",
    "print(f\"The min cost is : {min_cost} , maximum cost is : {max_cost}, avg cost is : {k/a}\")"
   ]
  },
  {
   "cell_type": "code",
   "execution_count": null,
   "id": "bb1138d1-0935-40f1-af01-776a173ac6c5",
   "metadata": {},
   "outputs": [],
   "source": []
  },
  {
   "cell_type": "code",
   "execution_count": null,
   "id": "0092a557-bd9b-4635-baed-09f308752308",
   "metadata": {},
   "outputs": [],
   "source": []
  },
  {
   "cell_type": "code",
   "execution_count": null,
   "id": "63383ac5-e8a7-4077-821f-aff5d571896b",
   "metadata": {},
   "outputs": [],
   "source": []
  }
 ],
 "metadata": {
  "kernelspec": {
   "display_name": "Python 3 (ipykernel)",
   "language": "python",
   "name": "python3"
  },
  "language_info": {
   "codemirror_mode": {
    "name": "ipython",
    "version": 3
   },
   "file_extension": ".py",
   "mimetype": "text/x-python",
   "name": "python",
   "nbconvert_exporter": "python",
   "pygments_lexer": "ipython3",
   "version": "3.12.4"
  }
 },
 "nbformat": 4,
 "nbformat_minor": 5
}
