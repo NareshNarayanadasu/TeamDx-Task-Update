{
 "cells": [
  {
   "cell_type": "code",
   "execution_count": 61,
   "id": "8c297db7-a5f8-42f9-a6a6-a25c899892ec",
   "metadata": {},
   "outputs": [
    {
     "name": "stdin",
     "output_type": "stream",
     "text": [
      " 269\n",
      " 40\n"
     ]
    },
    {
     "name": "stdout",
     "output_type": "stream",
     "text": [
      "buses 7\n"
     ]
    }
   ],
   "source": [
    "import math\n",
    "people=int(input())\n",
    "seats=int(input())\n",
    "buses=math.ceil(people/seats)\n",
    "print(\"buses\",buses)"
   ]
  },
  {
   "cell_type": "code",
   "execution_count": 11,
   "id": "481a4ee6-cc0b-4bd2-9c53-3aa9a14b16f7",
   "metadata": {},
   "outputs": [
    {
     "name": "stdin",
     "output_type": "stream",
     "text": [
      "temp in fh:  102.9\n"
     ]
    },
    {
     "name": "stdout",
     "output_type": "stream",
     "text": [
      "102.9°F = 39.39°C\n"
     ]
    }
   ],
   "source": [
    "fh = float(input(\"temp in fh: \"))\n",
    "celsuis = (fh-32)*5/9\n",
    "print(f\"{fh}°F = {celsuis:.2f}°C\")"
   ]
  },
  {
   "cell_type": "code",
   "execution_count": 15,
   "id": "1e8df468-13dd-4f4b-ad12-5487dea458db",
   "metadata": {},
   "outputs": [
    {
     "name": "stdin",
     "output_type": "stream",
     "text": [
      "temp in cls:  42.5\n"
     ]
    },
    {
     "name": "stdout",
     "output_type": "stream",
     "text": [
      "42.50°C = 108.5°F\n"
     ]
    }
   ],
   "source": [
    "celsuis = float(input(\"temp in cls: \"))\n",
    "fh = (celsuis* 9/5) + 32\n",
    "print(f\"{celsuis:.2f}°C = {fh}°F\")"
   ]
  },
  {
   "cell_type": "code",
   "execution_count": 25,
   "id": "e2b87203-94ab-4363-bcd9-dc050f9dd76d",
   "metadata": {},
   "outputs": [
    {
     "name": "stdin",
     "output_type": "stream",
     "text": [
      "x1:  5\n",
      "x2:  94\n",
      "x3:  68\n",
      "x4:  88\n"
     ]
    },
    {
     "name": "stdout",
     "output_type": "stream",
     "text": [
      "(x1 + x2)^2 = 9801.00\n",
      "(x3 + x4)^3 = 3796416.00\n",
      "Variance = 1243.19\n",
      "Standard Deviation = 35.26\n",
      "Regression (y = mx + b) = 313.69\n",
      "Average of the four numbers = 63.75\n",
      "Sum of the four numbers = 255.00\n"
     ]
    }
   ],
   "source": [
    "x1 = float(input(\"x1: \"))\n",
    "x2 = float(input(\"x2: \"))\n",
    "x3 = float(input(\"x3: \"))\n",
    "x4 = float(input(\"x4: \"))\n",
    "\n",
    "result1 = (x1 + x2)**2\n",
    "result2 = (x3 + x4)**3\n",
    "\n",
    "num = [x1, x2, x3, x4]\n",
    "mean = sum(num) / len(num)\n",
    "variance = sum((xi - mean) ** 2 for xi in num) / len(num)\n",
    "\n",
    "# 3. Calculate standard deviation\n",
    "std_deviation = (variance)**0.5\n",
    "\n",
    "# 4. Calculate regression (y = mx + b, where m = 1.23 and b = 0.045)\n",
    "m = 1.23\n",
    "b = 0.045\n",
    "y = m * (x1 + x2 + x3 + x4) + b\n",
    "\n",
    "average = mean\n",
    "\n",
    "total_sum = sum(num)\n",
    "\n",
    "print(f\"(x1 + x2)^2 = {result1:.2f}\")\n",
    "print(f\"(x3 + x4)^3 = {result2:.2f}\")\n",
    "print(f\"Variance = {variance:.2f}\")\n",
    "print(f\"Standard Deviation = {std_deviation:.2f}\")\n",
    "print(f\"Regression (y = mx + b) = {y:.2f}\")\n",
    "print(f\"Average of the four numbers = {average:.2f}\")\n",
    "print(f\"Sum of the four numbers = {total_sum:.2f}\")\n"
   ]
  },
  {
   "cell_type": "code",
   "execution_count": 37,
   "id": "de3a9f09-ef39-4947-92c0-175188c6c027",
   "metadata": {},
   "outputs": [
    {
     "name": "stdin",
     "output_type": "stream",
     "text": [
      "Enter kilometers:  36.2\n"
     ]
    },
    {
     "name": "stdout",
     "output_type": "stream",
     "text": [
      "36.2 kms = 36200.0 mtrs \n",
      "36.2 kms = 3620000.0 cms \n",
      "36.2 kms = 36200000.0 mms \n",
      "36.2 kms = 118766.408feets \n",
      "36.2 kms =39588.682yards\n"
     ]
    }
   ],
   "source": [
    "km = float(input(\"Enter kilometers: \"))\n",
    "\n",
    "mtrs = km * 1000\n",
    "cm = mtrs * 100\n",
    "mm = mtrs * 1000\n",
    "feet = mtrs * 3.28084\n",
    "yards = mtrs * 1.09361\n",
    "print(f\"{km} kms = {mtrs} mtrs \\n{km} kms = {cm} cms \\n{km} kms = {mm} mms \\n{km} kms = {feet}feets \\n{km} kms ={yards}yards\")"
   ]
  },
  {
   "cell_type": "code",
   "execution_count": 59,
   "id": "55759043-6539-47f0-9eb9-cb3344e60755",
   "metadata": {},
   "outputs": [
    {
     "name": "stdin",
     "output_type": "stream",
     "text": [
      "hard disk in GB:  512\n"
     ]
    },
    {
     "name": "stdout",
     "output_type": "stream",
     "text": [
      "your hard disk 524288.00 MBS\n",
      "your hard disk 536870912.00 KBS\n",
      "your hard disk 0.50 TB\n",
      "your hard disk 0.00 PB\n"
     ]
    }
   ],
   "source": [
    "gb = float(input(\"hard disk in GB: \"))\n",
    "\n",
    "mb = gb * 1024\n",
    "kb = mb * 1024\n",
    "tb = gb / 1024\n",
    "pb = tb / 1024\n",
    "print(f\"your hard disk {mb:.2f} MBS\")\n",
    "print(f\"your hard disk {kb:.2f} KBS\")\n",
    "print(f\"your hard disk {tb:.2f} TB\")\n",
    "print(f\"your hard disk {pb:.2f} PB\")"
   ]
  },
  {
   "cell_type": "code",
   "execution_count": 73,
   "id": "748d01ef-658f-40f4-adb1-d611e370f4d5",
   "metadata": {},
   "outputs": [
    {
     "name": "stdin",
     "output_type": "stream",
     "text": [
      " Badireddy\n",
      " 24\n",
      " 5.9\n"
     ]
    },
    {
     "name": "stdout",
     "output_type": "stream",
     "text": [
      "The details of the person:name:Badireddy,age:24,Height:5.9\n"
     ]
    }
   ],
   "source": [
    "name=input()\n",
    "age=int(input())\n",
    "height=float(input())\n",
    "print(f\"The details of the person:name:{name},age:{age},Height:{height}\")"
   ]
  },
  {
   "cell_type": "code",
   "execution_count": 85,
   "id": "9c168aea-d17e-4c8f-8856-088f00bcb031",
   "metadata": {},
   "outputs": [
    {
     "name": "stdin",
     "output_type": "stream",
     "text": [
      "your weight 64\n",
      "your height 5.9\n"
     ]
    },
    {
     "name": "stdout",
     "output_type": "stream",
     "text": [
      "your BMI is:1.84\n",
      "You have a normal weight.\n"
     ]
    }
   ],
   "source": [
    "weight=float(input(\"your weight\"))\n",
    "height=float(input(\"your height\"))\n",
    "bmi = weight/(height**2)\n",
    "print(f\"your BMI is:{bmi:.2f}\")\n",
    "if bmi < 1:\n",
    "    print(\"You are underweight.\")\n",
    "elif 1 <= bmi < 2:\n",
    "    print(\"You have a normal weight.\")\n",
    "elif 2 <= bmi < 5:\n",
    "    print(\"You are overweight.\")\n",
    "else:\n",
    "    print(\"You are obese.\")"
   ]
  },
  {
   "cell_type": "code",
   "execution_count": 113,
   "id": "6d9887ef-40e1-40e1-8359-e388c60d5bfe",
   "metadata": {},
   "outputs": [
    {
     "name": "stdout",
     "output_type": "stream",
     "text": [
      "name:Jayaram ,Age:1 ,Height:3.54 ,Weight:10.34\n"
     ]
    }
   ],
   "source": [
    "name=\"Jayaram\"\n",
    "\n",
    "age=1.6\n",
    "\n",
    "height=3.5356234\n",
    "\n",
    "weight=10.343856783\n",
    "print(\"name:%s\"%name,\",Age:%d\"%age,\",Height:%.2f\"%height,\",Weight:%.2f\"%weight)"
   ]
  },
  {
   "cell_type": "code",
   "execution_count": 153,
   "id": "54105c02-ea2d-4c17-9f9d-26a10694477a",
   "metadata": {},
   "outputs": [
    {
     "name": "stdin",
     "output_type": "stream",
     "text": [
      " ABC\n"
     ]
    },
    {
     "name": "stdout",
     "output_type": "stream",
     "text": [
      "abc\n"
     ]
    }
   ],
   "source": [
    "a = input()\n",
    "b = a.lower()\n",
    "print(b)"
   ]
  },
  {
   "cell_type": "code",
   "execution_count": 155,
   "id": "7fac5995-097d-479f-9c4a-a08ca9e1eb73",
   "metadata": {},
   "outputs": [
    {
     "name": "stdin",
     "output_type": "stream",
     "text": [
      " abnd\n"
     ]
    },
    {
     "name": "stdout",
     "output_type": "stream",
     "text": [
      "ABND\n"
     ]
    }
   ],
   "source": [
    "a = input()\n",
    "b = a.upper()\n",
    "print(b)"
   ]
  },
  {
   "cell_type": "code",
   "execution_count": 137,
   "id": "3a7b9a7b-4b34-42b0-92f8-d19ae9fb8d18",
   "metadata": {},
   "outputs": [
    {
     "name": "stdin",
     "output_type": "stream",
     "text": [
      " 2\n",
      " 3\n"
     ]
    },
    {
     "name": "stdout",
     "output_type": "stream",
     "text": [
      "2³\n"
     ]
    }
   ],
   "source": [
    "base = int(input())\n",
    "exponent = int(input())\n",
    "print(f\"{base}\\u00b3\")   \n",
    "#base\\u2074   4 in power \n",
    "#base\\u2075   5 in power\n",
    "#{base}\\u00b9\\u2070{exponent_str[1]}\")  # For displaying \"2¹⁰\""
   ]
  },
  {
   "cell_type": "code",
   "execution_count": 143,
   "id": "e06b1c73-857e-48f3-af23-5fcb49b0653f",
   "metadata": {},
   "outputs": [
    {
     "name": "stdin",
     "output_type": "stream",
     "text": [
      " 987\n",
      " 4365\n",
      " 95\n"
     ]
    },
    {
     "name": "stdout",
     "output_type": "stream",
     "text": [
      "total_cost:  5447\n",
      "avg_cost: 1815.67\n"
     ]
    }
   ],
   "source": [
    "cost = int(input())\n",
    "cost1 = int(input())\n",
    "cost2 = int(input())\n",
    "total_cost = cost+cost1+cost2\n",
    "avg_cost = total_cost/3\n",
    "print(\"total_cost: \",total_cost)\n",
    "print(f\"avg_cost: {avg_cost:.2f}\")"
   ]
  },
  {
   "cell_type": "code",
   "execution_count": 149,
   "id": "496cf5cd-c08e-4658-b9cc-60eb4756a4a8",
   "metadata": {},
   "outputs": [
    {
     "name": "stdin",
     "output_type": "stream",
     "text": [
      "Enter the number of grocery items:  5\n",
      "Enter the cost of item 1:  652\n",
      "Enter the cost of item 2:  693\n",
      "Enter the cost of item 3:  1253\n",
      "Enter the cost of item 4:  694\n",
      "Enter the cost of item 5:  3652\n"
     ]
    },
    {
     "name": "stdout",
     "output_type": "stream",
     "text": [
      "Total cost: Rs.6944.00\n",
      "Average cost:Rs. 1388.80\n",
      "Maximum cost: Rs.3652.00\n",
      "Minimum cost: Rs.652.00\n"
     ]
    }
   ],
   "source": [
    "num_items = int(input(\"Enter the number of grocery items: \"))\n",
    "\n",
    "costs = []\n",
    "\n",
    "for i in range(num_items):\n",
    "    cost = float(input(f\"Enter the cost of item {i+1}: \"))\n",
    "    costs.append(cost)\n",
    "\n",
    "total_cost = sum(costs)\n",
    "\n",
    "average_cost = total_cost / num_items\n",
    "\n",
    "max_cost = max(costs)\n",
    "\n",
    "min_cost = min(costs)\n",
    "\n",
    "print(f\"Total cost: Rs.{total_cost:.2f}\")\n",
    "print(f\"Average cost:Rs.{average_cost:.2f}\")\n",
    "print(f\"Maximum cost: Rs.{max_cost:.2f}\")\n",
    "print(f\"Minimum cost: Rs.{min_cost:.2f}\")"
   ]
  },
  {
   "cell_type": "code",
   "execution_count": null,
   "id": "57a41701-752a-40f1-81f8-bf78411fc2ec",
   "metadata": {},
   "outputs": [],
   "source": []
  }
 ],
 "metadata": {
  "kernelspec": {
   "display_name": "Python 3 (ipykernel)",
   "language": "python",
   "name": "python3"
  },
  "language_info": {
   "codemirror_mode": {
    "name": "ipython",
    "version": 3
   },
   "file_extension": ".py",
   "mimetype": "text/x-python",
   "name": "python",
   "nbconvert_exporter": "python",
   "pygments_lexer": "ipython3",
   "version": "3.12.4"
  }
 },
 "nbformat": 4,
 "nbformat_minor": 5
}
