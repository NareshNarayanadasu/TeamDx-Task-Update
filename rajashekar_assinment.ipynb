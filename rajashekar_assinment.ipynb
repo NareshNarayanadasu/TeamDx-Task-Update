{
 "cells": [
  {
   "cell_type": "code",
   "execution_count": 2,
   "id": "6e31dd9e-43fa-48f6-b2b7-bdc915d9957f",
   "metadata": {},
   "outputs": [
    {
     "name": "stdin",
     "output_type": "stream",
     "text": [
      "Enter the total number of people:  120\n",
      "Enter the number of seats per bus:  40\n"
     ]
    },
    {
     "name": "stdout",
     "output_type": "stream",
     "text": [
      "Number of buses required: 3\n"
     ]
    }
   ],
   "source": [
    "total_people = int(input(\"Enter the total number of people: \"))\n",
    "seats_per_bus = int(input(\"Enter the number of seats per bus: \"))\n",
    "\n",
    "buses_required = total_people // seats_per_bus\n",
    "\n",
    "if total_people % seats_per_bus != 0:\n",
    "    buses_required += 1\n",
    "\n",
    "print(f\"Number of buses required: {buses_required}\")"
   ]
  },
  {
   "cell_type": "code",
   "execution_count": 7,
   "id": "27b00d11-aad1-4976-a4dd-8e7e3d173b50",
   "metadata": {},
   "outputs": [
    {
     "name": "stdin",
     "output_type": "stream",
     "text": [
      "Enter temperature in Fahrenheit:  100\n"
     ]
    },
    {
     "name": "stdout",
     "output_type": "stream",
     "text": [
      "100.0°F is equal to 37.78°C\n"
     ]
    }
   ],
   "source": [
    "fahrenheit = float(input(\"Enter temperature in Fahrenheit: \"))\n",
    "\n",
    "celsius = (fahrenheit - 32) * 5 / 9\n",
    "\n",
    "print(f\"{fahrenheit}°F is equal to {celsius:.2f}°C\")\n",
    "\n"
   ]
  },
  {
   "cell_type": "code",
   "execution_count": 8,
   "id": "59d05c93-7c8d-4141-8114-cd5b50aed352",
   "metadata": {},
   "outputs": [
    {
     "name": "stdin",
     "output_type": "stream",
     "text": [
      "Enter the value for x1:  1\n",
      "Enter the value for x2:  2\n",
      "Enter the value for x3:  3\n",
      "Enter the value for x4:  4\n"
     ]
    },
    {
     "name": "stdout",
     "output_type": "stream",
     "text": [
      "(x1 + x2) ** 2 = 9.0\n",
      "(x3 + x4) ** 3 = 343.0\n",
      "Variance = 1.25\n",
      "Standard Deviation = 1.118033988749895\n",
      "Regression y = 12.345\n",
      "Average of four numbers = 2.5\n",
      "Sum of the four numbers = 10.0\n"
     ]
    }
   ],
   "source": [
    "import math\n",
    "\n",
    "x1 = float(input(\"Enter the value for x1: \"))\n",
    "x2 = float(input(\"Enter the value for x2: \"))\n",
    "x3 = float(input(\"Enter the value for x3: \"))\n",
    "x4 = float(input(\"Enter the value for x4: \"))\n",
    "\n",
    "operation1 = (x1 + x2) ** 2\n",
    "operation2 = (x3 + x4) ** 3\n",
    "\n",
    "\n",
    "print(f\"(x1 + x2) ** 2 = {operation1}\")\n",
    "print(f\"(x3 + x4) ** 3 = {operation2}\")\n",
    "\n",
    "\n",
    "average = (x1 + x2 + x3 + x4) / 4\n",
    "variance = ((x1 - average) ** 2 + (x2 - average) ** 2 + (x3 - average) ** 2 + (x4 - average) ** 2) / 4\n",
    "\n",
    "print(f\"Variance = {variance}\")\n",
    "\n",
    "\n",
    "std_dev = math.sqrt(variance)\n",
    "\n",
    "print(f\"Standard Deviation = {std_dev}\")\n",
    "\n",
    "\n",
    "m = 1.23\n",
    "b = 0.045\n",
    "y = m * (x1 + x2 + x3 + x4) + b\n",
    "\n",
    "\n",
    "print(f\"Regression y = {y}\")\n",
    "\n",
    "print(f\"Average of four numbers = {average}\")\n",
    "\n",
    "\n",
    "sum_of_numbers = x1 + x2 + x3 + x4\n",
    "\n",
    "\n",
    "print(f\"Sum of the four numbers = {sum_of_numbers}\")\n",
    "\n"
   ]
  },
  {
   "cell_type": "code",
   "execution_count": 10,
   "id": "75a8c8c4-3c42-401c-806a-911db30e18b1",
   "metadata": {},
   "outputs": [
    {
     "name": "stdin",
     "output_type": "stream",
     "text": [
      "Enter distance in kilometers:  1\n"
     ]
    },
    {
     "name": "stdout",
     "output_type": "stream",
     "text": [
      "1.0 kilometers is equal to:\n",
      "1000.0 meters\n",
      "100000.0 centimeters\n",
      "1000000.0 millimeters\n",
      "39370.10 inches\n",
      "3280.84 feet\n",
      "1093.61 yards\n"
     ]
    }
   ],
   "source": [
    "km = float(input(\"Enter distance in kilometers: \"))\n",
    "\n",
    "\n",
    "meters = km * 1000           \n",
    "centimeters = km * 100000     \n",
    "millimeters = km * 1000000   \n",
    "inches = km * 39370.1         \n",
    "feet = km * 3280.84          \n",
    "yards = km * 1093.61  \n",
    "\n",
    "\n",
    "print(f\"{km} kilometers is equal to:\")\n",
    "print(f\"{meters} meters\")\n",
    "print(f\"{centimeters} centimeters\")\n",
    "print(f\"{millimeters} millimeters\")\n",
    "print(f\"{inches:.2f} inches\")\n",
    "print(f\"{feet:.2f} feet\")\n",
    "print(f\"{yards:.2f} yards\")"
   ]
  },
  {
   "cell_type": "code",
   "execution_count": 11,
   "id": "6e2c04fd-bd8b-42a2-8087-23d20c3dfd91",
   "metadata": {},
   "outputs": [
    {
     "name": "stdin",
     "output_type": "stream",
     "text": [
      "Enter the size of your hard disk in GB:  1\n"
     ]
    },
    {
     "name": "stdout",
     "output_type": "stream",
     "text": [
      "1.0 GB is equal to:\n",
      "1024.00 MB\n",
      "1048576.00 KB\n",
      "0.000977 TB\n",
      "0.0000009537 PB\n"
     ]
    }
   ],
   "source": [
    "gb = float(input(\"Enter the size of your hard disk in GB: \"))\n",
    "\n",
    "\n",
    "mb = gb * 1024             \n",
    "kb = gb * 1024 * 1024       \n",
    "tb = gb / 1024            \n",
    "pb = gb / (1024 ** 2)      \n",
    "\n",
    "print(f\"{gb} GB is equal to:\")\n",
    "print(f\"{mb:.2f} MB\")\n",
    "print(f\"{kb:.2f} KB\")\n",
    "print(f\"{tb:.6f} TB\")\n",
    "print(f\"{pb:.10f} PB\")"
   ]
  },
  {
   "cell_type": "code",
   "execution_count": 22,
   "id": "bf10e13a-a2f2-48ea-aca8-42842fe4dc1e",
   "metadata": {},
   "outputs": [
    {
     "name": "stdin",
     "output_type": "stream",
     "text": [
      "Enter your name: Abc\n",
      "Enter your Age: 21\n",
      "Enter your height 6.6\n"
     ]
    },
    {
     "name": "stdout",
     "output_type": "stream",
     "text": [
      "The details of the personal, name: Abc, age: 21, height: 6.6\n"
     ]
    }
   ],
   "source": [
    "name=input(\"Enter your name:\")\n",
    "age=input(\"Enter your Age:\")\n",
    "height=input(\"Enter your height\")\n",
    "print(f\"The details of the personal, name: {name:}, age: {age:}, height: {height:}\")\n"
   ]
  },
  {
   "cell_type": "code",
   "execution_count": 23,
   "id": "90cf2174-e71e-4c27-bbc9-6467aa054986",
   "metadata": {},
   "outputs": [
    {
     "name": "stdin",
     "output_type": "stream",
     "text": [
      "Enter your weight : 60\n",
      "Enter your height : 5.8\n"
     ]
    },
    {
     "name": "stdout",
     "output_type": "stream",
     "text": [
      "BMI :1.784\n"
     ]
    }
   ],
   "source": [
    "weight = float(input(\"Enter your weight :\"))\n",
    "height = float(input(\"Enter your height :\"))\n",
    "BMI = weight/ (height ** 2)\n",
    "print(f\"BMI :{BMI:.3f}\")"
   ]
  },
  {
   "cell_type": "code",
   "execution_count": 24,
   "id": "0e615296-7bcd-428e-8310-baa4d9bed5cd",
   "metadata": {},
   "outputs": [
    {
     "name": "stdout",
     "output_type": "stream",
     "text": [
      "NAME : Abc ,AGE : 1.60,HEIGHT : 3.536,WEIGHT: 10.344\n"
     ]
    }
   ],
   "source": [
    "ame = \"Jayaram\"\n",
    "age = 1.6\n",
    "height = 3.5356234\n",
    "weight = 10.343856783\n",
    "print (\"NAME : %s ,AGE : %.2f,HEIGHT : %.3f,WEIGHT: %.3f\" %(name,age,height,weight))"
   ]
  },
  {
   "cell_type": "code",
   "execution_count": 25,
   "id": "03780a1d-cf1b-46f6-899a-97b164e8e656",
   "metadata": {},
   "outputs": [
    {
     "name": "stdin",
     "output_type": "stream",
     "text": [
      "enter your name  ABCD\n"
     ]
    },
    {
     "data": {
      "text/plain": [
       "'abcd'"
      ]
     },
     "execution_count": 25,
     "metadata": {},
     "output_type": "execute_result"
    }
   ],
   "source": [
    "x = input(\"enter your name \")\n",
    "k = x.lower()\n",
    "k"
   ]
  },
  {
   "cell_type": "code",
   "execution_count": 26,
   "id": "0a40f8df-35ba-4efc-907a-de5e0e7b0e06",
   "metadata": {},
   "outputs": [
    {
     "name": "stdin",
     "output_type": "stream",
     "text": [
      "enter your price  11\n",
      "enter your price  13\n",
      "enter your price  23\n",
      "enter your price  45\n"
     ]
    },
    {
     "name": "stdout",
     "output_type": "stream",
     "text": [
      "Total_cost : 92\n",
      "average_cost:  23.0\n",
      "max_cost:  45\n",
      "min_cost:  11\n"
     ]
    }
   ],
   "source": [
    "groceries_cost_prices1 = int(input(\"enter your price \"))\n",
    "groceries_cost_prices2 = int(input(\"enter your price \"))\n",
    "groceries_cost_prices3 = int(input(\"enter your price \"))\n",
    "groceries_cost_prices4 = int(input(\"enter your price \"))\n",
    "x = [groceries_cost_prices1,groceries_cost_prices2,groceries_cost_prices3,groceries_cost_prices4]\n",
    "r = sum(x)\n",
    "k = len(x)\n",
    "\n",
    "Total_cost = groceries_cost_prices1 + groceries_cost_prices2 + groceries_cost_prices3 + groceries_cost_prices4\n",
    "print(\"Total_cost :\",Total_cost)\n",
    "average_cost = r/k\n",
    "print(\"average_cost: \",average_cost)\n",
    "max_cost = max(x)\n",
    "print(\"max_cost: \",max_cost)\n",
    "min_cost =min(x)\n",
    "print(\"min_cost: \",min_cost)\n"
   ]
  },
  {
   "cell_type": "code",
   "execution_count": null,
   "id": "c088026c-e827-4825-9f7d-02c1581d9ec1",
   "metadata": {},
   "outputs": [],
   "source": []
  }
 ],
 "metadata": {
  "kernelspec": {
   "display_name": "Python 3 (ipykernel)",
   "language": "python",
   "name": "python3"
  },
  "language_info": {
   "codemirror_mode": {
    "name": "ipython",
    "version": 3
   },
   "file_extension": ".py",
   "mimetype": "text/x-python",
   "name": "python",
   "nbconvert_exporter": "python",
   "pygments_lexer": "ipython3",
   "version": "3.12.4"
  }
 },
 "nbformat": 4,
 "nbformat_minor": 5
}
