{
 "cells": [
  {
   "cell_type": "code",
   "execution_count": 65,
   "id": "f63a281f-c8c8-4998-b44a-0e1776679743",
   "metadata": {},
   "outputs": [
    {
     "name": "stdin",
     "output_type": "stream",
     "text": [
      "Enter the total no of people:  55\n",
      "Enter the no of seats per bus:  45\n"
     ]
    },
    {
     "name": "stdout",
     "output_type": "stream",
     "text": [
      "1.2222222222222223\n"
     ]
    }
   ],
   "source": [
    "total_people = int(input(\"Enter the total no of people: \"))\n",
    "seats_per_bus = int(input(\"Enter the no of seats per bus: \"))\n",
    "total=total_people/seats_per_bus \n",
    "print(total)"
   ]
  },
  {
   "cell_type": "code",
   "execution_count": 5,
   "id": "fe2f286c-002a-4db4-a4fd-07b77dadeb2d",
   "metadata": {},
   "outputs": [
    {
     "name": "stdin",
     "output_type": "stream",
     "text": [
      "Enter temperature in Fahrenheit:  95\n"
     ]
    },
    {
     "name": "stdout",
     "output_type": "stream",
     "text": [
      "Temperature in Celsius: 35.00\n"
     ]
    }
   ],
   "source": [
    "fahrenheit = float(input(\"Enter temperature in Fahrenheit: \"))\n",
    "celsius = (fahrenheit - 32) * 5 / 9\n",
    "print(f\"Temperature in Celsius: {celsius:.2f}\")"
   ]
  },
  {
   "cell_type": "code",
   "execution_count": 9,
   "id": "7e991d2e-c58a-4ffb-a060-d7b577b77052",
   "metadata": {},
   "outputs": [
    {
     "name": "stdin",
     "output_type": "stream",
     "text": [
      "Enter temperature in Celsius:  35\n"
     ]
    },
    {
     "name": "stdout",
     "output_type": "stream",
     "text": [
      "Temperature in Fahrenheit: 95.00\n"
     ]
    }
   ],
   "source": [
    "celsius = float(input(\"Enter temperature in Celsius: \"))\n",
    "fahrenheit = (celsius * 9 / 5) + 32\n",
    "print(f\"Temperature in Fahrenheit: {fahrenheit:.2f}\")"
   ]
  },
  {
   "cell_type": "code",
   "execution_count": 79,
   "id": "8a09dcee-805b-4e0b-bd72-bc71b3128b3b",
   "metadata": {},
   "outputs": [
    {
     "name": "stdin",
     "output_type": "stream",
     "text": [
      "Enter any First_number: 7\n",
      "Enter any Sce_number: 8\n",
      "Enter any Third_number: 9\n",
      "Enter any Fourth_number: 5\n"
     ]
    },
    {
     "name": "stdout",
     "output_type": "stream",
     "text": [
      "standard_devitation : 1.707825127659933\n",
      "k value :  225\n",
      "s value :  2744\n",
      "varience :  2.9166666666666665\n",
      "standard_dev: 1.707825127659933\n",
      "y value : 35.715\n",
      "average : 7.0\n",
      "sum : 23\n"
     ]
    }
   ],
   "source": [
    "import math\n",
    "import statistics\n",
    "x1 = int(input(\"Enter any First_number:\"))\n",
    "x2 = int(input(\"Enter any Sce_number:\"))\n",
    "x3 = int(input(\"Enter any Third_number:\"))\n",
    "x4 = int(input(\"Enter any Fourth_number:\"))\n",
    "k=(x1+x2)**2 \n",
    "s=(x3+x4)**3\n",
    "x = [x1, x2, x3, x4]\n",
    "\n",
    "varience  = statistics.variance(x) \n",
    "z = varience **0.5\n",
    "print (\"standard_devitation :\",z)\n",
    "standard_devitation = math.sqrt(varience) \n",
    "print (\"k value : \",k)\n",
    "print (\"s value : \",s)\n",
    "print( \"varience : \", varience)\n",
    "print ( \"standard_dev:\",standard_devitation)\n",
    "#y = mx+c\n",
    "m = 1.23\n",
    "b = 0.045\n",
    "x = x1+x2+x3+x4\n",
    "y = 1.23 * x + b\n",
    "print(\"y value :\",y)\n",
    "average  =(x1+x2+x3+4)/4\n",
    "print(\"average :\",average)\n",
    "sum = x1+x2+x3+x4\n",
    "print(\"sum :\",sume)"
   ]
  },
  {
   "cell_type": "code",
   "execution_count": 59,
   "id": "7fb9965f-2043-4cb2-a760-f4e72cf5ff63",
   "metadata": {},
   "outputs": [
    {
     "name": "stdin",
     "output_type": "stream",
     "text": [
      "Enter distance in kilometers:  54\n"
     ]
    },
    {
     "name": "stdout",
     "output_type": "stream",
     "text": [
      "METERS: 54000.00 m\n",
      "CM: 5400000.00 cm\n",
      "MILLI_METERS: 54000000.00 mm\n",
      "FEETS: 177165.36 ft\n",
      "YARDS: 59054.94 yd\n"
     ]
    }
   ],
   "source": [
    "km = float(input(\"Enter distance in kilometers: \"))\n",
    "METERS = km * 1000\n",
    "CM = METERS * 100\n",
    "MILLI_METERS = METERS * 1000\n",
    "FEETS = METERS * 3.28084\n",
    "YARDS = METERS * 1.09361\n",
    "#Show that in cm, meters, in milli meters, cents, feets, yards\n",
    "print(f\"METERS: {METERS:.2f} m\")\n",
    "print(f\"CM: {CM:.2f} cm\")\n",
    "print(f\"MILLI_METERS: {MILLI_METERS:.2f} mm\")\n",
    "print(f\"FEETS: {FEETS:.2f} ft\")\n",
    "print(f\"YARDS: {YARDS:.2f} yd\")"
   ]
  },
  {
   "cell_type": "code",
   "execution_count": 61,
   "id": "e8de3ec1-0983-4a3f-b503-cbd0a0e7a548",
   "metadata": {},
   "outputs": [
    {
     "name": "stdin",
     "output_type": "stream",
     "text": [
      "Enter size of hard disk :  25\n"
     ]
    },
    {
     "name": "stdout",
     "output_type": "stream",
     "text": [
      "MB :  25600.0\n",
      "KB :  26214400.0\n",
      "TB :  0.0244140625\n",
      "PB :  2.384185791015625e-05\n"
     ]
    }
   ],
   "source": [
    "GB = float(input(\"Enter size of hard disk : \"))\n",
    "MB = GB * 1024        \n",
    "KB = MB * 1024        \n",
    "TB = GB / 1024        \n",
    "PB = TB / 1024   \n",
    " \n",
    "print(\"MB : \",MB)\n",
    "print(\"KB : \",KB)\n",
    "print(\"TB : \",TB)\n",
    "print(\"PB : \",PB)"
   ]
  },
  {
   "cell_type": "code",
   "execution_count": 35,
   "id": "0e0d6d22-9011-4c08-a136-536e549070ea",
   "metadata": {},
   "outputs": [
    {
     "name": "stdin",
     "output_type": "stream",
     "text": [
      "Enter your name:  Rajkumar\n",
      "Enter your age:  29\n",
      "Enter your height:  5.5\n"
     ]
    },
    {
     "name": "stdout",
     "output_type": "stream",
     "text": [
      "The Person deatils Name:Rajkumar, Age:29, Height:5.5\n"
     ]
    }
   ],
   "source": [
    "name = input(\"Enter your name: \")\n",
    "age = input(\"Enter your age: \")\n",
    "height = input(\"Enter your height: \")\n",
    "\n",
    "print(f\"The Person deatils Name:{name}, Age:{age}, Height:{height}\")"
   ]
  },
  {
   "cell_type": "code",
   "execution_count": 2,
   "id": "c69b46ff-f2a0-4c72-a95b-a0b814fe4bfe",
   "metadata": {},
   "outputs": [
    {
     "name": "stdin",
     "output_type": "stream",
     "text": [
      "Enter your weight kg:  45\n",
      "Enter your height in m:  5.6\n"
     ]
    },
    {
     "name": "stdout",
     "output_type": "stream",
     "text": [
      "your bmi is: 1.43\n"
     ]
    }
   ],
   "source": [
    "#body mass index bmi\n",
    "weight = float(input(\"Enter your weight kg: \"))\n",
    "height = float(input(\"Enter your height in m: \"))\n",
    "bmi = weight / (height ** 2)\n",
    "\n",
    "print(f\"your bmi is: {bmi:.2f}\")"
   ]
  },
  {
   "cell_type": "code",
   "execution_count": 33,
   "id": "1d3bf0ab-3571-443c-bc14-2cc7cc71ca61",
   "metadata": {},
   "outputs": [
    {
     "name": "stdout",
     "output_type": "stream",
     "text": [
      "Name:Jayaram, Age:1.6, Height:3.54, Weight:10.344\n"
     ]
    }
   ],
   "source": [
    "name=\"Jayaram\"\n",
    "age= 1.6\n",
    "height=3.5356234\n",
    "weight=10.343856783\n",
    "print(\"Name:%s, Age:%.1f, Height:%.2f, Weight:%.3f\" % (name,age,height,weight))"
   ]
  },
  {
   "cell_type": "code",
   "execution_count": 41,
   "id": "d15df535-1ca3-47cd-b6e1-5c36ac72bbd3",
   "metadata": {},
   "outputs": [
    {
     "name": "stdin",
     "output_type": "stream",
     "text": [
      "Enter Any letters: ABC\n"
     ]
    },
    {
     "name": "stdout",
     "output_type": "stream",
     "text": [
      "abc\n"
     ]
    }
   ],
   "source": [
    "a=input(\"Enter Any letters:\");\n",
    "b=a.lower()\n",
    "print(b)\n"
   ]
  },
  {
   "cell_type": "code",
   "execution_count": 55,
   "id": "2a56f0c4-ba28-41ec-b044-24b18f3f4505",
   "metadata": {},
   "outputs": [
    {
     "name": "stdout",
     "output_type": "stream",
     "text": [
      "2³\n"
     ]
    }
   ],
   "source": [
    "base=2 \n",
    "exponent=3\n",
    "print(f\"{base}\\u00b3\")\n",
    "\n"
   ]
  },
  {
   "cell_type": "code",
   "execution_count": null,
   "id": "ad2f9547-a99d-46b7-8809-bae050a34722",
   "metadata": {},
   "outputs": [],
   "source": [
    "num_items = int(input(\"Enter the number of grocery items: \"))\n",
    "costs = []\n",
    "for i in range(num_items):\n",
    "    cost = float(input(f\"Enter the cost of item {i+1}: \"))\n",
    "    costs.append(cost)\n",
    " \n",
    "total_cost = sum(costs)\n",
    " \n",
    "average_cost = total_cost / num_items\n",
    " \n",
    "max_cost = max(costs)\n",
    " \n",
    "min_cost = min(costs)\n",
    " \n",
    "print(f\"Total cost: Rs.{total_cost:.2f}\")\n",
    "print(f\"Average cost:Rs.{average_cost:.2f}\")\n",
    "print(f\"Maximum cost: Rs.{max_cost:.2f}\")\n",
    "print(f\"Minimum cost: Rs.{min_cost:.2f}\")"
   ]
  },
  {
   "cell_type": "code",
   "execution_count": null,
   "id": "4a0554ed-9ab8-4abd-9c89-8702afcbfaf1",
   "metadata": {},
   "outputs": [],
   "source": []
  }
 ],
 "metadata": {
  "kernelspec": {
   "display_name": "Python 3 (ipykernel)",
   "language": "python",
   "name": "python3"
  },
  "language_info": {
   "codemirror_mode": {
    "name": "ipython",
    "version": 3
   },
   "file_extension": ".py",
   "mimetype": "text/x-python",
   "name": "python",
   "nbconvert_exporter": "python",
   "pygments_lexer": "ipython3",
   "version": "3.12.4"
  }
 },
 "nbformat": 4,
 "nbformat_minor": 5
}
