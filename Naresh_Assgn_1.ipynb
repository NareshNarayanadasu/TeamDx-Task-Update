{
 "cells": [
  {
   "cell_type": "markdown",
   "id": "1b8c830c-2677-41a8-a43d-202488f19d5e",
   "metadata": {},
   "source": [
    "### 1. Take the input from the user for(Total number of people,Number of seats for bus. Based on two inputs Decide how many number of buses required"
   ]
  },
  {
   "cell_type": "code",
   "execution_count": 1,
   "id": "3b223613-0ea2-442b-bda6-f9efd9377985",
   "metadata": {},
   "outputs": [
    {
     "name": "stdin",
     "output_type": "stream",
     "text": [
      "please enter the No. of passengers  :  98\n",
      "available seats : 16\n"
     ]
    },
    {
     "name": "stdout",
     "output_type": "stream",
     "text": [
      "6\n"
     ]
    }
   ],
   "source": [
    "passangers = int(input( \"please enter the No. of passengers  : \" ))\n",
    "seats      = int(input(\"available seats :\"))\n",
    "no_of_buses_need = passangers // seats\n",
    "print(no_of_buses_need)"
   ]
  },
  {
   "cell_type": "markdown",
   "id": "6e00a24d-9331-4719-8da2-91d823709c48",
   "metadata": {},
   "source": [
    "### 2.take temperature from the user and convert foreign heat -> Celsius."
   ]
  },
  {
   "cell_type": "code",
   "execution_count": 2,
   "id": "09540e3e-7235-4164-af2b-4afd0f3c6f14",
   "metadata": {},
   "outputs": [
    {
     "name": "stdin",
     "output_type": "stream",
     "text": [
      "Enter temperature in Fahrenheit:  95\n"
     ]
    },
    {
     "name": "stdout",
     "output_type": "stream",
     "text": [
      "95.0°F is equal to 35.00°C\n"
     ]
    }
   ],
   "source": [
    "fahrenheit = float(input(\"Enter temperature in Fahrenheit: \"))\n",
    "celsius = (fahrenheit - 32) * 5/9\n",
    "print(f\"{fahrenheit}°F is equal to {celsius:.2f}°C\")\n"
   ]
  },
  {
   "cell_type": "markdown",
   "id": "1fb51174-8221-4a5b-ae20-0d48c87cf657",
   "metadata": {},
   "source": [
    "### 3.take temperature from the user and convert Celsius → foreign heat."
   ]
  },
  {
   "cell_type": "code",
   "execution_count": 3,
   "id": "3fb323be-787f-4008-97c2-ac3459b7aad2",
   "metadata": {},
   "outputs": [
    {
     "name": "stdin",
     "output_type": "stream",
     "text": [
      "Enter temperature in Celsius:  45\n"
     ]
    },
    {
     "name": "stdout",
     "output_type": "stream",
     "text": [
      "45.0°C is equal to 113.0°F\n"
     ]
    }
   ],
   "source": [
    "celsius = float(input(\"Enter temperature in Celsius: \"))\n",
    "fahrenheit = (celsius * 9/5) + 32\n",
    "print(f\"{celsius}°C is equal to {fahrenheit}°F\")"
   ]
  },
  {
   "cell_type": "markdown",
   "id": "5b59b14c-3d84-4254-b9ad-ed491446aca6",
   "metadata": {},
   "source": [
    "### 4.take four number from the user (variables name it as x1,x2,x3,x4)"
   ]
  },
  {
   "cell_type": "raw",
   "id": "d425346f-4b7d-4f3a-ad34-fa058ffc9071",
   "metadata": {},
   "source": [
    "Do the below operations\n",
    "(x1+x2)**2, (x3+x4)**3\n",
    "variance\n",
    "    standard deviation: sqrt(variance):  User math module. Math.sqrt(variance)\n",
    "Regression\n",
    "    \ty=mx+b\n",
    "          m=1.23\n",
    "          b=0.045\n",
    "          find out y\n",
    "          y=m*(x1+x2+x3+x4)+b\n",
    " Find the average of four numbers\n",
    "Find the sum of four numbers"
   ]
  },
  {
   "cell_type": "code",
   "execution_count": 15,
   "id": "f7875f7c-1231-4140-891d-d244eb7eb3c9",
   "metadata": {},
   "outputs": [
    {
     "name": "stdin",
     "output_type": "stream",
     "text": [
      "Enter the value of x1:  2\n",
      "Enter the value of x2:  4\n",
      "Enter the value of x3:  6\n",
      "Enter the value of x4:  8\n"
     ]
    },
    {
     "name": "stdout",
     "output_type": "stream",
     "text": [
      "The result of (x1 + x2)^2 is: 36\n",
      "The result of (x3 + x4)^3 is: 2744\n",
      "5\n",
      " variance :  6.666666666666667\n",
      "regression :  24.645000000000003\n",
      "standard deviationRegression 2.581988897471611\n",
      "average of four numbers :  5\n",
      "sum of 4 numbers :  20\n"
     ]
    }
   ],
   "source": [
    "# Taking four integer inputs from the user\n",
    "import math \n",
    "x1 = int(input(\"Enter the value of x1: \"))\n",
    "x2 = int(input(\"Enter the value of x2: \"))\n",
    "x3 = int(input(\"Enter the value of x3: \"))\n",
    "x4 = int(input(\"Enter the value of x4: \"))\n",
    "\n",
    "# Calculating the expressions\n",
    "result1 = (x1 + x2) ** 2\n",
    "result2 = (x3 + x4) ** 3\n",
    "\n",
    "# Printing the results\n",
    "print(\"The result of (x1 + x2)^2 is:\", result1)\n",
    "print(\"The result of (x3 + x4)^3 is:\", result2)\n",
    "\n",
    "### mean value \n",
    "mean = (x1 + x2+ x3 + x4 )//4 \n",
    "print(mean)\n",
    "## Squared Differences\n",
    "numbers = (x1 , x2, x3 , x4 )\n",
    "sum_sqd_numbers = 0\n",
    "sqd_numbers = []\n",
    "for i in numbers:\n",
    "    sqd = (i - mean) ** 2\n",
    "    sum_sqd_numbers += sqd\n",
    "    sqd_numbers.append(sqd)\n",
    "variance = sum_sqd_numbers/(4-1)\n",
    "print(\" variance : \",variance)    \n",
    "# standard deviationRegression\n",
    "std_dev = math.sqrt(variance)\n",
    "#print(std_dev)\n",
    "# Regression\n",
    "\n",
    "## y=mx+b\n",
    "m=1.23\n",
    "b=0.045\n",
    "y  =  m * (x1+x2+x3+x4) +b\n",
    "print(\"regression : \", y)\n",
    "print(\"standard deviationRegression : \",std_dev)\n",
    "print(\"average of four numbers : \",mean)\n",
    "print(\"sum of 4 numbers : \",(x1+x2+x3+x4))\n",
    "\n",
    "    \n",
    "    \n",
    "    "
   ]
  },
  {
   "cell_type": "markdown",
   "id": "9304e260-f6ee-48de-81d7-4d722b0eacc7",
   "metadata": {},
   "source": [
    "### 5. Take the distance in km Show that in cm, meters, in milli meters, cents, feets, yards"
   ]
  },
  {
   "cell_type": "code",
   "execution_count": 16,
   "id": "51c914f1-80c4-42fc-966b-423ffd138c0c",
   "metadata": {},
   "outputs": [
    {
     "name": "stdin",
     "output_type": "stream",
     "text": [
      "Enter distance in km : 45\n"
     ]
    },
    {
     "name": "stdout",
     "output_type": "stream",
     "text": [
      "Distance: 45 kilometers\n",
      "  Meters: 45000 m\n",
      "  Centimeters: 4500000 cm\n",
      "  Millimeters: 45000000 mm\n",
      "  Feet: 147637.80000000002 ft\n",
      "  Yards: 49212.45 yd\n"
     ]
    }
   ],
   "source": [
    "km = int(input(\"Enter distance in km: \"))\n",
    "\n",
    "# Conversions\n",
    "meters = km * 1000\n",
    "centimeters = km * 100000\n",
    "millimeters = km * 1000000\n",
    "feet = km * 3280.84\n",
    "yards = km * 1093.61\n",
    "# Convert km to square feet (assuming 1 km² = 10,763,910 square feet)\n",
    "square_feet = (km ** 2) * 10763910\n",
    "cents = square_feet / 435.56\n",
    "\n",
    "# Output\n",
    "print(f\"Distance: {km} kilometers\")\n",
    "print(f\"  Meters: {meters} m\")\n",
    "print(f\"  Centimeters: {centimeters} cm\")\n",
    "print(f\"  Millimeters: {millimeters} mm\")\n",
    "print(f\"  Feet: {feet} ft\")\n",
    "print(f\"  Yards: {yards} yd\")\n",
    "print(f\"  Square Feet: {square_feet:.2f} sq ft\")\n",
    "print(f\"  Cents: {cents:.2f} cent\")\n"
   ]
  },
  {
   "cell_type": "markdown",
   "id": "fb60408a-9775-4b36-8ede-f4d4ab7d2ea0",
   "metadata": {},
   "source": [
    "### 6.Take the size of your hard disk in GB Show that in MB, KB, TB, PB"
   ]
  },
  {
   "cell_type": "code",
   "execution_count": 18,
   "id": "ec1e78bd-0bd6-4865-b4cf-2454bed31642",
   "metadata": {},
   "outputs": [
    {
     "name": "stdin",
     "output_type": "stream",
     "text": [
      "Enter size of the disk : 522\n"
     ]
    },
    {
     "name": "stdout",
     "output_type": "stream",
     "text": [
      "Size: 522 GB\n",
      "  Megabytes: 534528 MB\n",
      "  Kilobytes: 547356672 KB\n",
      "  Terabytes: 0.509765625 TB\n",
      "  Petabytes: 0.0004978179931640625 PB\n"
     ]
    }
   ],
   "source": [
    "size_gb = int(input(\"Enter size of the disk :\"))\n",
    "mb = size_gb * 1024\n",
    "kb = size_gb * 1024 * 1024\n",
    "tb = size_gb / 1024\n",
    "pb = size_gb / (1024 * 1024)\n",
    "\n",
    "# Print the results\n",
    "print(f\"Size: {size_gb} GB\")\n",
    "print(f\"  Megabytes: {mb} MB\")\n",
    "print(f\"  Kilobytes: {kb} KB\")\n",
    "print(f\"  Terabytes: {tb} TB\")\n",
    "print(f\"  Petabytes: {pb} PB\")\n"
   ]
  },
  {
   "cell_type": "markdown",
   "id": "a84282c3-1f89-4114-8a0d-f2ccbba8c237",
   "metadata": {},
   "source": [
    "###  7.  Take name, age, height from the user and print like below\n",
    "The details of the person: Name:name of the person, Age:age of the person, Height:height of the person\n",
    "Note: make sure that no space between : and a value and should be space after “COMA”"
   ]
  },
  {
   "cell_type": "code",
   "execution_count": 19,
   "id": "f5d1d66b-d2f5-4b21-bce3-5922530fee9a",
   "metadata": {},
   "outputs": [
    {
     "name": "stdin",
     "output_type": "stream",
     "text": [
      "Enter your name:  naresh\n",
      "Enter your age:  19\n",
      "Enter your height (in cm):  22.1\n"
     ]
    },
    {
     "name": "stdout",
     "output_type": "stream",
     "text": [
      "The details of the person: Name:naresh, Age:19, Height:22.1\n"
     ]
    }
   ],
   "source": [
    "# Take user inputs\n",
    "name = input(\"Enter your name: \")\n",
    "age = input(\"Enter your age: \")\n",
    "height = input(\"Enter your height (in cm): \")\n",
    "\n",
    "# Print the details in the specified format\n",
    "print(f\"The details of the person: Name:{name}, Age:{age}, Height:{height}\")\n"
   ]
  },
  {
   "cell_type": "markdown",
   "id": "64c30dca-31b7-440a-9280-9313a2e95ad4",
   "metadata": {},
   "source": [
    "### 8. BMI calculation: take required parameters for BMI calculation from the user and calculate BMI of the person"
   ]
  },
  {
   "cell_type": "code",
   "execution_count": 24,
   "id": "224b7f3f-3f97-485f-b71f-5e5b3452287b",
   "metadata": {},
   "outputs": [
    {
     "name": "stdin",
     "output_type": "stream",
     "text": [
      "Enter your weight in kilograms (kg):  75\n",
      "Enter your height in meters (m):  1.557528\n"
     ]
    },
    {
     "name": "stdout",
     "output_type": "stream",
     "text": [
      "Your BMI is: 30.92\n",
      "You are obese.\n"
     ]
    }
   ],
   "source": [
    "# Get user input for weight and height\n",
    "weight = float(input(\"Enter your weight in kilograms (kg): \"))\n",
    "height = float(input(\"Enter your height in meters (m): \"))\n",
    "# Calculate BMI\n",
    "bmi = weight / (height ** 2)\n",
    "print(f\"Your BMI is: {bmi:.2f}\")\n",
    "if bmi < 18.5:\n",
    "    print(\"You are underweight.\")\n",
    "elif 18.5 <= bmi < 24.9:\n",
    "    print(\"You have a normal weight.\")\n",
    "elif 25 <= bmi < 29.9:\n",
    "    print(\"You are overweight.\")\n",
    "else:\n",
    "    print(\"You are obese.\")\n"
   ]
  },
  {
   "cell_type": "raw",
   "id": "b16a2392-b781-458f-8cae-b22eedd57e2d",
   "metadata": {},
   "source": [
    "9. name=\"Jayaram\"\n",
    "age=1.6\n",
    "height=3.5356234\n",
    "weight=10.343856783\n",
    "By using above inputs print the output\n",
    "Name:Jayaram, Age:1.6, Height:3.54, Weight:10.344\n",
    "Note: Use format specifiers(%s, %d, %f)"
   ]
  },
  {
   "cell_type": "code",
   "execution_count": 25,
   "id": "67de4021-19b3-406a-a435-65f91aac206a",
   "metadata": {},
   "outputs": [
    {
     "name": "stdout",
     "output_type": "stream",
     "text": [
      "Name: Jayaram, Age: 1.6, Height: 3.54, Weight: 10.344\n"
     ]
    }
   ],
   "source": [
    "name = \"Jayaram\"\n",
    "age = 1.6\n",
    "height = 3.5356234\n",
    "weight = 10.343856783\n",
    "\n",
    "print(\"Name: %s, Age: %.1f, Height: %.2f, Weight: %.3f\" % (name, age, height, weight))\n"
   ]
  },
  {
   "cell_type": "markdown",
   "id": "2a9bd5bb-cfe3-44a5-b44d-984f12e811f1",
   "metadata": {},
   "source": [
    "### 10. Take three upper case letters from the user convert in to small case."
   ]
  },
  {
   "cell_type": "code",
   "execution_count": 26,
   "id": "f454997f-6629-4c62-8708-36328f203301",
   "metadata": {},
   "outputs": [
    {
     "name": "stdin",
     "output_type": "stream",
     "text": [
      "Enter the first uppercase letter:  A\n",
      "Enter the second uppercase letter:  B\n",
      "Enter the third uppercase letter:  H\n"
     ]
    },
    {
     "name": "stdout",
     "output_type": "stream",
     "text": [
      "Lowercase letters: a, b, h\n"
     ]
    }
   ],
   "source": [
    "\n",
    "letter1 = input(\"Enter the first uppercase letter: \")\n",
    "letter2 = input(\"Enter the second uppercase letter: \")\n",
    "letter3 = input(\"Enter the third uppercase letter: \")\n",
    "lowercase1 = chr(ord(letter1) + 32)\n",
    "lowercase2 = chr(ord(letter2) + 32)\n",
    "lowercase3 = chr(ord(letter3) + 32)\n",
    "\n",
    "\n",
    "print(f\"Lowercase letters: {lowercase1}, {lowercase2}, {lowercase3}\")\n"
   ]
  },
  {
   "cell_type": "markdown",
   "id": "7b1e455d-d5ce-421f-bdb4-7e3cb06203fd",
   "metadata": {},
   "source": [
    "### 11. take base and exponent value from the user and print like in mathematics: example: base=2, exponent=3: 23\n",
    "Use: 2\\u00b3"
   ]
  },
  {
   "cell_type": "code",
   "execution_count": 27,
   "id": "34e98b12-12fb-4c4a-ad00-d53831addb4e",
   "metadata": {},
   "outputs": [
    {
     "name": "stdin",
     "output_type": "stream",
     "text": [
      "Enter the base:  5\n",
      "Enter the exponent:  8\n"
     ]
    },
    {
     "name": "stdout",
     "output_type": "stream",
     "text": [
      "5⁸\n"
     ]
    }
   ],
   "source": [
    "base = int(input(\"Enter the base: \"))\n",
    "exponent = int(input(\"Enter the exponent: \"))\n",
    "\n",
    "# Convert exponent to superscript using Unicode\n",
    "superscripts = {\n",
    "    '0': '\\u2070', '1': '\\u00b9', '2': '\\u00b2', '3': '\\u00b3', \n",
    "    '4': '\\u2074', '5': '\\u2075', '6': '\\u2076', '7': '\\u2077', \n",
    "    '8': '\\u2078', '9': '\\u2079'\n",
    "}\n",
    "exponent_str = ''.join(superscripts[digit] for digit in str(exponent))\n",
    "\n",
    "# Display the result in the mathematical format\n",
    "print(f\"{base}{exponent_str}\")\n"
   ]
  },
  {
   "cell_type": "markdown",
   "id": "3c15b949-5e00-498f-9333-c74afead9d9a",
   "metadata": {},
   "source": [
    "### 12. Take some groceries cost prices and print total cost and average cost, what is the max cost, what is the minimum cost."
   ]
  },
  {
   "cell_type": "code",
   "execution_count": 28,
   "id": "e0d9724e-408f-4185-8008-f3bdb342b0b1",
   "metadata": {},
   "outputs": [
    {
     "name": "stdin",
     "output_type": "stream",
     "text": [
      "Enter the cost prices of groceries (comma-separated):  5465\n"
     ]
    },
    {
     "name": "stdout",
     "output_type": "stream",
     "text": [
      "Total Cost: 5465.00\n",
      "Average Cost: 5465.00\n",
      "Maximum Cost: 5465.00\n",
      "Minimum Cost: 5465.00\n"
     ]
    }
   ],
   "source": [
    "# Take input from the user for grocery costs (comma-separated)\n",
    "costs = input(\"Enter the cost prices of groceries (comma-separated): \")\n",
    "\n",
    "# Split the input string into a list of numbers and convert them to floats\n",
    "cost_list = [float(cost) for cost in costs.split(\",\")]\n",
    "\n",
    "# Calculate total cost, average cost, maximum cost, and minimum cost\n",
    "total_cost = sum(cost_list)\n",
    "average_cost = total_cost / len(cost_list)\n",
    "max_cost = max(cost_list)\n",
    "min_cost = min(cost_list)\n",
    "\n",
    "# Display the results\n",
    "print(f\"Total Cost: {total_cost:.2f}\")\n",
    "print(f\"Average Cost: {average_cost:.2f}\")\n",
    "print(f\"Maximum Cost: {max_cost:.2f}\")\n",
    "print(f\"Minimum Cost: {min_cost:.2f}\")\n"
   ]
  },
  {
   "cell_type": "code",
   "execution_count": 31,
   "id": "e5623530-c3fb-4802-a177-df36370de3b8",
   "metadata": {},
   "outputs": [
    {
     "name": "stdout",
     "output_type": "stream",
     "text": [
      " Total cost for groceries: 325.90\n",
      " Average cost for groceries: 81.48\n",
      " Maximum cost for groceries: 200\n",
      " Minimum cost for groceries: 35\n"
     ]
    }
   ],
   "source": [
    "groceries = [35,45.3,200,45.6]\n",
    "total = sum(groceries)\n",
    "avg_cost = total/len(groceries)\n",
    "max_cost = max(groceries)\n",
    "min_cost = min(groceries)\n",
    "print(f\" Total cost for groceries: {total:.2f}\")\n",
    "print(f\" Average cost for groceries: {avg_cost:.2f}\")\n",
    "print(f\" Maximum cost for groceries: {max_cost}\")\n",
    "print(f\" Minimum cost for groceries: {min_cost}\") "
   ]
  },
  {
   "cell_type": "code",
   "execution_count": null,
   "id": "ef781965-5dd6-41cc-b96c-87231ad66070",
   "metadata": {},
   "outputs": [],
   "source": []
  }
 ],
 "metadata": {
  "kernelspec": {
   "display_name": "Python 3 (ipykernel)",
   "language": "python",
   "name": "python3"
  },
  "language_info": {
   "codemirror_mode": {
    "name": "ipython",
    "version": 3
   },
   "file_extension": ".py",
   "mimetype": "text/x-python",
   "name": "python",
   "nbconvert_exporter": "python",
   "pygments_lexer": "ipython3",
   "version": "3.12.4"
  }
 },
 "nbformat": 4,
 "nbformat_minor": 5
}
